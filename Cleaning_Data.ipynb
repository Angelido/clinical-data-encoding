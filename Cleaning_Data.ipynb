{
 "cells": [
  {
   "cell_type": "markdown",
   "metadata": {},
   "source": [
    "# Cleaning Dataset"
   ]
  },
  {
   "cell_type": "markdown",
   "metadata": {},
   "source": [
    "## Import Libraries\n",
    "\n",
    "Import the required libraries:\n",
    "- `pandas` as `pd`: Utilized for data manipulation and analysis.\n",
    "- `numpy` as `np`: Employed for numerical operations and array manipulation.\n",
    "- `matplotlib.pyplot` as `plt`: Utilized for data visualization.\n",
    "- `seaborn` as `sns`: Utilized for statistical data visualization.\n",
    "- `os`: Used for operating system dependent functionality.\n",
    "- `StandardScaler` and `MinMaxScaler` from `sklearn.preprocessing`: Utilized for feature scaling.\n",
    "- `PCA` from `sklearn.decomposition`: Utilized for principal component analysis."
   ]
  },
  {
   "cell_type": "code",
   "execution_count": 24,
   "metadata": {},
   "outputs": [],
   "source": [
    "import pandas as pd\n",
    "import numpy as np\n",
    "import matplotlib.pyplot as plt\n",
    "import seaborn as sns\n",
    "import os\n",
    "from sklearn.preprocessing import StandardScaler, MinMaxScaler\n",
    "from sklearn.decomposition import PCA\n",
    "from sklearn.ensemble import IsolationForest"
   ]
  },
  {
   "cell_type": "markdown",
   "metadata": {},
   "source": [
    "## Utility Function\n",
    "\n",
    "In this section, we will define some utility functions that we will use later in the code. These functions are designed to perform specific tasks efficiently and will help streamline our workflow as we proceed with the implementation."
   ]
  },
  {
   "cell_type": "markdown",
   "metadata": {},
   "source": [
    "### Histogram"
   ]
  },
  {
   "cell_type": "code",
   "execution_count": 2,
   "metadata": {},
   "outputs": [],
   "source": [
    "# Create a histogram\n",
    "def sea_histogram(dataframe_to_plot, column_of_interest, figsize=(8,10), title=None, xlabel=None, \n",
    "                  ylabel=None, hue=None, palette=\"deep\", stat=\"count\", binwidth=None,\n",
    "                  multiple=\"layer\", element=\"step\", fill=True, shrink=1, kde=False, color=\"blue\", \n",
    "                  log_scale=None, ylog=False, xlog=False, show_grid=False, vline=False,\n",
    "                  n_vline=0, c_vline=\"red\", discrete=False, kde_kws=None):\n",
    "    \"\"\"\n",
    "    This function creates a histogram using seaborn library with customizable options.\n",
    "\n",
    "    Parameters:\n",
    "    - dataframe_to_plot (DataFrame): DataFrame containing the data to be plotted.\n",
    "    - column_of_interest (list or str): Name of the column to be plotted on the x-axis.\n",
    "    - figsize (tuple, optional): Size of the figure (width, height).\n",
    "    - title (str, optional): Title of the plot.\n",
    "    - xlabel (str, optional): Label for the x-axis.\n",
    "    - ylabel (str, optional): Label for the y-axis.\n",
    "    - hue (str, optional): Variable used for grouping the data.\n",
    "    - palette (str, list or dict, optional): Color palette for the plot.\n",
    "    - stat (str, , optional): Statistic to compute within each bin (count, density, probability).\n",
    "    - binwidth (number, optional): Width of each bin.\n",
    "    - multiple (str, optional): Method for plotting multiple histograms (layer, dodge, stack).\n",
    "    - element (str, optional): Element to draw (step, poly).\n",
    "    - fill (bool, optional): Whether to fill the histogram bars.\n",
    "    - shrink (number, optional): Scaling factor for the width of the step/poly elements.\n",
    "    - kde (bool, optional): Whether to plot a kernel density estimate.\n",
    "    - color (str, optional): Color of the histogram bars (if hue is not specified).\n",
    "    - log_scale (str, optional): Scaling of the x or y-axis (linear, log, symlog, logit).\n",
    "    - ylog (bool, optional): Whether to use a logarithmic scale for the y-axis.\n",
    "    - xlog (bool, optional): Whether to use a logarithmic scale for the x-axis.\n",
    "    - show_grid (bool, optional): Whether to show grid lines on the plot.\n",
    "    - vline (bool, optional): Add a vertical red line.\n",
    "    - n_vline (number, optional): Position in x-axis of the vline.\n",
    "    - c_vline (str, optional): Color of the vline.\n",
    "    - discrete (bool, optional): If True, default to binwidth=1.\n",
    "    - kde_kws (dict, optional): Parameters that control the KDE computation.\n",
    "\n",
    "\n",
    "    Returns:\n",
    "    - None: The function displays the plot.\n",
    "    \"\"\"\n",
    "\n",
    "    plt.figure(figsize=figsize)\n",
    "    \n",
    "    if hue:\n",
    "        sns.histplot(data=dataframe_to_plot, x=column_of_interest, hue=hue, stat=stat, \n",
    "                     binwidth=binwidth, multiple=multiple, element=element, fill=fill, \n",
    "                     shrink=shrink, kde=kde, palette=palette, log_scale=log_scale, discrete=discrete,\n",
    "                     kde_kws=kde_kws)\n",
    "    else:\n",
    "        sns.histplot(data=dataframe_to_plot, x=column_of_interest, stat=stat, \n",
    "                     binwidth=binwidth, element=element, fill=fill,\n",
    "                     shrink=shrink, kde=kde, color=color, log_scale=log_scale, discrete=discrete,\n",
    "                     kde_kws=kde_kws)\n",
    "        \n",
    "    if ylog:\n",
    "        plt.yscale(\"log\")\n",
    "\n",
    "    if xlog:\n",
    "        plt.xscale(\"log\")\n",
    "    \n",
    "    if vline:\n",
    "        # Add a vertical red\n",
    "        plt.axvline(x=n_vline, color=c_vline, linestyle='--')  \n",
    "\n",
    "    plt.xlabel(xlabel)\n",
    "    plt.ylabel(ylabel)\n",
    "    plt.title(title)\n",
    "\n",
    "    if show_grid:\n",
    "        plt.grid(True)\n",
    "\n",
    "    plt.show()"
   ]
  },
  {
   "cell_type": "markdown",
   "metadata": {},
   "source": [
    "### Box Plot"
   ]
  },
  {
   "cell_type": "code",
   "execution_count": 3,
   "metadata": {},
   "outputs": [],
   "source": [
    "def boxplot_func(columns_of_interest, data_frame, whis=1.5, yscale=None, title=None, figsize=(8,8)):\n",
    "    \"\"\"\n",
    "    Generates a boxplot for specified columns in a DataFrame.\n",
    "\n",
    "    Parameters:\n",
    "    - columns_of_interest (list or str): List of column names or single column name to be plotted.\n",
    "    - data_frame (DataFrame): The DataFrame containing the data to be plotted.\n",
    "    - whis (float, optional): The proportion of the IQR past the low and high quartiles to extend the plot whiskers. \n",
    "                               Defaults to 1.5.\n",
    "    - yscale (str, optional): The scale of the y-axis. Supported values are 'linear', 'log', 'symlog', 'logit'.\n",
    "                               Defaults to None.\n",
    "    - title (str, optional): The title of the plot. Defaults to None.\n",
    "    - figsize (tuple, optional): Figure size (width, height) in inches. Defaults to (8, 8).\n",
    "\n",
    "    Returns:\n",
    "    - None: The function displays the plot.\n",
    "    \"\"\"\n",
    "\n",
    "    data_frame.boxplot(column=columns_of_interest, whis=whis, figsize=figsize)\n",
    "    \n",
    "    # Set y-axis scale if specified\n",
    "    if yscale is not None:\n",
    "        plt.yscale(yscale)\n",
    "\n",
    "    plt.title(title) \n",
    "    plt.show()\n"
   ]
  },
  {
   "cell_type": "markdown",
   "metadata": {},
   "source": [
    "### Pie Plot"
   ]
  },
  {
   "cell_type": "code",
   "execution_count": 4,
   "metadata": {},
   "outputs": [],
   "source": [
    "def pieplot_func(value_counts_to_plot, labels, figsize=(8, 8), title=None, autopct_value='%1.1f%%', labeldistance=1.1):\n",
    "    \"\"\"\n",
    "    Create a pie chart to visualize the distribution of values.\n",
    "\n",
    "    Args:\n",
    "    - value_counts_to_plot (array-like): The values to plot.\n",
    "    - labels (array-like): Corresponding labels for the values.\n",
    "    - figsize (tuple, optional): Figure size (width, height) in inches. Defaults to (8, 8).\n",
    "    - title (str, optional): Title of the pie chart. Defaults to None.\n",
    "    - autopct_value (str, optional): Format string for autopct parameter in percentage display. \n",
    "                                     Defaults to '%1.1f%%'.\n",
    "    - labeldistance (float, optional): The radial distance at which the labels are drawn. Defaults to 1.1.\n",
    "\n",
    "    Returns:\n",
    "    - None: Displays the pie chart.\n",
    "    \"\"\"\n",
    "    plt.figure(figsize=figsize)\n",
    "    \n",
    "    # Plot pie chart with autopct if provided\n",
    "    if autopct_value is not None:\n",
    "        plt.pie(value_counts_to_plot, labels=labels, autopct=autopct_value, startangle=90, labeldistance=labeldistance)\n",
    "    else:\n",
    "        plt.pie(value_counts_to_plot, labels=labels, startangle=90, labeldistance=labeldistance)\n",
    "    \n",
    "    plt.title(title)\n",
    "    plt.show()\n"
   ]
  },
  {
   "cell_type": "markdown",
   "metadata": {},
   "source": [
    "### Sorting Columns"
   ]
  },
  {
   "cell_type": "code",
   "execution_count": 5,
   "metadata": {},
   "outputs": [],
   "source": [
    "def reorder_columns(dataframe, columns):\n",
    "    \"\"\"\n",
    "    Reorders the columns of the DataFrame based on the number of unique values in each column.\n",
    "    Columns with only two unique values are placed first, followed by other columns.\n",
    "\n",
    "    Parameters:\n",
    "    - dataframe (DataFrame): The pandas DataFrame.\n",
    "    - columns (list): A list containing the names of the columns to be reordered.\n",
    "\n",
    "    Returns:\n",
    "    - list: A list containing the reordered column names.\n",
    "    \"\"\"\n",
    "\n",
    "    reordered_columns = []  # List to store column names with only two unique values\n",
    "    non_bin_columns = []     # List to store column names with more than two unique values\n",
    "\n",
    "    # Iterate through the specified columns\n",
    "    for col in columns:\n",
    "        # Check if the number of unique values in the column is equal to 2\n",
    "        if dataframe[col].nunique() == 2:\n",
    "            # If yes, append the column name to reordered_columns\n",
    "            reordered_columns.append(col)\n",
    "        else:\n",
    "            # If no, append the column name to non_bin_columns\n",
    "            non_bin_columns.append(col)\n",
    "\n",
    "    # Combine the two lists to get the final reordered column order\n",
    "    reordered_columns = reordered_columns + non_bin_columns\n",
    "    \n",
    "    return reordered_columns\n"
   ]
  },
  {
   "cell_type": "markdown",
   "metadata": {},
   "source": [
    "### Remove Outliers"
   ]
  },
  {
   "cell_type": "code",
   "execution_count": 6,
   "metadata": {},
   "outputs": [],
   "source": [
    "def remove_outliers(dataframe, column_name, threshold, minor=False):\n",
    "    \"\"\"\n",
    "    Remove outliers from a specific column in the dataframe based on a threshold.\n",
    "\n",
    "    Args:\n",
    "    - dataframe (DataFrame): The pandas DataFrame.\n",
    "    - column_name (str): The name of the column containing the values to be checked for outliers.\n",
    "    - threshold (float): The threshold value above which outliers will be removed.\n",
    "    - minor (bool, optional): If True, remove values below the threshold. If False (default), remove values above the threshold.\n",
    "\n",
    "    Returns:\n",
    "    - DataFrame: The modified DataFrame with outliers removed.\n",
    "    \"\"\"\n",
    "    if not minor:\n",
    "        dataframe.loc[dataframe[column_name] > threshold, column_name] = np.nan\n",
    "    else:\n",
    "        dataframe.loc[dataframe[column_name] < threshold, column_name] = np.nan\n",
    "\n",
    "    return dataframe[column_name]"
   ]
  },
  {
   "cell_type": "markdown",
   "metadata": {},
   "source": [
    "## Loading Datasets\n",
    "\n",
    "We start by reading data from three Excel files and store them in pandas DataFrames:\n",
    "\n",
    "- `chl_dataset`: Data from the \"OrmoniTiroidei3Aprile2024.xlsx\" file. Our main dataset.\n",
    "- `date_dataset`: Data from the \"DataPrelievo.xlsx\" file.\n",
    "- `creatinina_dataset`: Data from the \"Creatinina_AltriEsamiCorretti.xlsx\" file.\n"
   ]
  },
  {
   "cell_type": "code",
   "execution_count": 7,
   "metadata": {},
   "outputs": [],
   "source": [
    "chl_dataset=pd.read_excel(\"Datasets/OrmoniTiroidei3Aprile2024.xlsx\")\n",
    "date_dataset=pd.read_excel(\"Datasets/DataPrelievo.xlsx\")\n",
    "creatinina_dataset=pd.read_excel(\"Datasets/Creatinina_AltriEsamiCorretti.xlsx\")"
   ]
  },
  {
   "cell_type": "code",
   "execution_count": 8,
   "metadata": {},
   "outputs": [],
   "source": [
    "#To display all columns\n",
    "pd.options.display.max_columns = None\n",
    "pd.options.display.max_rows = None"
   ]
  },
  {
   "cell_type": "markdown",
   "metadata": {},
   "source": [
    "We now print the first few rows of DataFrames, using the `.head()`command and allowing for quick inspection of the data."
   ]
  },
  {
   "cell_type": "code",
   "execution_count": 9,
   "metadata": {},
   "outputs": [
    {
     "data": {
      "text/html": [
       "<div>\n",
       "<style scoped>\n",
       "    .dataframe tbody tr th:only-of-type {\n",
       "        vertical-align: middle;\n",
       "    }\n",
       "\n",
       "    .dataframe tbody tr th {\n",
       "        vertical-align: top;\n",
       "    }\n",
       "\n",
       "    .dataframe thead th {\n",
       "        text-align: right;\n",
       "    }\n",
       "</style>\n",
       "<table border=\"1\" class=\"dataframe\">\n",
       "  <thead>\n",
       "    <tr style=\"text-align: right;\">\n",
       "      <th></th>\n",
       "      <th>Number</th>\n",
       "      <th>Gender (Male = 1)</th>\n",
       "      <th>Age</th>\n",
       "      <th>Total cholesterol</th>\n",
       "      <th>HDL</th>\n",
       "      <th>LDL</th>\n",
       "      <th>Triglycerides</th>\n",
       "      <th>Glycemia</th>\n",
       "      <th>TSH</th>\n",
       "      <th>fT3</th>\n",
       "      <th>fT4</th>\n",
       "      <th>Euthyroid</th>\n",
       "      <th>Subclinical primary hypothyroidism (SCH)</th>\n",
       "      <th>Subclinical primary hyperthyroidism\\n(SCT)</th>\n",
       "      <th>Low T3</th>\n",
       "      <th>Ipotiroidismo</th>\n",
       "      <th>Ipertiroidismo</th>\n",
       "      <th>Angina</th>\n",
       "      <th>Previous CABG</th>\n",
       "      <th>Previous PCI</th>\n",
       "      <th>Previous Myocardial Infarction</th>\n",
       "      <th>Acute Myocardial Infarction</th>\n",
       "      <th>Angiography</th>\n",
       "      <th>Vessels</th>\n",
       "      <th>CAD</th>\n",
       "      <th>Documented resting \\nor exertional ischemia</th>\n",
       "      <th>Post-ischemic Dilated\\nCardiomyopathy</th>\n",
       "      <th>Primary Dilated\\nCardiomyopathy</th>\n",
       "      <th>Normal</th>\n",
       "      <th>SindromeX</th>\n",
       "      <th>AMI</th>\n",
       "      <th>PMI</th>\n",
       "      <th>Aritmie</th>\n",
       "      <th>MIN</th>\n",
       "      <th>MIO</th>\n",
       "      <th>Miocardite</th>\n",
       "      <th>Pericardite</th>\n",
       "      <th>Endocardite</th>\n",
       "      <th>Valvulopatie</th>\n",
       "      <th>MalattiaVasoAorta</th>\n",
       "      <th>Ipertensione</th>\n",
       "      <th>CardiopatiaCongenita</th>\n",
       "      <th>EmboliaPolmonare</th>\n",
       "      <th>EPA</th>\n",
       "      <th>HR</th>\n",
       "      <th>Weight</th>\n",
       "      <th>Height</th>\n",
       "      <th>BMI</th>\n",
       "      <th>Diastolic blood pressure</th>\n",
       "      <th>Systolic blood pressure</th>\n",
       "      <th>Smoke\\nHistory of smoke</th>\n",
       "      <th>Diabetes\\nHistory of diabetes</th>\n",
       "      <th>Hypertension\\nHistory of hypertension</th>\n",
       "      <th>Dyslipidemia\\nHystory of dyslipidemia</th>\n",
       "      <th>Atrial Fibrillation</th>\n",
       "      <th>WmsiBas</th>\n",
       "      <th>DimSettoIV</th>\n",
       "      <th>DimPP</th>\n",
       "      <th>fe</th>\n",
       "      <th>vsx</th>\n",
       "      <th>B-Blockers</th>\n",
       "      <th>Amiodarone</th>\n",
       "      <th>Calcium channel blockers</th>\n",
       "      <th>Diuretics</th>\n",
       "      <th>Antiplatelet</th>\n",
       "      <th>Nitrates</th>\n",
       "      <th>ACE-inhibitors</th>\n",
       "      <th>Ipolipemizzanti</th>\n",
       "      <th>Antidiabetici</th>\n",
       "      <th>Follow Up Data</th>\n",
       "      <th>Data of death</th>\n",
       "      <th>Cause of death</th>\n",
       "      <th>Collected by</th>\n",
       "      <th>Total mortality</th>\n",
       "      <th>CVD Death</th>\n",
       "      <th>Fatal MI or Sudden death</th>\n",
       "      <th>UnKnown</th>\n",
       "      <th>Accident</th>\n",
       "      <th>Suicide</th>\n",
       "      <th>CABG</th>\n",
       "      <th>Non Fatal AMI (Follow-Up)</th>\n",
       "      <th>Ictus</th>\n",
       "      <th>PCI</th>\n",
       "    </tr>\n",
       "  </thead>\n",
       "  <tbody>\n",
       "    <tr>\n",
       "      <th>0</th>\n",
       "      <td>1.0</td>\n",
       "      <td>1.0</td>\n",
       "      <td>56.033708</td>\n",
       "      <td>196.0</td>\n",
       "      <td>52.0</td>\n",
       "      <td>118.0</td>\n",
       "      <td>130.0</td>\n",
       "      <td>104.0</td>\n",
       "      <td>1.26</td>\n",
       "      <td>2.72</td>\n",
       "      <td>12.3</td>\n",
       "      <td>1.0</td>\n",
       "      <td>0.0</td>\n",
       "      <td>0.0</td>\n",
       "      <td>0.0</td>\n",
       "      <td>0.0</td>\n",
       "      <td>0.0</td>\n",
       "      <td>1.0</td>\n",
       "      <td>1.0</td>\n",
       "      <td>1.0</td>\n",
       "      <td>1.0</td>\n",
       "      <td>0.0</td>\n",
       "      <td>1.0</td>\n",
       "      <td>3.0</td>\n",
       "      <td>1.0</td>\n",
       "      <td>1.0</td>\n",
       "      <td>1.0</td>\n",
       "      <td>0.0</td>\n",
       "      <td>0.0</td>\n",
       "      <td>0.0</td>\n",
       "      <td>0.0</td>\n",
       "      <td>1.0</td>\n",
       "      <td>0.0</td>\n",
       "      <td>0.0</td>\n",
       "      <td>0.0</td>\n",
       "      <td>0.0</td>\n",
       "      <td>0.0</td>\n",
       "      <td>0.0</td>\n",
       "      <td>0.0</td>\n",
       "      <td>0.0</td>\n",
       "      <td>0.0</td>\n",
       "      <td>0.0</td>\n",
       "      <td>0.0</td>\n",
       "      <td>0.0</td>\n",
       "      <td>55.0</td>\n",
       "      <td>72.0</td>\n",
       "      <td>165.0</td>\n",
       "      <td>26.446281</td>\n",
       "      <td>65.0</td>\n",
       "      <td>100.0</td>\n",
       "      <td>0.0</td>\n",
       "      <td>0.0</td>\n",
       "      <td>0.0</td>\n",
       "      <td>1.0</td>\n",
       "      <td>0.0</td>\n",
       "      <td>2.44</td>\n",
       "      <td>10.0</td>\n",
       "      <td>9.0</td>\n",
       "      <td>35.0</td>\n",
       "      <td>56.0</td>\n",
       "      <td>1.0</td>\n",
       "      <td>0.0</td>\n",
       "      <td>0.0</td>\n",
       "      <td>1.0</td>\n",
       "      <td>1.0</td>\n",
       "      <td>1.0</td>\n",
       "      <td>1.0</td>\n",
       "      <td>0.0</td>\n",
       "      <td>0.0</td>\n",
       "      <td>2013-09-20</td>\n",
       "      <td>NaT</td>\n",
       "      <td>NaN</td>\n",
       "      <td>NaN</td>\n",
       "      <td>0.0</td>\n",
       "      <td>0.0</td>\n",
       "      <td>0.0</td>\n",
       "      <td>0.0</td>\n",
       "      <td>0.0</td>\n",
       "      <td>0.0</td>\n",
       "      <td>2004-12-01</td>\n",
       "      <td>NaT</td>\n",
       "      <td>NaT</td>\n",
       "      <td>NaT</td>\n",
       "    </tr>\n",
       "    <tr>\n",
       "      <th>1</th>\n",
       "      <td>2.0</td>\n",
       "      <td>1.0</td>\n",
       "      <td>62.898876</td>\n",
       "      <td>123.0</td>\n",
       "      <td>43.0</td>\n",
       "      <td>71.0</td>\n",
       "      <td>45.0</td>\n",
       "      <td>220.0</td>\n",
       "      <td>0.73</td>\n",
       "      <td>2.78</td>\n",
       "      <td>12.5</td>\n",
       "      <td>1.0</td>\n",
       "      <td>0.0</td>\n",
       "      <td>0.0</td>\n",
       "      <td>0.0</td>\n",
       "      <td>0.0</td>\n",
       "      <td>0.0</td>\n",
       "      <td>0.0</td>\n",
       "      <td>0.0</td>\n",
       "      <td>0.0</td>\n",
       "      <td>0.0</td>\n",
       "      <td>0.0</td>\n",
       "      <td>0.0</td>\n",
       "      <td>0.0</td>\n",
       "      <td>0.0</td>\n",
       "      <td>0.0</td>\n",
       "      <td>0.0</td>\n",
       "      <td>0.0</td>\n",
       "      <td>0.0</td>\n",
       "      <td>0.0</td>\n",
       "      <td>0.0</td>\n",
       "      <td>0.0</td>\n",
       "      <td>1.0</td>\n",
       "      <td>0.0</td>\n",
       "      <td>0.0</td>\n",
       "      <td>0.0</td>\n",
       "      <td>0.0</td>\n",
       "      <td>0.0</td>\n",
       "      <td>0.0</td>\n",
       "      <td>0.0</td>\n",
       "      <td>0.0</td>\n",
       "      <td>0.0</td>\n",
       "      <td>0.0</td>\n",
       "      <td>0.0</td>\n",
       "      <td>70.0</td>\n",
       "      <td>80.0</td>\n",
       "      <td>170.0</td>\n",
       "      <td>27.681661</td>\n",
       "      <td>70.0</td>\n",
       "      <td>140.0</td>\n",
       "      <td>1.0</td>\n",
       "      <td>1.0</td>\n",
       "      <td>0.0</td>\n",
       "      <td>1.0</td>\n",
       "      <td>0.0</td>\n",
       "      <td>1.18</td>\n",
       "      <td>11.0</td>\n",
       "      <td>9.0</td>\n",
       "      <td>53.0</td>\n",
       "      <td>54.0</td>\n",
       "      <td>0.0</td>\n",
       "      <td>0.0</td>\n",
       "      <td>0.0</td>\n",
       "      <td>0.0</td>\n",
       "      <td>0.0</td>\n",
       "      <td>0.0</td>\n",
       "      <td>1.0</td>\n",
       "      <td>1.0</td>\n",
       "      <td>1.0</td>\n",
       "      <td>2013-01-08</td>\n",
       "      <td>NaT</td>\n",
       "      <td>NaN</td>\n",
       "      <td>NaN</td>\n",
       "      <td>0.0</td>\n",
       "      <td>0.0</td>\n",
       "      <td>0.0</td>\n",
       "      <td>0.0</td>\n",
       "      <td>0.0</td>\n",
       "      <td>0.0</td>\n",
       "      <td>NaT</td>\n",
       "      <td>NaT</td>\n",
       "      <td>NaT</td>\n",
       "      <td>NaT</td>\n",
       "    </tr>\n",
       "    <tr>\n",
       "      <th>2</th>\n",
       "      <td>3.0</td>\n",
       "      <td>1.0</td>\n",
       "      <td>60.876404</td>\n",
       "      <td>248.0</td>\n",
       "      <td>37.0</td>\n",
       "      <td>180.0</td>\n",
       "      <td>157.0</td>\n",
       "      <td>87.0</td>\n",
       "      <td>1.65</td>\n",
       "      <td>1.74</td>\n",
       "      <td>8.2</td>\n",
       "      <td>0.0</td>\n",
       "      <td>0.0</td>\n",
       "      <td>0.0</td>\n",
       "      <td>1.0</td>\n",
       "      <td>0.0</td>\n",
       "      <td>0.0</td>\n",
       "      <td>1.0</td>\n",
       "      <td>0.0</td>\n",
       "      <td>0.0</td>\n",
       "      <td>1.0</td>\n",
       "      <td>0.0</td>\n",
       "      <td>1.0</td>\n",
       "      <td>3.0</td>\n",
       "      <td>1.0</td>\n",
       "      <td>1.0</td>\n",
       "      <td>0.0</td>\n",
       "      <td>0.0</td>\n",
       "      <td>0.0</td>\n",
       "      <td>0.0</td>\n",
       "      <td>0.0</td>\n",
       "      <td>1.0</td>\n",
       "      <td>0.0</td>\n",
       "      <td>0.0</td>\n",
       "      <td>0.0</td>\n",
       "      <td>0.0</td>\n",
       "      <td>0.0</td>\n",
       "      <td>0.0</td>\n",
       "      <td>0.0</td>\n",
       "      <td>0.0</td>\n",
       "      <td>0.0</td>\n",
       "      <td>0.0</td>\n",
       "      <td>0.0</td>\n",
       "      <td>0.0</td>\n",
       "      <td>70.0</td>\n",
       "      <td>73.0</td>\n",
       "      <td>170.0</td>\n",
       "      <td>25.259516</td>\n",
       "      <td>80.0</td>\n",
       "      <td>140.0</td>\n",
       "      <td>0.0</td>\n",
       "      <td>0.0</td>\n",
       "      <td>0.0</td>\n",
       "      <td>1.0</td>\n",
       "      <td>0.0</td>\n",
       "      <td>1.29</td>\n",
       "      <td>10.0</td>\n",
       "      <td>10.0</td>\n",
       "      <td>48.0</td>\n",
       "      <td>54.0</td>\n",
       "      <td>1.0</td>\n",
       "      <td>0.0</td>\n",
       "      <td>0.0</td>\n",
       "      <td>0.0</td>\n",
       "      <td>1.0</td>\n",
       "      <td>1.0</td>\n",
       "      <td>0.0</td>\n",
       "      <td>1.0</td>\n",
       "      <td>0.0</td>\n",
       "      <td>2013-05-14</td>\n",
       "      <td>NaT</td>\n",
       "      <td>NaN</td>\n",
       "      <td>NaN</td>\n",
       "      <td>0.0</td>\n",
       "      <td>0.0</td>\n",
       "      <td>0.0</td>\n",
       "      <td>0.0</td>\n",
       "      <td>0.0</td>\n",
       "      <td>0.0</td>\n",
       "      <td>2004-02-19</td>\n",
       "      <td>NaT</td>\n",
       "      <td>NaT</td>\n",
       "      <td>NaT</td>\n",
       "    </tr>\n",
       "    <tr>\n",
       "      <th>3</th>\n",
       "      <td>4.0</td>\n",
       "      <td>1.0</td>\n",
       "      <td>75.396067</td>\n",
       "      <td>NaN</td>\n",
       "      <td>NaN</td>\n",
       "      <td>NaN</td>\n",
       "      <td>NaN</td>\n",
       "      <td>NaN</td>\n",
       "      <td>0.40</td>\n",
       "      <td>7.20</td>\n",
       "      <td>17.2</td>\n",
       "      <td>0.0</td>\n",
       "      <td>0.0</td>\n",
       "      <td>0.0</td>\n",
       "      <td>0.0</td>\n",
       "      <td>0.0</td>\n",
       "      <td>1.0</td>\n",
       "      <td>1.0</td>\n",
       "      <td>1.0</td>\n",
       "      <td>0.0</td>\n",
       "      <td>1.0</td>\n",
       "      <td>0.0</td>\n",
       "      <td>0.0</td>\n",
       "      <td>0.0</td>\n",
       "      <td>1.0</td>\n",
       "      <td>1.0</td>\n",
       "      <td>0.0</td>\n",
       "      <td>0.0</td>\n",
       "      <td>0.0</td>\n",
       "      <td>0.0</td>\n",
       "      <td>0.0</td>\n",
       "      <td>1.0</td>\n",
       "      <td>1.0</td>\n",
       "      <td>0.0</td>\n",
       "      <td>0.0</td>\n",
       "      <td>0.0</td>\n",
       "      <td>0.0</td>\n",
       "      <td>0.0</td>\n",
       "      <td>0.0</td>\n",
       "      <td>0.0</td>\n",
       "      <td>0.0</td>\n",
       "      <td>0.0</td>\n",
       "      <td>0.0</td>\n",
       "      <td>0.0</td>\n",
       "      <td>75.0</td>\n",
       "      <td>75.0</td>\n",
       "      <td>172.0</td>\n",
       "      <td>25.351541</td>\n",
       "      <td>60.0</td>\n",
       "      <td>120.0</td>\n",
       "      <td>1.0</td>\n",
       "      <td>0.0</td>\n",
       "      <td>0.0</td>\n",
       "      <td>0.0</td>\n",
       "      <td>0.0</td>\n",
       "      <td>NaN</td>\n",
       "      <td>NaN</td>\n",
       "      <td>NaN</td>\n",
       "      <td>39.0</td>\n",
       "      <td>67.0</td>\n",
       "      <td>0.0</td>\n",
       "      <td>0.0</td>\n",
       "      <td>0.0</td>\n",
       "      <td>1.0</td>\n",
       "      <td>1.0</td>\n",
       "      <td>1.0</td>\n",
       "      <td>0.0</td>\n",
       "      <td>0.0</td>\n",
       "      <td>0.0</td>\n",
       "      <td>1994-06-29</td>\n",
       "      <td>1994-06-29</td>\n",
       "      <td>Other cardiac causes</td>\n",
       "      <td>Necropsy certificate</td>\n",
       "      <td>1.0</td>\n",
       "      <td>1.0</td>\n",
       "      <td>0.0</td>\n",
       "      <td>0.0</td>\n",
       "      <td>0.0</td>\n",
       "      <td>0.0</td>\n",
       "      <td>NaT</td>\n",
       "      <td>NaT</td>\n",
       "      <td>NaT</td>\n",
       "      <td>NaT</td>\n",
       "    </tr>\n",
       "    <tr>\n",
       "      <th>4</th>\n",
       "      <td>5.0</td>\n",
       "      <td>1.0</td>\n",
       "      <td>80.803371</td>\n",
       "      <td>139.0</td>\n",
       "      <td>33.0</td>\n",
       "      <td>81.0</td>\n",
       "      <td>126.0</td>\n",
       "      <td>103.0</td>\n",
       "      <td>7.32</td>\n",
       "      <td>2.22</td>\n",
       "      <td>11.9</td>\n",
       "      <td>0.0</td>\n",
       "      <td>1.0</td>\n",
       "      <td>0.0</td>\n",
       "      <td>0.0</td>\n",
       "      <td>0.0</td>\n",
       "      <td>0.0</td>\n",
       "      <td>1.0</td>\n",
       "      <td>1.0</td>\n",
       "      <td>1.0</td>\n",
       "      <td>1.0</td>\n",
       "      <td>0.0</td>\n",
       "      <td>1.0</td>\n",
       "      <td>3.0</td>\n",
       "      <td>1.0</td>\n",
       "      <td>1.0</td>\n",
       "      <td>1.0</td>\n",
       "      <td>0.0</td>\n",
       "      <td>0.0</td>\n",
       "      <td>0.0</td>\n",
       "      <td>0.0</td>\n",
       "      <td>1.0</td>\n",
       "      <td>1.0</td>\n",
       "      <td>0.0</td>\n",
       "      <td>0.0</td>\n",
       "      <td>0.0</td>\n",
       "      <td>0.0</td>\n",
       "      <td>0.0</td>\n",
       "      <td>1.0</td>\n",
       "      <td>0.0</td>\n",
       "      <td>1.0</td>\n",
       "      <td>0.0</td>\n",
       "      <td>0.0</td>\n",
       "      <td>0.0</td>\n",
       "      <td>70.0</td>\n",
       "      <td>69.0</td>\n",
       "      <td>168.0</td>\n",
       "      <td>24.447279</td>\n",
       "      <td>70.0</td>\n",
       "      <td>110.0</td>\n",
       "      <td>0.0</td>\n",
       "      <td>1.0</td>\n",
       "      <td>1.0</td>\n",
       "      <td>1.0</td>\n",
       "      <td>1.0</td>\n",
       "      <td>2.00</td>\n",
       "      <td>NaN</td>\n",
       "      <td>NaN</td>\n",
       "      <td>40.0</td>\n",
       "      <td>72.0</td>\n",
       "      <td>1.0</td>\n",
       "      <td>0.0</td>\n",
       "      <td>0.0</td>\n",
       "      <td>1.0</td>\n",
       "      <td>0.0</td>\n",
       "      <td>1.0</td>\n",
       "      <td>0.0</td>\n",
       "      <td>0.0</td>\n",
       "      <td>0.0</td>\n",
       "      <td>2007-06-10</td>\n",
       "      <td>2007-06-10</td>\n",
       "      <td>Sudden death</td>\n",
       "      <td>Relatives (Telephone interview)</td>\n",
       "      <td>1.0</td>\n",
       "      <td>1.0</td>\n",
       "      <td>1.0</td>\n",
       "      <td>0.0</td>\n",
       "      <td>0.0</td>\n",
       "      <td>0.0</td>\n",
       "      <td>NaT</td>\n",
       "      <td>NaT</td>\n",
       "      <td>NaT</td>\n",
       "      <td>NaT</td>\n",
       "    </tr>\n",
       "  </tbody>\n",
       "</table>\n",
       "</div>"
      ],
      "text/plain": [
       "   Number  Gender (Male = 1)        Age  Total cholesterol   HDL    LDL  \\\n",
       "0     1.0                1.0  56.033708              196.0  52.0  118.0   \n",
       "1     2.0                1.0  62.898876              123.0  43.0   71.0   \n",
       "2     3.0                1.0  60.876404              248.0  37.0  180.0   \n",
       "3     4.0                1.0  75.396067                NaN   NaN    NaN   \n",
       "4     5.0                1.0  80.803371              139.0  33.0   81.0   \n",
       "\n",
       "   Triglycerides  Glycemia   TSH   fT3   fT4  Euthyroid  \\\n",
       "0          130.0     104.0  1.26  2.72  12.3        1.0   \n",
       "1           45.0     220.0  0.73  2.78  12.5        1.0   \n",
       "2          157.0      87.0  1.65  1.74   8.2        0.0   \n",
       "3            NaN       NaN  0.40  7.20  17.2        0.0   \n",
       "4          126.0     103.0  7.32  2.22  11.9        0.0   \n",
       "\n",
       "   Subclinical primary hypothyroidism (SCH)  \\\n",
       "0                                       0.0   \n",
       "1                                       0.0   \n",
       "2                                       0.0   \n",
       "3                                       0.0   \n",
       "4                                       1.0   \n",
       "\n",
       "   Subclinical primary hyperthyroidism\\n(SCT)  Low T3  Ipotiroidismo  \\\n",
       "0                                         0.0     0.0            0.0   \n",
       "1                                         0.0     0.0            0.0   \n",
       "2                                         0.0     1.0            0.0   \n",
       "3                                         0.0     0.0            0.0   \n",
       "4                                         0.0     0.0            0.0   \n",
       "\n",
       "   Ipertiroidismo  Angina  Previous CABG  Previous PCI  \\\n",
       "0             0.0     1.0            1.0           1.0   \n",
       "1             0.0     0.0            0.0           0.0   \n",
       "2             0.0     1.0            0.0           0.0   \n",
       "3             1.0     1.0            1.0           0.0   \n",
       "4             0.0     1.0            1.0           1.0   \n",
       "\n",
       "   Previous Myocardial Infarction  Acute Myocardial Infarction  Angiography  \\\n",
       "0                             1.0                          0.0          1.0   \n",
       "1                             0.0                          0.0          0.0   \n",
       "2                             1.0                          0.0          1.0   \n",
       "3                             1.0                          0.0          0.0   \n",
       "4                             1.0                          0.0          1.0   \n",
       "\n",
       "   Vessels  CAD  Documented resting \\nor exertional ischemia  \\\n",
       "0      3.0  1.0                                          1.0   \n",
       "1      0.0  0.0                                          0.0   \n",
       "2      3.0  1.0                                          1.0   \n",
       "3      0.0  1.0                                          1.0   \n",
       "4      3.0  1.0                                          1.0   \n",
       "\n",
       "   Post-ischemic Dilated\\nCardiomyopathy  Primary Dilated\\nCardiomyopathy  \\\n",
       "0                                    1.0                              0.0   \n",
       "1                                    0.0                              0.0   \n",
       "2                                    0.0                              0.0   \n",
       "3                                    0.0                              0.0   \n",
       "4                                    1.0                              0.0   \n",
       "\n",
       "   Normal  SindromeX  AMI  PMI  Aritmie  MIN  MIO  Miocardite  Pericardite  \\\n",
       "0     0.0        0.0  0.0  1.0      0.0  0.0  0.0         0.0          0.0   \n",
       "1     0.0        0.0  0.0  0.0      1.0  0.0  0.0         0.0          0.0   \n",
       "2     0.0        0.0  0.0  1.0      0.0  0.0  0.0         0.0          0.0   \n",
       "3     0.0        0.0  0.0  1.0      1.0  0.0  0.0         0.0          0.0   \n",
       "4     0.0        0.0  0.0  1.0      1.0  0.0  0.0         0.0          0.0   \n",
       "\n",
       "   Endocardite  Valvulopatie  MalattiaVasoAorta  Ipertensione  \\\n",
       "0          0.0           0.0                0.0           0.0   \n",
       "1          0.0           0.0                0.0           0.0   \n",
       "2          0.0           0.0                0.0           0.0   \n",
       "3          0.0           0.0                0.0           0.0   \n",
       "4          0.0           1.0                0.0           1.0   \n",
       "\n",
       "   CardiopatiaCongenita  EmboliaPolmonare  EPA    HR  Weight  Height  \\\n",
       "0                   0.0               0.0  0.0  55.0    72.0   165.0   \n",
       "1                   0.0               0.0  0.0  70.0    80.0   170.0   \n",
       "2                   0.0               0.0  0.0  70.0    73.0   170.0   \n",
       "3                   0.0               0.0  0.0  75.0    75.0   172.0   \n",
       "4                   0.0               0.0  0.0  70.0    69.0   168.0   \n",
       "\n",
       "         BMI  Diastolic blood pressure  Systolic blood pressure  \\\n",
       "0  26.446281                      65.0                    100.0   \n",
       "1  27.681661                      70.0                    140.0   \n",
       "2  25.259516                      80.0                    140.0   \n",
       "3  25.351541                      60.0                    120.0   \n",
       "4  24.447279                      70.0                    110.0   \n",
       "\n",
       "   Smoke\\nHistory of smoke  Diabetes\\nHistory of diabetes  \\\n",
       "0                      0.0                            0.0   \n",
       "1                      1.0                            1.0   \n",
       "2                      0.0                            0.0   \n",
       "3                      1.0                            0.0   \n",
       "4                      0.0                            1.0   \n",
       "\n",
       "   Hypertension\\nHistory of hypertension  \\\n",
       "0                                    0.0   \n",
       "1                                    0.0   \n",
       "2                                    0.0   \n",
       "3                                    0.0   \n",
       "4                                    1.0   \n",
       "\n",
       "   Dyslipidemia\\nHystory of dyslipidemia  Atrial Fibrillation  WmsiBas  \\\n",
       "0                                    1.0                  0.0     2.44   \n",
       "1                                    1.0                  0.0     1.18   \n",
       "2                                    1.0                  0.0     1.29   \n",
       "3                                    0.0                  0.0      NaN   \n",
       "4                                    1.0                  1.0     2.00   \n",
       "\n",
       "   DimSettoIV  DimPP    fe   vsx  B-Blockers  Amiodarone  \\\n",
       "0        10.0    9.0  35.0  56.0         1.0         0.0   \n",
       "1        11.0    9.0  53.0  54.0         0.0         0.0   \n",
       "2        10.0   10.0  48.0  54.0         1.0         0.0   \n",
       "3         NaN    NaN  39.0  67.0         0.0         0.0   \n",
       "4         NaN    NaN  40.0  72.0         1.0         0.0   \n",
       "\n",
       "   Calcium channel blockers  Diuretics  Antiplatelet  Nitrates  \\\n",
       "0                       0.0        1.0           1.0       1.0   \n",
       "1                       0.0        0.0           0.0       0.0   \n",
       "2                       0.0        0.0           1.0       1.0   \n",
       "3                       0.0        1.0           1.0       1.0   \n",
       "4                       0.0        1.0           0.0       1.0   \n",
       "\n",
       "   ACE-inhibitors  Ipolipemizzanti  Antidiabetici Follow Up Data  \\\n",
       "0             1.0              0.0            0.0     2013-09-20   \n",
       "1             1.0              1.0            1.0     2013-01-08   \n",
       "2             0.0              1.0            0.0     2013-05-14   \n",
       "3             0.0              0.0            0.0     1994-06-29   \n",
       "4             0.0              0.0            0.0     2007-06-10   \n",
       "\n",
       "  Data of death        Cause of death                     Collected by  \\\n",
       "0           NaT                   NaN                              NaN   \n",
       "1           NaT                   NaN                              NaN   \n",
       "2           NaT                   NaN                              NaN   \n",
       "3    1994-06-29  Other cardiac causes             Necropsy certificate   \n",
       "4    2007-06-10          Sudden death  Relatives (Telephone interview)   \n",
       "\n",
       "   Total mortality  CVD Death  Fatal MI or Sudden death  UnKnown  Accident  \\\n",
       "0              0.0        0.0                       0.0      0.0       0.0   \n",
       "1              0.0        0.0                       0.0      0.0       0.0   \n",
       "2              0.0        0.0                       0.0      0.0       0.0   \n",
       "3              1.0        1.0                       0.0      0.0       0.0   \n",
       "4              1.0        1.0                       1.0      0.0       0.0   \n",
       "\n",
       "   Suicide      CABG  Non Fatal AMI (Follow-Up) Ictus PCI  \n",
       "0      0.0 2004-12-01                       NaT   NaT NaT  \n",
       "1      0.0        NaT                       NaT   NaT NaT  \n",
       "2      0.0 2004-02-19                       NaT   NaT NaT  \n",
       "3      0.0        NaT                       NaT   NaT NaT  \n",
       "4      0.0        NaT                       NaT   NaT NaT  "
      ]
     },
     "execution_count": 9,
     "metadata": {},
     "output_type": "execute_result"
    }
   ],
   "source": [
    "chl_dataset.head()"
   ]
  },
  {
   "cell_type": "code",
   "execution_count": 10,
   "metadata": {},
   "outputs": [
    {
     "data": {
      "text/html": [
       "<div>\n",
       "<style scoped>\n",
       "    .dataframe tbody tr th:only-of-type {\n",
       "        vertical-align: middle;\n",
       "    }\n",
       "\n",
       "    .dataframe tbody tr th {\n",
       "        vertical-align: top;\n",
       "    }\n",
       "\n",
       "    .dataframe thead th {\n",
       "        text-align: right;\n",
       "    }\n",
       "</style>\n",
       "<table border=\"1\" class=\"dataframe\">\n",
       "  <thead>\n",
       "    <tr style=\"text-align: right;\">\n",
       "      <th></th>\n",
       "      <th>Number</th>\n",
       "      <th>Data prelievo</th>\n",
       "    </tr>\n",
       "  </thead>\n",
       "  <tbody>\n",
       "    <tr>\n",
       "      <th>0</th>\n",
       "      <td>1</td>\n",
       "      <td>2003-08-25</td>\n",
       "    </tr>\n",
       "    <tr>\n",
       "      <th>1</th>\n",
       "      <td>2</td>\n",
       "      <td>2010-10-19</td>\n",
       "    </tr>\n",
       "    <tr>\n",
       "      <th>2</th>\n",
       "      <td>3</td>\n",
       "      <td>2004-01-09</td>\n",
       "    </tr>\n",
       "    <tr>\n",
       "      <th>3</th>\n",
       "      <td>4</td>\n",
       "      <td>1994-01-24</td>\n",
       "    </tr>\n",
       "    <tr>\n",
       "      <th>4</th>\n",
       "      <td>5</td>\n",
       "      <td>2003-10-28</td>\n",
       "    </tr>\n",
       "  </tbody>\n",
       "</table>\n",
       "</div>"
      ],
      "text/plain": [
       "   Number Data prelievo\n",
       "0       1    2003-08-25\n",
       "1       2    2010-10-19\n",
       "2       3    2004-01-09\n",
       "3       4    1994-01-24\n",
       "4       5    2003-10-28"
      ]
     },
     "execution_count": 10,
     "metadata": {},
     "output_type": "execute_result"
    }
   ],
   "source": [
    "date_dataset.head()"
   ]
  },
  {
   "cell_type": "code",
   "execution_count": 11,
   "metadata": {},
   "outputs": [
    {
     "data": {
      "text/html": [
       "<div>\n",
       "<style scoped>\n",
       "    .dataframe tbody tr th:only-of-type {\n",
       "        vertical-align: middle;\n",
       "    }\n",
       "\n",
       "    .dataframe tbody tr th {\n",
       "        vertical-align: top;\n",
       "    }\n",
       "\n",
       "    .dataframe thead th {\n",
       "        text-align: right;\n",
       "    }\n",
       "</style>\n",
       "<table border=\"1\" class=\"dataframe\">\n",
       "  <thead>\n",
       "    <tr style=\"text-align: right;\">\n",
       "      <th></th>\n",
       "      <th>Number</th>\n",
       "      <th>Total cholesterol</th>\n",
       "      <th>HDL</th>\n",
       "      <th>LDL</th>\n",
       "      <th>Triglycerides</th>\n",
       "      <th>Creatinina</th>\n",
       "    </tr>\n",
       "  </thead>\n",
       "  <tbody>\n",
       "    <tr>\n",
       "      <th>0</th>\n",
       "      <td>1</td>\n",
       "      <td>196.0</td>\n",
       "      <td>52.0</td>\n",
       "      <td>118.0</td>\n",
       "      <td>130.0</td>\n",
       "      <td>0.83</td>\n",
       "    </tr>\n",
       "    <tr>\n",
       "      <th>1</th>\n",
       "      <td>2</td>\n",
       "      <td>123.0</td>\n",
       "      <td>43.0</td>\n",
       "      <td>71.0</td>\n",
       "      <td>45.0</td>\n",
       "      <td>0.80</td>\n",
       "    </tr>\n",
       "    <tr>\n",
       "      <th>2</th>\n",
       "      <td>3</td>\n",
       "      <td>248.0</td>\n",
       "      <td>37.0</td>\n",
       "      <td>180.0</td>\n",
       "      <td>157.0</td>\n",
       "      <td>1.01</td>\n",
       "    </tr>\n",
       "    <tr>\n",
       "      <th>3</th>\n",
       "      <td>4</td>\n",
       "      <td>NaN</td>\n",
       "      <td>NaN</td>\n",
       "      <td>NaN</td>\n",
       "      <td>NaN</td>\n",
       "      <td>NaN</td>\n",
       "    </tr>\n",
       "    <tr>\n",
       "      <th>4</th>\n",
       "      <td>5</td>\n",
       "      <td>139.0</td>\n",
       "      <td>33.0</td>\n",
       "      <td>81.0</td>\n",
       "      <td>126.0</td>\n",
       "      <td>1.59</td>\n",
       "    </tr>\n",
       "  </tbody>\n",
       "</table>\n",
       "</div>"
      ],
      "text/plain": [
       "   Number  Total cholesterol   HDL    LDL  Triglycerides  Creatinina\n",
       "0       1              196.0  52.0  118.0          130.0        0.83\n",
       "1       2              123.0  43.0   71.0           45.0        0.80\n",
       "2       3              248.0  37.0  180.0          157.0        1.01\n",
       "3       4                NaN   NaN    NaN            NaN         NaN\n",
       "4       5              139.0  33.0   81.0          126.0        1.59"
      ]
     },
     "execution_count": 11,
     "metadata": {},
     "output_type": "execute_result"
    }
   ],
   "source": [
    "creatinina_dataset.head()"
   ]
  },
  {
   "cell_type": "markdown",
   "metadata": {},
   "source": [
    "Now, let's provide some information about the datasets using the `.info()` method."
   ]
  },
  {
   "cell_type": "code",
   "execution_count": 12,
   "metadata": {},
   "outputs": [
    {
     "name": "stdout",
     "output_type": "stream",
     "text": [
      "<class 'pandas.core.frame.DataFrame'>\n",
      "RangeIndex: 8144 entries, 0 to 8143\n",
      "Data columns (total 83 columns):\n",
      " #   Column                                      Non-Null Count  Dtype         \n",
      "---  ------                                      --------------  -----         \n",
      " 0   Number                                      8065 non-null   float64       \n",
      " 1   Gender (Male = 1)                           8065 non-null   float64       \n",
      " 2   Age                                         8065 non-null   float64       \n",
      " 3   Total cholesterol                           7705 non-null   float64       \n",
      " 4   HDL                                         7455 non-null   float64       \n",
      " 5   LDL                                         6905 non-null   float64       \n",
      " 6   Triglycerides                               7627 non-null   float64       \n",
      " 7   Glycemia                                    7651 non-null   float64       \n",
      " 8   TSH                                         8065 non-null   float64       \n",
      " 9   fT3                                         8065 non-null   float64       \n",
      " 10  fT4                                         8065 non-null   float64       \n",
      " 11  Euthyroid                                   8065 non-null   float64       \n",
      " 12  Subclinical primary hypothyroidism (SCH)    8065 non-null   float64       \n",
      " 13  Subclinical primary hyperthyroidism\n",
      "(SCT)   8065 non-null   float64       \n",
      " 14  Low T3                                      8065 non-null   float64       \n",
      " 15  Ipotiroidismo                               8065 non-null   float64       \n",
      " 16  Ipertiroidismo                              8065 non-null   float64       \n",
      " 17  Angina                                      8065 non-null   float64       \n",
      " 18  Previous CABG                               8065 non-null   float64       \n",
      " 19  Previous PCI                                8065 non-null   float64       \n",
      " 20  Previous Myocardial Infarction              8065 non-null   float64       \n",
      " 21  Acute Myocardial Infarction                 8065 non-null   float64       \n",
      " 22  Angiography                                 8065 non-null   float64       \n",
      " 23  Vessels                                     8065 non-null   float64       \n",
      " 24  CAD                                         8065 non-null   float64       \n",
      " 25  Documented resting \n",
      "or exertional ischemia  8066 non-null   float64       \n",
      " 26  Post-ischemic Dilated\n",
      "Cardiomyopathy        8065 non-null   float64       \n",
      " 27  Primary Dilated\n",
      "Cardiomyopathy              8065 non-null   float64       \n",
      " 28  Normal                                      8065 non-null   float64       \n",
      " 29  SindromeX                                   8065 non-null   float64       \n",
      " 30  AMI                                         8065 non-null   float64       \n",
      " 31  PMI                                         8065 non-null   float64       \n",
      " 32  Aritmie                                     8065 non-null   float64       \n",
      " 33  MIN                                         8065 non-null   float64       \n",
      " 34  MIO                                         8065 non-null   float64       \n",
      " 35  Miocardite                                  8065 non-null   float64       \n",
      " 36  Pericardite                                 8065 non-null   float64       \n",
      " 37  Endocardite                                 8065 non-null   float64       \n",
      " 38  Valvulopatie                                8065 non-null   float64       \n",
      " 39  MalattiaVasoAorta                           8065 non-null   float64       \n",
      " 40  Ipertensione                                8065 non-null   float64       \n",
      " 41  CardiopatiaCongenita                        8065 non-null   float64       \n",
      " 42  EmboliaPolmonare                            8065 non-null   float64       \n",
      " 43  EPA                                         8065 non-null   float64       \n",
      " 44  HR                                          7999 non-null   float64       \n",
      " 45  Weight                                      7651 non-null   float64       \n",
      " 46  Height                                      7569 non-null   float64       \n",
      " 47  BMI                                         7492 non-null   float64       \n",
      " 48  Diastolic blood pressure                    7904 non-null   float64       \n",
      " 49  Systolic blood pressure                     7904 non-null   float64       \n",
      " 50  Smoke\n",
      "History of smoke                      8065 non-null   float64       \n",
      " 51  Diabetes\n",
      "History of diabetes                8065 non-null   float64       \n",
      " 52  Hypertension\n",
      "History of hypertension        8065 non-null   float64       \n",
      " 53  Dyslipidemia\n",
      "Hystory of dyslipidemia        8065 non-null   float64       \n",
      " 54  Atrial Fibrillation                         8065 non-null   float64       \n",
      " 55  WmsiBas                                     7842 non-null   float64       \n",
      " 56  DimSettoIV                                  7741 non-null   float64       \n",
      " 57  DimPP                                       7720 non-null   float64       \n",
      " 58  fe                                          8065 non-null   float64       \n",
      " 59  vsx                                         7355 non-null   float64       \n",
      " 60  B-Blockers                                  8065 non-null   float64       \n",
      " 61  Amiodarone                                  8065 non-null   float64       \n",
      " 62  Calcium channel blockers                    8065 non-null   float64       \n",
      " 63  Diuretics                                   8065 non-null   float64       \n",
      " 64  Antiplatelet                                8065 non-null   float64       \n",
      " 65  Nitrates                                    8065 non-null   float64       \n",
      " 66  ACE-inhibitors                              8065 non-null   float64       \n",
      " 67  Ipolipemizzanti                             7938 non-null   float64       \n",
      " 68  Antidiabetici                               7934 non-null   float64       \n",
      " 69  Follow Up Data                              8065 non-null   datetime64[ns]\n",
      " 70  Data of death                               2407 non-null   datetime64[ns]\n",
      " 71  Cause of death                              2406 non-null   object        \n",
      " 72  Collected by                                2407 non-null   object        \n",
      " 73  Total mortality                             8065 non-null   float64       \n",
      " 74  CVD Death                                   8065 non-null   float64       \n",
      " 75  Fatal MI or Sudden death                    8065 non-null   float64       \n",
      " 76  UnKnown                                     8065 non-null   float64       \n",
      " 77  Accident                                    8065 non-null   float64       \n",
      " 78  Suicide                                     8065 non-null   float64       \n",
      " 79  CABG                                        826 non-null    datetime64[ns]\n",
      " 80  Non Fatal AMI (Follow-Up)                   323 non-null    datetime64[ns]\n",
      " 81  Ictus                                       110 non-null    datetime64[ns]\n",
      " 82  PCI                                         1346 non-null   datetime64[ns]\n",
      "dtypes: datetime64[ns](6), float64(75), object(2)\n",
      "memory usage: 5.2+ MB\n"
     ]
    }
   ],
   "source": [
    "chl_dataset.info()"
   ]
  },
  {
   "cell_type": "code",
   "execution_count": 13,
   "metadata": {},
   "outputs": [
    {
     "name": "stdout",
     "output_type": "stream",
     "text": [
      "<class 'pandas.core.frame.DataFrame'>\n",
      "RangeIndex: 8065 entries, 0 to 8064\n",
      "Data columns (total 6 columns):\n",
      " #   Column             Non-Null Count  Dtype  \n",
      "---  ------             --------------  -----  \n",
      " 0   Number             8065 non-null   int64  \n",
      " 1   Total cholesterol  7705 non-null   float64\n",
      " 2   HDL                7455 non-null   float64\n",
      " 3   LDL                7433 non-null   float64\n",
      " 4   Triglycerides      7627 non-null   float64\n",
      " 5   Creatinina         7469 non-null   float64\n",
      "dtypes: float64(5), int64(1)\n",
      "memory usage: 378.2 KB\n"
     ]
    }
   ],
   "source": [
    "creatinina_dataset.info()"
   ]
  },
  {
   "cell_type": "markdown",
   "metadata": {},
   "source": [
    "## Cleaning Datasets\n",
    "\n",
    "In this section, we focus on cleaning our datasets to ensure they are primed for analysis and modeling.\n",
    "\n",
    "First of all, we remove four columns from the main dataset `chl_dataset`, as these columns will be re-added in their updated version present in the `creatinina_dataset` dataset."
   ]
  },
  {
   "cell_type": "code",
   "execution_count": 14,
   "metadata": {},
   "outputs": [],
   "source": [
    "chl_dataset=chl_dataset.drop(columns=[\"HDL\", \"LDL\", \"Triglycerides\", \"Total cholesterol\"])"
   ]
  },
  {
   "cell_type": "markdown",
   "metadata": {},
   "source": [
    "Therefore, we use the `.merge()` method to merge the columns from the `creatinina_dataset` to our main dataset. In addition to the four columns removed earlier, a new column regarding creatinine, which was not present before, will be added. To perform this operation, we use the \"Number\" column as the merging key, which contains the number associated with each patient.\n",
    "\n",
    "Furthermore, we create a new dataframe called `merge_dataframe` by merging the column from the `date_dataset` to the `chl_dataset`, once again utilizing the \"Number\" column as the merging key. We will use the `merge_dataset` with its new columns to extract the \"Target\" column, which will be employed in our machine learning algorithm."
   ]
  },
  {
   "cell_type": "code",
   "execution_count": 15,
   "metadata": {},
   "outputs": [],
   "source": [
    "chl_dataset=pd.merge(chl_dataset, creatinina_dataset, on=\"Number\")\n",
    "merge_dataset=pd.merge(chl_dataset, date_dataset, on=[\"Number\"])"
   ]
  },
  {
   "cell_type": "markdown",
   "metadata": {},
   "source": [
    "We remove rows from the datasets where the value in the \"Number\" column is missing (NaN). To do this we use the `.dropna()` method."
   ]
  },
  {
   "cell_type": "code",
   "execution_count": 16,
   "metadata": {},
   "outputs": [],
   "source": [
    "chl_dataset=chl_dataset.dropna(subset=[\"Number\"])\n",
    "merge_dataset=merge_dataset.dropna(subset=[\"Number\"])"
   ]
  },
  {
   "cell_type": "markdown",
   "metadata": {},
   "source": [
    "We delete from the `chl_dataset` dataset the columns we are not interested in, as they are not medical test results but information on whether each patient died."
   ]
  },
  {
   "cell_type": "code",
   "execution_count": 17,
   "metadata": {},
   "outputs": [],
   "source": [
    "chl_dataset=chl_dataset.drop(columns=[\"PCI\", \"Ictus\", \"Non Fatal AMI (Follow-Up)\", \"CABG \", \n",
    "                            \"Suicide\",\"Accident\", \"UnKnown\", \"Fatal MI or Sudden death\",\n",
    "                            \"CVD Death\", \"Total mortality\", \"Collected by\", \"Cause of death\",\n",
    "                            \"Follow Up Data\", \"Data of death\"])"
   ]
  },
  {
   "cell_type": "markdown",
   "metadata": {},
   "source": [
    "We reorder the columns of `chl_dataset` so that binary columns come first, followed by continuous columns. To achieve this, we use the `reorder_columns` utility function defined in the previous section."
   ]
  },
  {
   "cell_type": "code",
   "execution_count": 18,
   "metadata": {},
   "outputs": [],
   "source": [
    "data_columns=chl_dataset.columns\n",
    "data_columns\n",
    "\n",
    "reordered_columns=reorder_columns(chl_dataset, data_columns)"
   ]
  },
  {
   "cell_type": "code",
   "execution_count": 19,
   "metadata": {},
   "outputs": [],
   "source": [
    "chl_dataset = chl_dataset.reindex(columns=reordered_columns)"
   ]
  },
  {
   "cell_type": "markdown",
   "metadata": {},
   "source": [
    "We check to see if there are any columns with less than two different values, thus with only one occurrence as a value, and find \"CardiopathyCongenitis\" as the result. Having only 0 as a possible value, we decide to delete it."
   ]
  },
  {
   "cell_type": "code",
   "execution_count": 20,
   "metadata": {},
   "outputs": [
    {
     "name": "stdout",
     "output_type": "stream",
     "text": [
      "CardiopatiaCongenita\n"
     ]
    }
   ],
   "source": [
    "for col in chl_dataset.columns:\n",
    "    if chl_dataset[col].nunique() < 2:\n",
    "        print(col)"
   ]
  },
  {
   "cell_type": "code",
   "execution_count": 21,
   "metadata": {},
   "outputs": [],
   "source": [
    "chl_dataset.CardiopatiaCongenita.value_counts()\n",
    "chl_dataset=chl_dataset.drop(columns=[\"CardiopatiaCongenita\"])"
   ]
  },
  {
   "cell_type": "markdown",
   "metadata": {},
   "source": [
    "### Detecting Outliers with Angle Based Method"
   ]
  },
  {
   "cell_type": "code",
   "execution_count": 23,
   "metadata": {},
   "outputs": [],
   "source": [
    "chl_dataset2=chl_dataset.copy()"
   ]
  },
  {
   "cell_type": "code",
   "execution_count": 46,
   "metadata": {},
   "outputs": [],
   "source": [
    "chl_dataset2=chl_dataset2.dropna()\n",
    "chl_dataset3=chl_dataset2.dropna()"
   ]
  },
  {
   "cell_type": "code",
   "execution_count": 42,
   "metadata": {},
   "outputs": [
    {
     "name": "stdout",
     "output_type": "stream",
     "text": [
      "Indici degli outliers: [5268 2080 5539 4954 4590 4611 1736  352 4463 4049 2787  606 1941 4491\n",
      " 3407  702 5559 2212  929 2124 5426 5624 3635 4674 2981 3707 2863 3988\n",
      " 2247 4181 5571 3923 5035 1416 5275  401 4833 3978 3021 1927 4242 4956\n",
      " 4906  724 1473 3422 6251 5830  452 1163   96  511 3185   55 3174 1589\n",
      " 3252 2666 1978 2635 1358 5755 2960 1925 3278 4168 5495 1857 2925 5072\n",
      " 1760  334  557 2932 2244 1390 1342 4583 4175 2572 2218 4989   89 5650\n",
      " 4922 2287  346 5629 5821 2038 3455 5616 2008 4429  947 3372 2476  747\n",
      "  581 6262]\n"
     ]
    }
   ],
   "source": [
    "from sklearn.neighbors import LocalOutlierFactor\n",
    "\n",
    "# Creare un modello LOF\n",
    "lof_model = LocalOutlierFactor()\n",
    "\n",
    "# Addestrare il modello sul dataset\n",
    "lof_model.fit(chl_dataset2)\n",
    "\n",
    "# Calcolare lo score di anomalia per ciascuna osservazione nel dataset\n",
    "anomaly_scores = lof_model.negative_outlier_factor_\n",
    "\n",
    "# Identificare gli outliers (osservazioni con score di anomalia negativo)\n",
    "outliers_indices = anomaly_scores.argsort()[:100]  # Esempio: identificare i primi 10 outliers\n",
    "\n",
    "# Stampare gli indici degli outliers\n",
    "print(\"Indici degli outliers:\", outliers_indices)\n"
   ]
  },
  {
   "cell_type": "code",
   "execution_count": 43,
   "metadata": {},
   "outputs": [
    {
     "data": {
      "image/png": "[encoded data removed]",
      "text/plain": [
       "<Figure size 1000x600 with 1 Axes>"
      ]
     },
     "metadata": {},
     "output_type": "display_data"
    }
   ],
   "source": [
    "import matplotlib.pyplot as plt\n",
    "\n",
    "# Plot dei valori LOF\n",
    "plt.figure(figsize=(10, 6))\n",
    "plt.scatter(range(len(anomaly_scores)), anomaly_scores, c='blue', s=20, label='LOF scores')\n",
    "\n",
    "# Indica gli outliers con un colore diverso\n",
    "plt.scatter(outliers_indices, anomaly_scores[outliers_indices], c='red', s=50, edgecolors='k', label='Outliers')\n",
    "\n",
    "plt.title('Local Outlier Factor (LOF) Scores')\n",
    "plt.xlabel('Index')\n",
    "plt.ylabel('LOF Score')\n",
    "plt.legend()\n",
    "plt.grid(True)\n",
    "plt.show()\n"
   ]
  },
  {
   "cell_type": "code",
   "execution_count": 47,
   "metadata": {},
   "outputs": [
    {
     "name": "stdout",
     "output_type": "stream",
     "text": [
      "{'bootstrap': False, 'contamination': 0.1, 'max_features': 1.0, 'max_samples': 'auto', 'n_estimators': 100, 'n_jobs': None, 'random_state': RandomState(MT19937) at 0x320B77B40, 'verbose': 0, 'warm_start': False}\n"
     ]
    }
   ],
   "source": [
    "random_state = np.random.RandomState(42)\n",
    "\n",
    "model=IsolationForest(n_estimators=100,max_samples='auto',contamination=float(0.1),random_state=random_state)\n",
    "\n",
    "model.fit(chl_dataset3)\n",
    "\n",
    "print(model.get_params())"
   ]
  },
  {
   "cell_type": "code",
   "execution_count": 48,
   "metadata": {},
   "outputs": [
    {
     "data": {
      "text/html": [
       "<div>\n",
       "<style scoped>\n",
       "    .dataframe tbody tr th:only-of-type {\n",
       "        vertical-align: middle;\n",
       "    }\n",
       "\n",
       "    .dataframe tbody tr th {\n",
       "        vertical-align: top;\n",
       "    }\n",
       "\n",
       "    .dataframe thead th {\n",
       "        text-align: right;\n",
       "    }\n",
       "</style>\n",
       "<table border=\"1\" class=\"dataframe\">\n",
       "  <thead>\n",
       "    <tr style=\"text-align: right;\">\n",
       "      <th></th>\n",
       "      <th>Gender (Male = 1)</th>\n",
       "      <th>Euthyroid</th>\n",
       "      <th>Subclinical primary hypothyroidism (SCH)</th>\n",
       "      <th>Subclinical primary hyperthyroidism\\n(SCT)</th>\n",
       "      <th>Low T3</th>\n",
       "      <th>Ipotiroidismo</th>\n",
       "      <th>Ipertiroidismo</th>\n",
       "      <th>Angina</th>\n",
       "      <th>Previous CABG</th>\n",
       "      <th>Previous PCI</th>\n",
       "      <th>Previous Myocardial Infarction</th>\n",
       "      <th>Acute Myocardial Infarction</th>\n",
       "      <th>Angiography</th>\n",
       "      <th>CAD</th>\n",
       "      <th>Documented resting \\nor exertional ischemia</th>\n",
       "      <th>Post-ischemic Dilated\\nCardiomyopathy</th>\n",
       "      <th>Primary Dilated\\nCardiomyopathy</th>\n",
       "      <th>Normal</th>\n",
       "      <th>SindromeX</th>\n",
       "      <th>AMI</th>\n",
       "      <th>PMI</th>\n",
       "      <th>Aritmie</th>\n",
       "      <th>MIN</th>\n",
       "      <th>MIO</th>\n",
       "      <th>Miocardite</th>\n",
       "      <th>Pericardite</th>\n",
       "      <th>Endocardite</th>\n",
       "      <th>Valvulopatie</th>\n",
       "      <th>MalattiaVasoAorta</th>\n",
       "      <th>Ipertensione</th>\n",
       "      <th>EmboliaPolmonare</th>\n",
       "      <th>EPA</th>\n",
       "      <th>Smoke\\nHistory of smoke</th>\n",
       "      <th>Diabetes\\nHistory of diabetes</th>\n",
       "      <th>Hypertension\\nHistory of hypertension</th>\n",
       "      <th>Dyslipidemia\\nHystory of dyslipidemia</th>\n",
       "      <th>Atrial Fibrillation</th>\n",
       "      <th>B-Blockers</th>\n",
       "      <th>Amiodarone</th>\n",
       "      <th>Calcium channel blockers</th>\n",
       "      <th>Diuretics</th>\n",
       "      <th>Antiplatelet</th>\n",
       "      <th>Nitrates</th>\n",
       "      <th>ACE-inhibitors</th>\n",
       "      <th>Ipolipemizzanti</th>\n",
       "      <th>Antidiabetici</th>\n",
       "      <th>Number</th>\n",
       "      <th>Age</th>\n",
       "      <th>Glycemia</th>\n",
       "      <th>TSH</th>\n",
       "      <th>fT3</th>\n",
       "      <th>fT4</th>\n",
       "      <th>Vessels</th>\n",
       "      <th>HR</th>\n",
       "      <th>Weight</th>\n",
       "      <th>Height</th>\n",
       "      <th>BMI</th>\n",
       "      <th>Diastolic blood pressure</th>\n",
       "      <th>Systolic blood pressure</th>\n",
       "      <th>WmsiBas</th>\n",
       "      <th>DimSettoIV</th>\n",
       "      <th>DimPP</th>\n",
       "      <th>fe</th>\n",
       "      <th>vsx</th>\n",
       "      <th>Total cholesterol</th>\n",
       "      <th>HDL</th>\n",
       "      <th>LDL</th>\n",
       "      <th>Triglycerides</th>\n",
       "      <th>Creatinina</th>\n",
       "      <th>scores</th>\n",
       "      <th>anomaly_score</th>\n",
       "    </tr>\n",
       "  </thead>\n",
       "  <tbody>\n",
       "    <tr>\n",
       "      <th>10</th>\n",
       "      <td>1.0</td>\n",
       "      <td>0.0</td>\n",
       "      <td>0.0</td>\n",
       "      <td>0.0</td>\n",
       "      <td>0.0</td>\n",
       "      <td>0.0</td>\n",
       "      <td>1.0</td>\n",
       "      <td>1.0</td>\n",
       "      <td>0.0</td>\n",
       "      <td>0.0</td>\n",
       "      <td>1.0</td>\n",
       "      <td>0.0</td>\n",
       "      <td>1.0</td>\n",
       "      <td>1.0</td>\n",
       "      <td>1.0</td>\n",
       "      <td>1.0</td>\n",
       "      <td>0.0</td>\n",
       "      <td>0.0</td>\n",
       "      <td>0.0</td>\n",
       "      <td>0.0</td>\n",
       "      <td>1.0</td>\n",
       "      <td>0.0</td>\n",
       "      <td>0.0</td>\n",
       "      <td>0.0</td>\n",
       "      <td>0.0</td>\n",
       "      <td>0.0</td>\n",
       "      <td>0.0</td>\n",
       "      <td>1.0</td>\n",
       "      <td>0.0</td>\n",
       "      <td>0.0</td>\n",
       "      <td>0.0</td>\n",
       "      <td>0.0</td>\n",
       "      <td>0.0</td>\n",
       "      <td>0.0</td>\n",
       "      <td>1.0</td>\n",
       "      <td>1.0</td>\n",
       "      <td>0.0</td>\n",
       "      <td>1.0</td>\n",
       "      <td>0.0</td>\n",
       "      <td>0.0</td>\n",
       "      <td>0.0</td>\n",
       "      <td>0.0</td>\n",
       "      <td>1.0</td>\n",
       "      <td>1.0</td>\n",
       "      <td>0.0</td>\n",
       "      <td>0.0</td>\n",
       "      <td>11.0</td>\n",
       "      <td>75.876404</td>\n",
       "      <td>119.0</td>\n",
       "      <td>0.01</td>\n",
       "      <td>2.19</td>\n",
       "      <td>20.0</td>\n",
       "      <td>4.0</td>\n",
       "      <td>48.0</td>\n",
       "      <td>74.0</td>\n",
       "      <td>174.0</td>\n",
       "      <td>24.441802</td>\n",
       "      <td>90.0</td>\n",
       "      <td>170.0</td>\n",
       "      <td>1.88</td>\n",
       "      <td>11.0</td>\n",
       "      <td>11.0</td>\n",
       "      <td>35.0</td>\n",
       "      <td>61.0</td>\n",
       "      <td>236.0</td>\n",
       "      <td>53.0</td>\n",
       "      <td>168.0</td>\n",
       "      <td>76.0</td>\n",
       "      <td>1.08</td>\n",
       "      <td>-0.021210</td>\n",
       "      <td>-1</td>\n",
       "    </tr>\n",
       "    <tr>\n",
       "      <th>11</th>\n",
       "      <td>1.0</td>\n",
       "      <td>0.0</td>\n",
       "      <td>1.0</td>\n",
       "      <td>0.0</td>\n",
       "      <td>0.0</td>\n",
       "      <td>0.0</td>\n",
       "      <td>0.0</td>\n",
       "      <td>0.0</td>\n",
       "      <td>1.0</td>\n",
       "      <td>0.0</td>\n",
       "      <td>1.0</td>\n",
       "      <td>0.0</td>\n",
       "      <td>1.0</td>\n",
       "      <td>1.0</td>\n",
       "      <td>0.0</td>\n",
       "      <td>1.0</td>\n",
       "      <td>0.0</td>\n",
       "      <td>0.0</td>\n",
       "      <td>0.0</td>\n",
       "      <td>0.0</td>\n",
       "      <td>1.0</td>\n",
       "      <td>1.0</td>\n",
       "      <td>1.0</td>\n",
       "      <td>0.0</td>\n",
       "      <td>0.0</td>\n",
       "      <td>0.0</td>\n",
       "      <td>0.0</td>\n",
       "      <td>0.0</td>\n",
       "      <td>1.0</td>\n",
       "      <td>1.0</td>\n",
       "      <td>0.0</td>\n",
       "      <td>0.0</td>\n",
       "      <td>0.0</td>\n",
       "      <td>0.0</td>\n",
       "      <td>1.0</td>\n",
       "      <td>1.0</td>\n",
       "      <td>0.0</td>\n",
       "      <td>1.0</td>\n",
       "      <td>0.0</td>\n",
       "      <td>0.0</td>\n",
       "      <td>1.0</td>\n",
       "      <td>0.0</td>\n",
       "      <td>1.0</td>\n",
       "      <td>0.0</td>\n",
       "      <td>1.0</td>\n",
       "      <td>0.0</td>\n",
       "      <td>12.0</td>\n",
       "      <td>87.089888</td>\n",
       "      <td>85.0</td>\n",
       "      <td>4.71</td>\n",
       "      <td>2.81</td>\n",
       "      <td>10.7</td>\n",
       "      <td>3.0</td>\n",
       "      <td>60.0</td>\n",
       "      <td>73.0</td>\n",
       "      <td>168.0</td>\n",
       "      <td>25.864512</td>\n",
       "      <td>65.0</td>\n",
       "      <td>135.0</td>\n",
       "      <td>2.34</td>\n",
       "      <td>16.0</td>\n",
       "      <td>8.0</td>\n",
       "      <td>28.0</td>\n",
       "      <td>70.0</td>\n",
       "      <td>218.0</td>\n",
       "      <td>49.0</td>\n",
       "      <td>130.0</td>\n",
       "      <td>196.0</td>\n",
       "      <td>1.33</td>\n",
       "      <td>-0.036388</td>\n",
       "      <td>-1</td>\n",
       "    </tr>\n",
       "    <tr>\n",
       "      <th>14</th>\n",
       "      <td>1.0</td>\n",
       "      <td>1.0</td>\n",
       "      <td>0.0</td>\n",
       "      <td>0.0</td>\n",
       "      <td>0.0</td>\n",
       "      <td>0.0</td>\n",
       "      <td>0.0</td>\n",
       "      <td>1.0</td>\n",
       "      <td>1.0</td>\n",
       "      <td>0.0</td>\n",
       "      <td>1.0</td>\n",
       "      <td>0.0</td>\n",
       "      <td>0.0</td>\n",
       "      <td>1.0</td>\n",
       "      <td>1.0</td>\n",
       "      <td>1.0</td>\n",
       "      <td>0.0</td>\n",
       "      <td>0.0</td>\n",
       "      <td>0.0</td>\n",
       "      <td>0.0</td>\n",
       "      <td>1.0</td>\n",
       "      <td>0.0</td>\n",
       "      <td>0.0</td>\n",
       "      <td>0.0</td>\n",
       "      <td>0.0</td>\n",
       "      <td>0.0</td>\n",
       "      <td>0.0</td>\n",
       "      <td>0.0</td>\n",
       "      <td>0.0</td>\n",
       "      <td>0.0</td>\n",
       "      <td>0.0</td>\n",
       "      <td>0.0</td>\n",
       "      <td>0.0</td>\n",
       "      <td>1.0</td>\n",
       "      <td>0.0</td>\n",
       "      <td>1.0</td>\n",
       "      <td>0.0</td>\n",
       "      <td>1.0</td>\n",
       "      <td>0.0</td>\n",
       "      <td>0.0</td>\n",
       "      <td>1.0</td>\n",
       "      <td>1.0</td>\n",
       "      <td>0.0</td>\n",
       "      <td>0.0</td>\n",
       "      <td>1.0</td>\n",
       "      <td>0.0</td>\n",
       "      <td>15.0</td>\n",
       "      <td>82.196629</td>\n",
       "      <td>86.0</td>\n",
       "      <td>3.27</td>\n",
       "      <td>2.27</td>\n",
       "      <td>15.6</td>\n",
       "      <td>0.0</td>\n",
       "      <td>60.0</td>\n",
       "      <td>75.0</td>\n",
       "      <td>170.0</td>\n",
       "      <td>25.951557</td>\n",
       "      <td>60.0</td>\n",
       "      <td>135.0</td>\n",
       "      <td>1.88</td>\n",
       "      <td>13.0</td>\n",
       "      <td>11.0</td>\n",
       "      <td>35.0</td>\n",
       "      <td>57.0</td>\n",
       "      <td>80.0</td>\n",
       "      <td>28.0</td>\n",
       "      <td>42.0</td>\n",
       "      <td>52.0</td>\n",
       "      <td>1.74</td>\n",
       "      <td>-0.001371</td>\n",
       "      <td>-1</td>\n",
       "    </tr>\n",
       "    <tr>\n",
       "      <th>17</th>\n",
       "      <td>1.0</td>\n",
       "      <td>1.0</td>\n",
       "      <td>0.0</td>\n",
       "      <td>0.0</td>\n",
       "      <td>0.0</td>\n",
       "      <td>0.0</td>\n",
       "      <td>0.0</td>\n",
       "      <td>1.0</td>\n",
       "      <td>1.0</td>\n",
       "      <td>1.0</td>\n",
       "      <td>1.0</td>\n",
       "      <td>0.0</td>\n",
       "      <td>0.0</td>\n",
       "      <td>1.0</td>\n",
       "      <td>1.0</td>\n",
       "      <td>1.0</td>\n",
       "      <td>0.0</td>\n",
       "      <td>0.0</td>\n",
       "      <td>0.0</td>\n",
       "      <td>0.0</td>\n",
       "      <td>1.0</td>\n",
       "      <td>1.0</td>\n",
       "      <td>0.0</td>\n",
       "      <td>0.0</td>\n",
       "      <td>0.0</td>\n",
       "      <td>0.0</td>\n",
       "      <td>0.0</td>\n",
       "      <td>1.0</td>\n",
       "      <td>0.0</td>\n",
       "      <td>0.0</td>\n",
       "      <td>0.0</td>\n",
       "      <td>0.0</td>\n",
       "      <td>0.0</td>\n",
       "      <td>0.0</td>\n",
       "      <td>0.0</td>\n",
       "      <td>1.0</td>\n",
       "      <td>0.0</td>\n",
       "      <td>1.0</td>\n",
       "      <td>0.0</td>\n",
       "      <td>0.0</td>\n",
       "      <td>1.0</td>\n",
       "      <td>1.0</td>\n",
       "      <td>1.0</td>\n",
       "      <td>0.0</td>\n",
       "      <td>0.0</td>\n",
       "      <td>0.0</td>\n",
       "      <td>18.0</td>\n",
       "      <td>77.733146</td>\n",
       "      <td>101.0</td>\n",
       "      <td>1.10</td>\n",
       "      <td>2.58</td>\n",
       "      <td>12.5</td>\n",
       "      <td>0.0</td>\n",
       "      <td>70.0</td>\n",
       "      <td>70.0</td>\n",
       "      <td>173.0</td>\n",
       "      <td>23.388687</td>\n",
       "      <td>80.0</td>\n",
       "      <td>130.0</td>\n",
       "      <td>2.58</td>\n",
       "      <td>9.0</td>\n",
       "      <td>9.0</td>\n",
       "      <td>25.0</td>\n",
       "      <td>60.0</td>\n",
       "      <td>133.0</td>\n",
       "      <td>46.0</td>\n",
       "      <td>71.0</td>\n",
       "      <td>81.0</td>\n",
       "      <td>1.09</td>\n",
       "      <td>-0.011433</td>\n",
       "      <td>-1</td>\n",
       "    </tr>\n",
       "    <tr>\n",
       "      <th>20</th>\n",
       "      <td>1.0</td>\n",
       "      <td>0.0</td>\n",
       "      <td>0.0</td>\n",
       "      <td>1.0</td>\n",
       "      <td>0.0</td>\n",
       "      <td>0.0</td>\n",
       "      <td>0.0</td>\n",
       "      <td>1.0</td>\n",
       "      <td>1.0</td>\n",
       "      <td>0.0</td>\n",
       "      <td>1.0</td>\n",
       "      <td>0.0</td>\n",
       "      <td>1.0</td>\n",
       "      <td>1.0</td>\n",
       "      <td>1.0</td>\n",
       "      <td>1.0</td>\n",
       "      <td>0.0</td>\n",
       "      <td>0.0</td>\n",
       "      <td>0.0</td>\n",
       "      <td>0.0</td>\n",
       "      <td>1.0</td>\n",
       "      <td>0.0</td>\n",
       "      <td>0.0</td>\n",
       "      <td>0.0</td>\n",
       "      <td>0.0</td>\n",
       "      <td>0.0</td>\n",
       "      <td>0.0</td>\n",
       "      <td>0.0</td>\n",
       "      <td>0.0</td>\n",
       "      <td>0.0</td>\n",
       "      <td>0.0</td>\n",
       "      <td>0.0</td>\n",
       "      <td>0.0</td>\n",
       "      <td>0.0</td>\n",
       "      <td>0.0</td>\n",
       "      <td>1.0</td>\n",
       "      <td>0.0</td>\n",
       "      <td>1.0</td>\n",
       "      <td>0.0</td>\n",
       "      <td>0.0</td>\n",
       "      <td>1.0</td>\n",
       "      <td>1.0</td>\n",
       "      <td>0.0</td>\n",
       "      <td>1.0</td>\n",
       "      <td>1.0</td>\n",
       "      <td>0.0</td>\n",
       "      <td>21.0</td>\n",
       "      <td>54.162921</td>\n",
       "      <td>113.0</td>\n",
       "      <td>0.16</td>\n",
       "      <td>2.89</td>\n",
       "      <td>14.0</td>\n",
       "      <td>2.0</td>\n",
       "      <td>46.0</td>\n",
       "      <td>69.0</td>\n",
       "      <td>166.0</td>\n",
       "      <td>25.039919</td>\n",
       "      <td>80.0</td>\n",
       "      <td>137.0</td>\n",
       "      <td>1.89</td>\n",
       "      <td>10.0</td>\n",
       "      <td>10.0</td>\n",
       "      <td>35.0</td>\n",
       "      <td>56.0</td>\n",
       "      <td>279.0</td>\n",
       "      <td>38.0</td>\n",
       "      <td>216.0</td>\n",
       "      <td>124.0</td>\n",
       "      <td>0.94</td>\n",
       "      <td>-0.001386</td>\n",
       "      <td>-1</td>\n",
       "    </tr>\n",
       "  </tbody>\n",
       "</table>\n",
       "</div>"
      ],
      "text/plain": [
       "    Gender (Male = 1)  Euthyroid  Subclinical primary hypothyroidism (SCH)  \\\n",
       "10                1.0        0.0                                       0.0   \n",
       "11                1.0        0.0                                       1.0   \n",
       "14                1.0        1.0                                       0.0   \n",
       "17                1.0        1.0                                       0.0   \n",
       "20                1.0        0.0                                       0.0   \n",
       "\n",
       "    Subclinical primary hyperthyroidism\\n(SCT)  Low T3  Ipotiroidismo  \\\n",
       "10                                         0.0     0.0            0.0   \n",
       "11                                         0.0     0.0            0.0   \n",
       "14                                         0.0     0.0            0.0   \n",
       "17                                         0.0     0.0            0.0   \n",
       "20                                         1.0     0.0            0.0   \n",
       "\n",
       "    Ipertiroidismo  Angina  Previous CABG  Previous PCI  \\\n",
       "10             1.0     1.0            0.0           0.0   \n",
       "11             0.0     0.0            1.0           0.0   \n",
       "14             0.0     1.0            1.0           0.0   \n",
       "17             0.0     1.0            1.0           1.0   \n",
       "20             0.0     1.0            1.0           0.0   \n",
       "\n",
       "    Previous Myocardial Infarction  Acute Myocardial Infarction  Angiography  \\\n",
       "10                             1.0                          0.0          1.0   \n",
       "11                             1.0                          0.0          1.0   \n",
       "14                             1.0                          0.0          0.0   \n",
       "17                             1.0                          0.0          0.0   \n",
       "20                             1.0                          0.0          1.0   \n",
       "\n",
       "    CAD  Documented resting \\nor exertional ischemia  \\\n",
       "10  1.0                                          1.0   \n",
       "11  1.0                                          0.0   \n",
       "14  1.0                                          1.0   \n",
       "17  1.0                                          1.0   \n",
       "20  1.0                                          1.0   \n",
       "\n",
       "    Post-ischemic Dilated\\nCardiomyopathy  Primary Dilated\\nCardiomyopathy  \\\n",
       "10                                    1.0                              0.0   \n",
       "11                                    1.0                              0.0   \n",
       "14                                    1.0                              0.0   \n",
       "17                                    1.0                              0.0   \n",
       "20                                    1.0                              0.0   \n",
       "\n",
       "    Normal  SindromeX  AMI  PMI  Aritmie  MIN  MIO  Miocardite  Pericardite  \\\n",
       "10     0.0        0.0  0.0  1.0      0.0  0.0  0.0         0.0          0.0   \n",
       "11     0.0        0.0  0.0  1.0      1.0  1.0  0.0         0.0          0.0   \n",
       "14     0.0        0.0  0.0  1.0      0.0  0.0  0.0         0.0          0.0   \n",
       "17     0.0        0.0  0.0  1.0      1.0  0.0  0.0         0.0          0.0   \n",
       "20     0.0        0.0  0.0  1.0      0.0  0.0  0.0         0.0          0.0   \n",
       "\n",
       "    Endocardite  Valvulopatie  MalattiaVasoAorta  Ipertensione  \\\n",
       "10          0.0           1.0                0.0           0.0   \n",
       "11          0.0           0.0                1.0           1.0   \n",
       "14          0.0           0.0                0.0           0.0   \n",
       "17          0.0           1.0                0.0           0.0   \n",
       "20          0.0           0.0                0.0           0.0   \n",
       "\n",
       "    EmboliaPolmonare  EPA  Smoke\\nHistory of smoke  \\\n",
       "10               0.0  0.0                      0.0   \n",
       "11               0.0  0.0                      0.0   \n",
       "14               0.0  0.0                      0.0   \n",
       "17               0.0  0.0                      0.0   \n",
       "20               0.0  0.0                      0.0   \n",
       "\n",
       "    Diabetes\\nHistory of diabetes  Hypertension\\nHistory of hypertension  \\\n",
       "10                            0.0                                    1.0   \n",
       "11                            0.0                                    1.0   \n",
       "14                            1.0                                    0.0   \n",
       "17                            0.0                                    0.0   \n",
       "20                            0.0                                    0.0   \n",
       "\n",
       "    Dyslipidemia\\nHystory of dyslipidemia  Atrial Fibrillation  B-Blockers  \\\n",
       "10                                    1.0                  0.0         1.0   \n",
       "11                                    1.0                  0.0         1.0   \n",
       "14                                    1.0                  0.0         1.0   \n",
       "17                                    1.0                  0.0         1.0   \n",
       "20                                    1.0                  0.0         1.0   \n",
       "\n",
       "    Amiodarone  Calcium channel blockers  Diuretics  Antiplatelet  Nitrates  \\\n",
       "10         0.0                       0.0        0.0           0.0       1.0   \n",
       "11         0.0                       0.0        1.0           0.0       1.0   \n",
       "14         0.0                       0.0        1.0           1.0       0.0   \n",
       "17         0.0                       0.0        1.0           1.0       1.0   \n",
       "20         0.0                       0.0        1.0           1.0       0.0   \n",
       "\n",
       "    ACE-inhibitors  Ipolipemizzanti  Antidiabetici  Number        Age  \\\n",
       "10             1.0              0.0            0.0    11.0  75.876404   \n",
       "11             0.0              1.0            0.0    12.0  87.089888   \n",
       "14             0.0              1.0            0.0    15.0  82.196629   \n",
       "17             0.0              0.0            0.0    18.0  77.733146   \n",
       "20             1.0              1.0            0.0    21.0  54.162921   \n",
       "\n",
       "    Glycemia   TSH   fT3   fT4  Vessels    HR  Weight  Height        BMI  \\\n",
       "10     119.0  0.01  2.19  20.0      4.0  48.0    74.0   174.0  24.441802   \n",
       "11      85.0  4.71  2.81  10.7      3.0  60.0    73.0   168.0  25.864512   \n",
       "14      86.0  3.27  2.27  15.6      0.0  60.0    75.0   170.0  25.951557   \n",
       "17     101.0  1.10  2.58  12.5      0.0  70.0    70.0   173.0  23.388687   \n",
       "20     113.0  0.16  2.89  14.0      2.0  46.0    69.0   166.0  25.039919   \n",
       "\n",
       "    Diastolic blood pressure  Systolic blood pressure  WmsiBas  DimSettoIV  \\\n",
       "10                      90.0                    170.0     1.88        11.0   \n",
       "11                      65.0                    135.0     2.34        16.0   \n",
       "14                      60.0                    135.0     1.88        13.0   \n",
       "17                      80.0                    130.0     2.58         9.0   \n",
       "20                      80.0                    137.0     1.89        10.0   \n",
       "\n",
       "    DimPP    fe   vsx  Total cholesterol   HDL    LDL  Triglycerides  \\\n",
       "10   11.0  35.0  61.0              236.0  53.0  168.0           76.0   \n",
       "11    8.0  28.0  70.0              218.0  49.0  130.0          196.0   \n",
       "14   11.0  35.0  57.0               80.0  28.0   42.0           52.0   \n",
       "17    9.0  25.0  60.0              133.0  46.0   71.0           81.0   \n",
       "20   10.0  35.0  56.0              279.0  38.0  216.0          124.0   \n",
       "\n",
       "    Creatinina    scores  anomaly_score  \n",
       "10        1.08 -0.021210             -1  \n",
       "11        1.33 -0.036388             -1  \n",
       "14        1.74 -0.001371             -1  \n",
       "17        1.09 -0.011433             -1  \n",
       "20        0.94 -0.001386             -1  "
      ]
     },
     "execution_count": 48,
     "metadata": {},
     "output_type": "execute_result"
    }
   ],
   "source": [
    "chl_dataset3['scores'] = model.decision_function(chl_dataset3)\n",
    "\n",
    "chl_dataset3['anomaly_score'] = model.predict(chl_dataset3)\n",
    "\n",
    "chl_dataset3[chl_dataset3['anomaly_score']==-1].head()"
   ]
  },
  {
   "cell_type": "code",
   "execution_count": 50,
   "metadata": {},
   "outputs": [
    {
     "name": "stdout",
     "output_type": "stream",
     "text": [
      "Accuracy of the model: 10.185185185185185\n"
     ]
    }
   ],
   "source": [
    "anomalies = chl_dataset3[chl_dataset3['anomaly_score'] == -1]\n",
    "\n",
    "# Calcola il numero totale di anomalie\n",
    "anomaly_count = len(anomalies)\n",
    "\n",
    "accuracy = 100 * anomaly_count / len(chl_dataset3)\n",
    "print(\"Accuracy of the model:\", accuracy)"
   ]
  },
  {
   "cell_type": "markdown",
   "metadata": {},
   "source": [
    "### Detecting Outliers in Continue Columns\n",
    "\n",
    "In this section, we display various plots for the continuous columns to examine their distribution and remove values that we consider outliers."
   ]
  },
  {
   "cell_type": "markdown",
   "metadata": {},
   "source": [
    "#### Glycemia "
   ]
  },
  {
   "cell_type": "code",
   "execution_count": null,
   "metadata": {},
   "outputs": [],
   "source": [
    "chl_dataset.Glycemia.isna().sum()"
   ]
  },
  {
   "cell_type": "code",
   "execution_count": null,
   "metadata": {},
   "outputs": [],
   "source": [
    "boxplot_func(columns_of_interest=\"Glycemia\", \n",
    "             data_frame=chl_dataset, \n",
    "             yscale='log', \n",
    "             whis=4,\n",
    "             title=\"Box Plot for Glycemia in log scale\",\n",
    "             figsize=(6,5))"
   ]
  },
  {
   "cell_type": "code",
   "execution_count": null,
   "metadata": {},
   "outputs": [],
   "source": [
    "sea_histogram(dataframe_to_plot=chl_dataset,\n",
    "              column_of_interest=\"Glycemia\",\n",
    "              xlabel=\"Glycemia\",\n",
    "              ylabel=\"Count\",\n",
    "              title=\"Distribution of Glycemia in log scale\",\n",
    "              vline=True,\n",
    "              n_vline=350,\n",
    "              show_grid=True,\n",
    "              element=\"step\",\n",
    "              ylog=True,\n",
    "              figsize=(7,6)\n",
    "              )"
   ]
  },
  {
   "cell_type": "markdown",
   "metadata": {},
   "source": [
    "We eliminate all `Glycemia` values that are above 350 and see how the distribution improves."
   ]
  },
  {
   "cell_type": "code",
   "execution_count": null,
   "metadata": {},
   "outputs": [],
   "source": [
    "chl_dataset[\"Glycemia\"]=remove_outliers(dataframe=chl_dataset,\n",
    "                                        column_name=\"Glycemia\",\n",
    "                                        threshold=350)"
   ]
  },
  {
   "cell_type": "code",
   "execution_count": null,
   "metadata": {},
   "outputs": [],
   "source": [
    "chl_dataset.Glycemia.isna().sum()"
   ]
  },
  {
   "cell_type": "code",
   "execution_count": null,
   "metadata": {},
   "outputs": [],
   "source": [
    "sea_histogram(dataframe_to_plot=chl_dataset,\n",
    "              column_of_interest=\"Glycemia\",\n",
    "              xlabel=\"Glycemia\",\n",
    "              ylabel=\"Count\",\n",
    "              title=\"Distribution of Glycemia\",\n",
    "              show_grid=True,\n",
    "              element=\"bars\",\n",
    "              figsize=(7,6),\n",
    "              kde=True,\n",
    "              color=\"coral\",\n",
    "              binwidth=5\n",
    "              )"
   ]
  },
  {
   "cell_type": "markdown",
   "metadata": {},
   "source": [
    "#### TSH"
   ]
  },
  {
   "cell_type": "code",
   "execution_count": null,
   "metadata": {},
   "outputs": [],
   "source": [
    "chl_dataset.TSH.isna().sum()"
   ]
  },
  {
   "cell_type": "code",
   "execution_count": null,
   "metadata": {},
   "outputs": [],
   "source": [
    "boxplot_func(columns_of_interest=\"TSH\", \n",
    "             data_frame=chl_dataset, \n",
    "             whis=12,\n",
    "             title=\"Box Plot for TSH\",\n",
    "             figsize=(6,5))"
   ]
  },
  {
   "cell_type": "code",
   "execution_count": null,
   "metadata": {},
   "outputs": [],
   "source": [
    "sea_histogram(dataframe_to_plot=chl_dataset,\n",
    "              column_of_interest=\"TSH\",\n",
    "              xlabel=\"TSH\",\n",
    "              ylabel=\"Count\",\n",
    "              title=\"Distribution of TSH in log scale\",\n",
    "              vline=True,\n",
    "              n_vline=21,\n",
    "              show_grid=True,\n",
    "              element=\"step\",\n",
    "              ylog=True,\n",
    "              figsize=(7,6)\n",
    "              )"
   ]
  },
  {
   "cell_type": "markdown",
   "metadata": {},
   "source": [
    "We eliminate all `TSH` values that are above 21 and see how the distribution improves."
   ]
  },
  {
   "cell_type": "code",
   "execution_count": null,
   "metadata": {},
   "outputs": [],
   "source": [
    "chl_dataset[\"TSH\"]=remove_outliers(dataframe=chl_dataset,\n",
    "                                        column_name=\"TSH\",\n",
    "                                        threshold=21)"
   ]
  },
  {
   "cell_type": "code",
   "execution_count": null,
   "metadata": {},
   "outputs": [],
   "source": [
    "chl_dataset.TSH.isna().sum()"
   ]
  },
  {
   "cell_type": "code",
   "execution_count": null,
   "metadata": {},
   "outputs": [],
   "source": [
    "sea_histogram(dataframe_to_plot=chl_dataset,\n",
    "              column_of_interest=\"TSH\",\n",
    "              xlabel=\"TSH\",\n",
    "              ylabel=\"Count\",\n",
    "              title=\"Distribution of TSH\",\n",
    "              kde=True,\n",
    "              show_grid=True,\n",
    "              element=\"bars\",\n",
    "              figsize=(7,6),\n",
    "              color=\"coral\",\n",
    "              binwidth=1,\n",
    "              kde_kws= { \"bw_method\": 0.5}\n",
    "              )"
   ]
  },
  {
   "cell_type": "markdown",
   "metadata": {},
   "source": [
    "#### fT3  "
   ]
  },
  {
   "cell_type": "code",
   "execution_count": null,
   "metadata": {},
   "outputs": [],
   "source": [
    "chl_dataset.fT3.isna().sum()"
   ]
  },
  {
   "cell_type": "code",
   "execution_count": null,
   "metadata": {},
   "outputs": [],
   "source": [
    "boxplot_func(columns_of_interest=\"fT3\", \n",
    "             data_frame=chl_dataset,  \n",
    "             whis=10,\n",
    "             title=\"Box Plot for fT3\",\n",
    "             figsize=(6,5))"
   ]
  },
  {
   "cell_type": "code",
   "execution_count": null,
   "metadata": {},
   "outputs": [],
   "source": [
    "sea_histogram(dataframe_to_plot=chl_dataset,\n",
    "              column_of_interest=\"fT3\",\n",
    "              xlabel=\"fT3\",\n",
    "              ylabel=\"Count\",\n",
    "              title=\"Distribution of fT3 in log scale\",\n",
    "              vline=True,\n",
    "              n_vline=13,\n",
    "              show_grid=True,\n",
    "              element=\"step\",\n",
    "              ylog=True,\n",
    "              figsize=(7,6)\n",
    "              )"
   ]
  },
  {
   "cell_type": "markdown",
   "metadata": {},
   "source": [
    "We eliminate all `fT3` values that are above 13 and see how the distribution improves."
   ]
  },
  {
   "cell_type": "code",
   "execution_count": null,
   "metadata": {},
   "outputs": [],
   "source": [
    "chl_dataset[\"fT3\"]=remove_outliers(dataframe=chl_dataset,\n",
    "                                        column_name=\"fT3\",\n",
    "                                        threshold=13)"
   ]
  },
  {
   "cell_type": "code",
   "execution_count": null,
   "metadata": {},
   "outputs": [],
   "source": [
    "chl_dataset.fT3.isna().sum()"
   ]
  },
  {
   "cell_type": "code",
   "execution_count": null,
   "metadata": {},
   "outputs": [],
   "source": [
    "sea_histogram(dataframe_to_plot=chl_dataset,\n",
    "              column_of_interest=\"fT3\",\n",
    "              xlabel=\"fT3\",\n",
    "              ylabel=\"Count\",\n",
    "              title=\"Distribution of fT3\",\n",
    "              kde=True,\n",
    "              show_grid=True,\n",
    "              element=\"bars\",\n",
    "              figsize=(7,6),\n",
    "              color=\"coral\",\n",
    "              binwidth=0.15\n",
    "              )"
   ]
  },
  {
   "cell_type": "markdown",
   "metadata": {},
   "source": [
    "#### fT4  "
   ]
  },
  {
   "cell_type": "code",
   "execution_count": null,
   "metadata": {},
   "outputs": [],
   "source": [
    "chl_dataset.fT4.isna().sum()"
   ]
  },
  {
   "cell_type": "code",
   "execution_count": null,
   "metadata": {},
   "outputs": [],
   "source": [
    "boxplot_func(columns_of_interest=\"fT4\", \n",
    "             data_frame=chl_dataset, \n",
    "             whis=8,\n",
    "             title=\"Box Plot for fT4\",\n",
    "             figsize=(6,5))"
   ]
  },
  {
   "cell_type": "code",
   "execution_count": null,
   "metadata": {},
   "outputs": [],
   "source": [
    "sea_histogram(dataframe_to_plot=chl_dataset,\n",
    "              column_of_interest=\"fT4\",\n",
    "              xlabel=\"fT4\",\n",
    "              ylabel=\"Count\",\n",
    "              title=\"Distribution of fT4 in log scale\",\n",
    "              vline=True,\n",
    "              n_vline=40,\n",
    "              show_grid=True,\n",
    "              element=\"step\",\n",
    "              ylog=True,\n",
    "              figsize=(7,6)\n",
    "              )"
   ]
  },
  {
   "cell_type": "markdown",
   "metadata": {},
   "source": [
    "We eliminate all `fT4` values that are above 40 and see how the distribution improves."
   ]
  },
  {
   "cell_type": "code",
   "execution_count": null,
   "metadata": {},
   "outputs": [],
   "source": [
    "chl_dataset[\"fT4\"]=remove_outliers(dataframe=chl_dataset,\n",
    "                                        column_name=\"fT4\",\n",
    "                                        threshold=40)"
   ]
  },
  {
   "cell_type": "code",
   "execution_count": null,
   "metadata": {},
   "outputs": [],
   "source": [
    "chl_dataset.fT4.isna().sum()"
   ]
  },
  {
   "cell_type": "code",
   "execution_count": null,
   "metadata": {},
   "outputs": [],
   "source": [
    "sea_histogram(dataframe_to_plot=chl_dataset,\n",
    "              column_of_interest=\"fT4\",\n",
    "              xlabel=\"fT4\",\n",
    "              ylabel=\"Count\",\n",
    "              title=\"Distribution of fT4\",\n",
    "              kde=True,\n",
    "              show_grid=True,\n",
    "              element=\"bars\",\n",
    "              figsize=(7,6),\n",
    "              color=\"coral\"\n",
    "              )"
   ]
  },
  {
   "cell_type": "markdown",
   "metadata": {},
   "source": [
    "#### Vessels "
   ]
  },
  {
   "cell_type": "code",
   "execution_count": null,
   "metadata": {},
   "outputs": [],
   "source": [
    "chl_dataset.Vessels.isna().sum()"
   ]
  },
  {
   "cell_type": "code",
   "execution_count": null,
   "metadata": {},
   "outputs": [],
   "source": [
    "boxplot_func(columns_of_interest=\"Vessels\", \n",
    "             data_frame=chl_dataset,  \n",
    "             whis=3,\n",
    "             title=\"Box Plot for Vessels\",\n",
    "             figsize=(6,5))"
   ]
  },
  {
   "cell_type": "code",
   "execution_count": null,
   "metadata": {},
   "outputs": [],
   "source": [
    "sea_histogram(dataframe_to_plot=chl_dataset,\n",
    "              column_of_interest=\"Vessels\",\n",
    "              xlabel=\"Vessels\",\n",
    "              ylabel=\"Count\",\n",
    "              title=\"Distribution of Vessels\",\n",
    "              show_grid=True,\n",
    "              element=\"bars\",\n",
    "              figsize=(7,6)\n",
    "              )"
   ]
  },
  {
   "cell_type": "markdown",
   "metadata": {},
   "source": [
    "We do not eliminate any values for the `Vessels` column since we find no outliers."
   ]
  },
  {
   "cell_type": "code",
   "execution_count": null,
   "metadata": {},
   "outputs": [],
   "source": [
    "sea_histogram(dataframe_to_plot=chl_dataset,\n",
    "              column_of_interest=\"Vessels\",\n",
    "              xlabel=\"fT4\",\n",
    "              ylabel=\"Count\",\n",
    "              title=\"Distribution of Vessels\",\n",
    "              kde=True,\n",
    "              show_grid=True,\n",
    "              element=\"bars\",\n",
    "              figsize=(7,6),\n",
    "              color=\"coral\",\n",
    "              discrete=True,\n",
    "              kde_kws= { \"bw_method\": 1}\n",
    "              )"
   ]
  },
  {
   "cell_type": "markdown",
   "metadata": {},
   "source": [
    "#### HR"
   ]
  },
  {
   "cell_type": "code",
   "execution_count": null,
   "metadata": {},
   "outputs": [],
   "source": [
    "chl_dataset.HR.isna().sum()"
   ]
  },
  {
   "cell_type": "code",
   "execution_count": null,
   "metadata": {},
   "outputs": [],
   "source": [
    "boxplot_func(columns_of_interest=\"HR\", \n",
    "             data_frame=chl_dataset, \n",
    "             #yscale='log', \n",
    "             whis=6,\n",
    "             title=\"Box Plot for HR\",\n",
    "             figsize=(6,5))"
   ]
  },
  {
   "cell_type": "code",
   "execution_count": null,
   "metadata": {},
   "outputs": [],
   "source": [
    "sea_histogram(dataframe_to_plot=chl_dataset,\n",
    "              column_of_interest=\"HR\",\n",
    "              xlabel=\"HR\",\n",
    "              ylabel=\"Count\",\n",
    "              title=\"Distribution of HR in log scale\",\n",
    "              vline=True,\n",
    "              n_vline=190,\n",
    "              show_grid=True,\n",
    "              element=\"step\",\n",
    "              ylog=True,\n",
    "              figsize=(7,6)\n",
    "              )"
   ]
  },
  {
   "cell_type": "markdown",
   "metadata": {},
   "source": [
    "We eliminate all `HR` values that are above 190 and see how the distribution improves."
   ]
  },
  {
   "cell_type": "code",
   "execution_count": null,
   "metadata": {},
   "outputs": [],
   "source": [
    "chl_dataset[\"HR\"]=remove_outliers(dataframe=chl_dataset,\n",
    "                                        column_name=\"HR\",\n",
    "                                        threshold=190)"
   ]
  },
  {
   "cell_type": "code",
   "execution_count": null,
   "metadata": {},
   "outputs": [],
   "source": [
    "chl_dataset.HR.isna().sum()"
   ]
  },
  {
   "cell_type": "code",
   "execution_count": null,
   "metadata": {},
   "outputs": [],
   "source": [
    "sea_histogram(dataframe_to_plot=chl_dataset,\n",
    "              column_of_interest=\"HR\",\n",
    "              xlabel=\"HR\",\n",
    "              ylabel=\"Count\",\n",
    "              title=\"Distribution of HR\",\n",
    "              kde=True,\n",
    "              show_grid=True,\n",
    "              element=\"bars\",\n",
    "              figsize=(7,6),\n",
    "              color=\"coral\",\n",
    "              kde_kws={\"bw_method\": 0.4}\n",
    "              )"
   ]
  },
  {
   "cell_type": "markdown",
   "metadata": {},
   "source": [
    "#### Weight "
   ]
  },
  {
   "cell_type": "code",
   "execution_count": null,
   "metadata": {},
   "outputs": [],
   "source": [
    "chl_dataset.Weight.isna().sum()"
   ]
  },
  {
   "cell_type": "code",
   "execution_count": null,
   "metadata": {},
   "outputs": [],
   "source": [
    "boxplot_func(columns_of_interest=\"Weight\", \n",
    "             data_frame=chl_dataset, \n",
    "             whis=4,\n",
    "             title=\"Box Plot for Weight\",\n",
    "             figsize=(6,5))"
   ]
  },
  {
   "cell_type": "code",
   "execution_count": null,
   "metadata": {},
   "outputs": [],
   "source": [
    "sea_histogram(dataframe_to_plot=chl_dataset,\n",
    "              column_of_interest=\"Weight\",\n",
    "              xlabel=\"Weight\",\n",
    "              ylabel=\"Count\",\n",
    "              title=\"Distribution of Weight in log scale\",\n",
    "              show_grid=True,\n",
    "              element=\"step\",\n",
    "              ylog=True,\n",
    "              figsize=(7,6)\n",
    "              )"
   ]
  },
  {
   "cell_type": "markdown",
   "metadata": {},
   "source": [
    "We do not eliminate any values for the `Weight` column since we find no outliers."
   ]
  },
  {
   "cell_type": "code",
   "execution_count": null,
   "metadata": {},
   "outputs": [],
   "source": [
    "sea_histogram(dataframe_to_plot=chl_dataset,\n",
    "              column_of_interest=\"Weight\",\n",
    "              xlabel=\"Weight\",\n",
    "              ylabel=\"Count\",\n",
    "              title=\"Distribution of Weight\",\n",
    "              kde=True,\n",
    "              show_grid=True,\n",
    "              element=\"bars\",\n",
    "              figsize=(7,6),\n",
    "              color=\"coral\"\n",
    "              )"
   ]
  },
  {
   "cell_type": "markdown",
   "metadata": {},
   "source": [
    "#### Height"
   ]
  },
  {
   "cell_type": "code",
   "execution_count": null,
   "metadata": {},
   "outputs": [],
   "source": [
    "chl_dataset.Height.isna().sum()"
   ]
  },
  {
   "cell_type": "code",
   "execution_count": null,
   "metadata": {},
   "outputs": [],
   "source": [
    "boxplot_func(columns_of_interest=\"Height\", \n",
    "             data_frame=chl_dataset,  \n",
    "             whis=4,\n",
    "             title=\"Box Plot for Height\",\n",
    "             figsize=(6,5))"
   ]
  },
  {
   "cell_type": "code",
   "execution_count": null,
   "metadata": {},
   "outputs": [],
   "source": [
    "sea_histogram(dataframe_to_plot=chl_dataset,\n",
    "              column_of_interest=\"Height\",\n",
    "              xlabel=\"Height\",\n",
    "              ylabel=\"Count\",\n",
    "              title=\"Distribution of Height in log scale\",\n",
    "              show_grid=True,\n",
    "              element=\"step\",\n",
    "              ylog=True,\n",
    "              figsize=(7,6)\n",
    "              )"
   ]
  },
  {
   "cell_type": "markdown",
   "metadata": {},
   "source": [
    "We do not eliminate any values for the `Height` column since we find no outliers."
   ]
  },
  {
   "cell_type": "code",
   "execution_count": null,
   "metadata": {},
   "outputs": [],
   "source": [
    "sea_histogram(dataframe_to_plot=chl_dataset,\n",
    "              column_of_interest=\"Height\",\n",
    "              xlabel=\"Height\",\n",
    "              ylabel=\"Count\",\n",
    "              title=\"Distribution of Height\",\n",
    "              kde=True,\n",
    "              show_grid=True,\n",
    "              element=\"bars\",\n",
    "              figsize=(7,6),\n",
    "              color=\"coral\",\n",
    "              binwidth=2,\n",
    "              kde_kws= { \"bw_method\": 0.4}\n",
    "              )"
   ]
  },
  {
   "cell_type": "markdown",
   "metadata": {},
   "source": [
    "#### BMI"
   ]
  },
  {
   "cell_type": "code",
   "execution_count": null,
   "metadata": {},
   "outputs": [],
   "source": [
    "chl_dataset.BMI.isna().sum()"
   ]
  },
  {
   "cell_type": "code",
   "execution_count": null,
   "metadata": {},
   "outputs": [],
   "source": [
    "boxplot_func(columns_of_interest=\"BMI\", \n",
    "             data_frame=chl_dataset, \n",
    "             whis=5,\n",
    "             title=\"Box Plot for BMI\",\n",
    "             figsize=(6,5))"
   ]
  },
  {
   "cell_type": "code",
   "execution_count": null,
   "metadata": {},
   "outputs": [],
   "source": [
    "sea_histogram(dataframe_to_plot=chl_dataset,\n",
    "              column_of_interest=\"BMI\",\n",
    "              xlabel=\"BMI\",\n",
    "              ylabel=\"Count\",\n",
    "              title=\"Distribution of BMI in log scale\",\n",
    "              vline=True,\n",
    "              n_vline=55,\n",
    "              show_grid=True,\n",
    "              element=\"step\",\n",
    "              ylog=True,\n",
    "              figsize=(7,6)\n",
    "              )"
   ]
  },
  {
   "cell_type": "markdown",
   "metadata": {},
   "source": [
    "We eliminate all `BMI` values that are above 55 and see how the distribution improves."
   ]
  },
  {
   "cell_type": "code",
   "execution_count": null,
   "metadata": {},
   "outputs": [],
   "source": [
    "chl_dataset[\"BMI\"]=remove_outliers(dataframe=chl_dataset,\n",
    "                                        column_name=\"BMI\",\n",
    "                                        threshold=55)"
   ]
  },
  {
   "cell_type": "code",
   "execution_count": null,
   "metadata": {},
   "outputs": [],
   "source": [
    "chl_dataset.BMI.isna().sum()"
   ]
  },
  {
   "cell_type": "code",
   "execution_count": null,
   "metadata": {},
   "outputs": [],
   "source": [
    "sea_histogram(dataframe_to_plot=chl_dataset,\n",
    "              column_of_interest=\"BMI\",\n",
    "              xlabel=\"BMI\",\n",
    "              ylabel=\"Count\",\n",
    "              title=\"Distribution of BMI\",\n",
    "              kde=True,\n",
    "              show_grid=True,\n",
    "              element=\"bars\",\n",
    "              figsize=(7,6),\n",
    "              color=\"coral\"\n",
    "              )"
   ]
  },
  {
   "cell_type": "markdown",
   "metadata": {},
   "source": [
    "#### Diastolic blood pressure"
   ]
  },
  {
   "cell_type": "code",
   "execution_count": null,
   "metadata": {},
   "outputs": [],
   "source": [
    "chl_dataset[\"Diastolic blood pressure\"].isna().sum()"
   ]
  },
  {
   "cell_type": "code",
   "execution_count": null,
   "metadata": {},
   "outputs": [],
   "source": [
    "boxplot_func(columns_of_interest=\"Diastolic blood pressure\", \n",
    "             data_frame=chl_dataset, \n",
    "             #yscale='log', \n",
    "             whis=4,\n",
    "             title=\"Box Plot for Diastolic blood pressure\",\n",
    "             figsize=(6,5))"
   ]
  },
  {
   "cell_type": "code",
   "execution_count": null,
   "metadata": {},
   "outputs": [],
   "source": [
    "sea_histogram(dataframe_to_plot=chl_dataset,\n",
    "              column_of_interest=\"Diastolic blood pressure\",\n",
    "              xlabel=\"Diastolic blood pressure\",\n",
    "              ylabel=\"Count\",\n",
    "              title=\"Distribution of Diastolic blood pressure in log scale\",\n",
    "              vline=True,\n",
    "              n_vline=141,\n",
    "              show_grid=True,\n",
    "              element=\"step\",\n",
    "              ylog=True,\n",
    "              figsize=(7,6)\n",
    "              )"
   ]
  },
  {
   "cell_type": "markdown",
   "metadata": {},
   "source": [
    "We eliminate all `Diastolic blood pressure` values that are above 141 and see how the distribution improves."
   ]
  },
  {
   "cell_type": "code",
   "execution_count": null,
   "metadata": {},
   "outputs": [],
   "source": [
    "chl_dataset[\"Diastolic blood pressure\"]=remove_outliers(dataframe=chl_dataset,\n",
    "                                        column_name=\"Diastolic blood pressure\",\n",
    "                                        threshold=141)"
   ]
  },
  {
   "cell_type": "code",
   "execution_count": null,
   "metadata": {},
   "outputs": [],
   "source": [
    "chl_dataset[\"Diastolic blood pressure\"].isna().sum()"
   ]
  },
  {
   "cell_type": "code",
   "execution_count": null,
   "metadata": {},
   "outputs": [],
   "source": [
    "sea_histogram(dataframe_to_plot=chl_dataset,\n",
    "              column_of_interest=\"Diastolic blood pressure\",\n",
    "              xlabel=\"Diastolic blood pressure\",\n",
    "              ylabel=\"Count\",\n",
    "              title=\"Distribution of Diastolic blood pressure\",\n",
    "              kde=True,\n",
    "              show_grid=True,\n",
    "              element=\"bars\",\n",
    "              figsize=(7,6),\n",
    "              color=\"coral\",\n",
    "              kde_kws= { \"bw_method\": 0.5},\n",
    "              binwidth=5\n",
    "              )"
   ]
  },
  {
   "cell_type": "markdown",
   "metadata": {},
   "source": [
    "#### Systolic blood pressure"
   ]
  },
  {
   "cell_type": "code",
   "execution_count": null,
   "metadata": {},
   "outputs": [],
   "source": [
    "chl_dataset[\"Systolic blood pressure\"].isna().sum()"
   ]
  },
  {
   "cell_type": "code",
   "execution_count": null,
   "metadata": {},
   "outputs": [],
   "source": [
    "boxplot_func(columns_of_interest=\"Systolic blood pressure\", \n",
    "             data_frame=chl_dataset, \n",
    "             whis=4,\n",
    "             title=\"Box Plot for Systolic blood pressure\",\n",
    "             figsize=(6,5))"
   ]
  },
  {
   "cell_type": "code",
   "execution_count": null,
   "metadata": {},
   "outputs": [],
   "source": [
    "sea_histogram(dataframe_to_plot=chl_dataset,\n",
    "              column_of_interest=\"Systolic blood pressure\",\n",
    "              xlabel=\"Systolic blood pressure\",\n",
    "              ylabel=\"Count\",\n",
    "              title=\"Distribution of Systolic blood pressure in log scale\",\n",
    "              show_grid=True,\n",
    "              element=\"step\",\n",
    "              ylog=True,\n",
    "              figsize=(7,6)\n",
    "              )"
   ]
  },
  {
   "cell_type": "markdown",
   "metadata": {},
   "source": [
    "We do not eliminate any values for the `Systolic blood pressure` column since we find no outliers."
   ]
  },
  {
   "cell_type": "code",
   "execution_count": null,
   "metadata": {},
   "outputs": [],
   "source": [
    "sea_histogram(dataframe_to_plot=chl_dataset,\n",
    "              column_of_interest=\"Systolic blood pressure\",\n",
    "              xlabel=\"Systolic blood pressure\",\n",
    "              ylabel=\"Count\",\n",
    "              title=\"Distribution of Systolic blood pressure\",\n",
    "              kde=True,\n",
    "              show_grid=True,\n",
    "              element=\"bars\",\n",
    "              figsize=(7,6),\n",
    "              color=\"coral\",\n",
    "              kde_kws= { \"bw_method\": 0.5},\n",
    "              binwidth=5\n",
    "              )"
   ]
  },
  {
   "cell_type": "markdown",
   "metadata": {},
   "source": [
    "#### WmsiBas"
   ]
  },
  {
   "cell_type": "code",
   "execution_count": null,
   "metadata": {},
   "outputs": [],
   "source": [
    "chl_dataset.WmsiBas.isna().sum()"
   ]
  },
  {
   "cell_type": "code",
   "execution_count": null,
   "metadata": {},
   "outputs": [],
   "source": [
    "boxplot_func(columns_of_interest=\"WmsiBas\", \n",
    "             data_frame=chl_dataset, \n",
    "             whis=4,\n",
    "             title=\"Box Plot for WmsiBas\",\n",
    "             figsize=(6,5))"
   ]
  },
  {
   "cell_type": "code",
   "execution_count": null,
   "metadata": {},
   "outputs": [],
   "source": [
    "sea_histogram(dataframe_to_plot=chl_dataset,\n",
    "              column_of_interest=\"WmsiBas\",\n",
    "              xlabel=\"WmsiBas\",\n",
    "              ylabel=\"Count\",\n",
    "              title=\"Distribution of WmsiBas in log scale\",\n",
    "              show_grid=True,\n",
    "              element=\"step\",\n",
    "              ylog=True,\n",
    "              figsize=(7,6)\n",
    "              )"
   ]
  },
  {
   "cell_type": "markdown",
   "metadata": {},
   "source": [
    "We do not eliminate any values for the `WmsiBas` column since we find no outliers."
   ]
  },
  {
   "cell_type": "code",
   "execution_count": null,
   "metadata": {},
   "outputs": [],
   "source": [
    "sea_histogram(dataframe_to_plot=chl_dataset,\n",
    "              column_of_interest=\"WmsiBas\",\n",
    "              xlabel=\"WmsiBas\",\n",
    "              ylabel=\"Count\",\n",
    "              title=\"Distribution of WmsiBas\",\n",
    "              kde=True,\n",
    "              show_grid=True,\n",
    "              element=\"bars\",\n",
    "              figsize=(7,6),\n",
    "              color=\"coral\",\n",
    "              kde_kws= { \"bw_method\": 0.3},\n",
    "              binwidth=0.25\n",
    "              )"
   ]
  },
  {
   "cell_type": "markdown",
   "metadata": {},
   "source": [
    "#### DimSettoIV"
   ]
  },
  {
   "cell_type": "code",
   "execution_count": null,
   "metadata": {},
   "outputs": [],
   "source": [
    "chl_dataset.DimSettoIV.isna().sum()"
   ]
  },
  {
   "cell_type": "code",
   "execution_count": null,
   "metadata": {},
   "outputs": [],
   "source": [
    "boxplot_func(columns_of_interest=\"DimSettoIV\", \n",
    "             data_frame=chl_dataset,  \n",
    "             whis=6,\n",
    "             title=\"Box Plot for DimSettoIV\",\n",
    "             figsize=(6,5))"
   ]
  },
  {
   "cell_type": "code",
   "execution_count": null,
   "metadata": {},
   "outputs": [],
   "source": [
    "sea_histogram(dataframe_to_plot=chl_dataset,\n",
    "              column_of_interest=\"DimSettoIV\",\n",
    "              xlabel=\"DimSettoIV\",\n",
    "              ylabel=\"Count\",\n",
    "              title=\"Distribution of DimSettoIV in log scale\",\n",
    "              vline=True,\n",
    "              n_vline=25,\n",
    "              show_grid=True,\n",
    "              element=\"step\",\n",
    "              ylog=True,\n",
    "              figsize=(7,6),\n",
    "              binwidth=0.5\n",
    "              )"
   ]
  },
  {
   "cell_type": "markdown",
   "metadata": {},
   "source": [
    "We eliminate all `DimSettoIV` values that are above 25 and see how the distribution improves."
   ]
  },
  {
   "cell_type": "code",
   "execution_count": null,
   "metadata": {},
   "outputs": [],
   "source": [
    "chl_dataset[\"DimSettoIV\"]=remove_outliers(dataframe=chl_dataset,\n",
    "                                        column_name=\"DimSettoIV\",\n",
    "                                        threshold=24)"
   ]
  },
  {
   "cell_type": "code",
   "execution_count": null,
   "metadata": {},
   "outputs": [],
   "source": [
    "chl_dataset.DimSettoIV.isna().sum()"
   ]
  },
  {
   "cell_type": "code",
   "execution_count": null,
   "metadata": {},
   "outputs": [],
   "source": [
    "sea_histogram(dataframe_to_plot=chl_dataset,\n",
    "              column_of_interest=\"DimSettoIV\",\n",
    "              xlabel=\"DimSettoIV\",\n",
    "              ylabel=\"Count\",\n",
    "              title=\"Distribution of DimSettoIV\",\n",
    "              kde=True,\n",
    "              show_grid=True,\n",
    "              element=\"bars\",\n",
    "              figsize=(7,6),\n",
    "              color=\"coral\",\n",
    "              binwidth=1,\n",
    "              kde_kws= { \"bw_method\": 0.4}\n",
    "              )"
   ]
  },
  {
   "cell_type": "markdown",
   "metadata": {},
   "source": [
    "#### DimPP "
   ]
  },
  {
   "cell_type": "code",
   "execution_count": null,
   "metadata": {},
   "outputs": [],
   "source": [
    "chl_dataset.DimPP.isna().sum()"
   ]
  },
  {
   "cell_type": "code",
   "execution_count": null,
   "metadata": {},
   "outputs": [],
   "source": [
    "boxplot_func(columns_of_interest=\"DimPP\", \n",
    "             data_frame=chl_dataset, \n",
    "             yscale='log', \n",
    "             whis=4,\n",
    "             title=\"Box Plot for DimPP in log scale\",\n",
    "             figsize=(6,5)\n",
    "             )"
   ]
  },
  {
   "cell_type": "code",
   "execution_count": null,
   "metadata": {},
   "outputs": [],
   "source": [
    "sea_histogram(dataframe_to_plot=chl_dataset,\n",
    "              column_of_interest=\"DimPP\",\n",
    "              xlabel=\"DimPP\",\n",
    "              ylabel=\"Count\",\n",
    "              title=\"Distribution of DimPP in log scale\",\n",
    "              vline=True,\n",
    "              n_vline=20,\n",
    "              show_grid=True,\n",
    "              element=\"step\",\n",
    "              ylog=True,\n",
    "              figsize=(7,6)\n",
    "              )"
   ]
  },
  {
   "cell_type": "markdown",
   "metadata": {},
   "source": [
    "We eliminate all `DimPP` values that are above 20 and see how the distribution improves."
   ]
  },
  {
   "cell_type": "code",
   "execution_count": null,
   "metadata": {},
   "outputs": [],
   "source": [
    "chl_dataset[\"DimPP\"]=remove_outliers(dataframe=chl_dataset,\n",
    "                                        column_name=\"DimPP\",\n",
    "                                        threshold=20)"
   ]
  },
  {
   "cell_type": "code",
   "execution_count": null,
   "metadata": {},
   "outputs": [],
   "source": [
    "chl_dataset.DimPP.isna().sum()"
   ]
  },
  {
   "cell_type": "code",
   "execution_count": null,
   "metadata": {},
   "outputs": [],
   "source": [
    "chl_dataset.DimPP.value_counts()"
   ]
  },
  {
   "cell_type": "code",
   "execution_count": null,
   "metadata": {},
   "outputs": [],
   "source": [
    "sea_histogram(dataframe_to_plot=chl_dataset,\n",
    "              column_of_interest=\"DimPP\",\n",
    "              xlabel=\"DimPP\",\n",
    "              ylabel=\"Count\",\n",
    "              title=\"Distribution of DimPP\",\n",
    "              kde=True,\n",
    "              show_grid=True,\n",
    "              element=\"bars\",\n",
    "              figsize=(7,6),\n",
    "              color=\"coral\",\n",
    "              binwidth=0.5,\n",
    "              discrete=True,\n",
    "              kde_kws={'bw_method': 0.4}\n",
    "              )"
   ]
  },
  {
   "cell_type": "markdown",
   "metadata": {},
   "source": [
    "#### fe"
   ]
  },
  {
   "cell_type": "code",
   "execution_count": null,
   "metadata": {},
   "outputs": [],
   "source": [
    "chl_dataset.fe.isna().sum()"
   ]
  },
  {
   "cell_type": "code",
   "execution_count": null,
   "metadata": {},
   "outputs": [],
   "source": [
    "boxplot_func(columns_of_interest=\"fe\", \n",
    "             data_frame=chl_dataset,\n",
    "             whis=4,\n",
    "             title=\"Box Plot for fe\",\n",
    "             figsize=(6,5)\n",
    "             )"
   ]
  },
  {
   "cell_type": "code",
   "execution_count": null,
   "metadata": {},
   "outputs": [],
   "source": [
    "sea_histogram(dataframe_to_plot=chl_dataset,\n",
    "              column_of_interest=\"fe\",\n",
    "              xlabel=\"fe\",\n",
    "              ylabel=\"Count\",\n",
    "              title=\"Distribution of fe in log scale\",\n",
    "              show_grid=True,\n",
    "              element=\"step\",\n",
    "              ylog=True,\n",
    "              figsize=(7,6)\n",
    "              )"
   ]
  },
  {
   "cell_type": "markdown",
   "metadata": {},
   "source": [
    "We do not eliminate any values for the `fe` column since we find no outliers."
   ]
  },
  {
   "cell_type": "code",
   "execution_count": null,
   "metadata": {},
   "outputs": [],
   "source": [
    "sea_histogram(dataframe_to_plot=chl_dataset,\n",
    "              column_of_interest=\"fe\",\n",
    "              xlabel=\"fe\",\n",
    "              ylabel=\"Count\",\n",
    "              title=\"Distribution of fe\",\n",
    "              kde=True,\n",
    "              show_grid=True,\n",
    "              element=\"bars\",\n",
    "              figsize=(7,6),\n",
    "              color=\"coral\",\n",
    "              kde_kws= { \"bw_method\": 0.4},\n",
    "              binwidth=3\n",
    "              )"
   ]
  },
  {
   "cell_type": "markdown",
   "metadata": {},
   "source": [
    "#### vsx"
   ]
  },
  {
   "cell_type": "code",
   "execution_count": null,
   "metadata": {},
   "outputs": [],
   "source": [
    "chl_dataset.vsx.isna().sum()"
   ]
  },
  {
   "cell_type": "code",
   "execution_count": null,
   "metadata": {},
   "outputs": [],
   "source": [
    "boxplot_func(columns_of_interest=\"vsx\", \n",
    "             data_frame=chl_dataset,  \n",
    "             whis=4,\n",
    "             title=\"Box Plot for vsx\",\n",
    "             figsize=(6,5)\n",
    "             )"
   ]
  },
  {
   "cell_type": "code",
   "execution_count": null,
   "metadata": {},
   "outputs": [],
   "source": [
    "sea_histogram(dataframe_to_plot=chl_dataset,\n",
    "              column_of_interest=\"vsx\",\n",
    "              xlabel=\"vsx\",\n",
    "              ylabel=\"Count\",\n",
    "              title=\"Distribution of vsx in log scale\",\n",
    "              vline=True,\n",
    "              n_vline=89,\n",
    "              show_grid=True,\n",
    "              element=\"step\",\n",
    "              ylog=True,\n",
    "              figsize=(7,6)\n",
    "              )"
   ]
  },
  {
   "cell_type": "markdown",
   "metadata": {},
   "source": [
    "We eliminate all `vsx` values that are above 89 and see how the distribution improves."
   ]
  },
  {
   "cell_type": "code",
   "execution_count": null,
   "metadata": {},
   "outputs": [],
   "source": [
    "chl_dataset[\"vsx\"]=remove_outliers(dataframe=chl_dataset,\n",
    "                                        column_name=\"vsx\",\n",
    "                                        threshold=89)"
   ]
  },
  {
   "cell_type": "code",
   "execution_count": null,
   "metadata": {},
   "outputs": [],
   "source": [
    "chl_dataset.vsx.isna().sum()"
   ]
  },
  {
   "cell_type": "code",
   "execution_count": null,
   "metadata": {},
   "outputs": [],
   "source": [
    "sea_histogram(dataframe_to_plot=chl_dataset,\n",
    "              column_of_interest=\"vsx\",\n",
    "              xlabel=\"vsx\",\n",
    "              ylabel=\"Count\",\n",
    "              title=\"Distribution of vsx\",\n",
    "              kde=True,\n",
    "              show_grid=True,\n",
    "              element=\"bars\",\n",
    "              figsize=(7,6),\n",
    "              color=\"coral\",\n",
    "              binwidth=2\n",
    "              )"
   ]
  },
  {
   "cell_type": "markdown",
   "metadata": {},
   "source": [
    "#### Total cholesterol"
   ]
  },
  {
   "cell_type": "code",
   "execution_count": null,
   "metadata": {},
   "outputs": [],
   "source": [
    "chl_dataset[\"Total cholesterol\"].isna().sum()"
   ]
  },
  {
   "cell_type": "code",
   "execution_count": null,
   "metadata": {},
   "outputs": [],
   "source": [
    "boxplot_func(columns_of_interest=\"Total cholesterol\", \n",
    "             data_frame=chl_dataset, \n",
    "             whis=4,\n",
    "             title=\"Box Plot for Total cholesterol\",\n",
    "             figsize=(6,5)\n",
    "             )"
   ]
  },
  {
   "cell_type": "code",
   "execution_count": null,
   "metadata": {},
   "outputs": [],
   "source": [
    "sea_histogram(dataframe_to_plot=chl_dataset,\n",
    "              column_of_interest=\"Total cholesterol\",\n",
    "              xlabel=\"Total cholesterol\",\n",
    "              ylabel=\"Count\",\n",
    "              title=\"Distribution of Total cholesterol in log scale\",\n",
    "              vline=True,\n",
    "              n_vline=420,\n",
    "              show_grid=True,\n",
    "              element=\"step\",\n",
    "              ylog=True,\n",
    "              figsize=(7,6)\n",
    "              )"
   ]
  },
  {
   "cell_type": "markdown",
   "metadata": {},
   "source": [
    "We eliminate all `Total cholesterol` values that are above 420 and see how the distribution improves."
   ]
  },
  {
   "cell_type": "code",
   "execution_count": null,
   "metadata": {},
   "outputs": [],
   "source": [
    "chl_dataset[\"Total cholesterol\"]=remove_outliers(dataframe=chl_dataset,\n",
    "                                        column_name=\"Total cholesterol\",\n",
    "                                        threshold=420)"
   ]
  },
  {
   "cell_type": "code",
   "execution_count": null,
   "metadata": {},
   "outputs": [],
   "source": [
    "chl_dataset[\"Total cholesterol\"].isna().sum()"
   ]
  },
  {
   "cell_type": "code",
   "execution_count": null,
   "metadata": {},
   "outputs": [],
   "source": [
    "sea_histogram(dataframe_to_plot=chl_dataset,\n",
    "              column_of_interest=\"Total cholesterol\",\n",
    "              xlabel=\"Total cholesterol\",\n",
    "              ylabel=\"Count\",\n",
    "              title=\"Distribution of Total cholesterol\",\n",
    "              kde=True,\n",
    "              show_grid=True,\n",
    "              element=\"bars\",\n",
    "              figsize=(7,6),\n",
    "              color=\"coral\"\n",
    "              )"
   ]
  },
  {
   "cell_type": "markdown",
   "metadata": {},
   "source": [
    "#### HDL"
   ]
  },
  {
   "cell_type": "code",
   "execution_count": null,
   "metadata": {},
   "outputs": [],
   "source": [
    "chl_dataset.HDL.isna().sum()"
   ]
  },
  {
   "cell_type": "code",
   "execution_count": null,
   "metadata": {},
   "outputs": [],
   "source": [
    "boxplot_func(columns_of_interest=\"HDL\", \n",
    "             data_frame=chl_dataset, \n",
    "             yscale='log', \n",
    "             whis=5,\n",
    "             title=\"Box Plot for HDL in log scale\",\n",
    "             figsize=(6,5)\n",
    "             )"
   ]
  },
  {
   "cell_type": "code",
   "execution_count": null,
   "metadata": {},
   "outputs": [],
   "source": [
    "sea_histogram(dataframe_to_plot=chl_dataset,\n",
    "              column_of_interest=\"HDL\",\n",
    "              xlabel=\"HDL\",\n",
    "              ylabel=\"Count\",\n",
    "              title=\"Distribution of HDL in log scale\",\n",
    "              vline=True,\n",
    "              n_vline=110,\n",
    "              show_grid=True,\n",
    "              element=\"step\",\n",
    "              ylog=True,\n",
    "              figsize=(7,6)\n",
    "              )"
   ]
  },
  {
   "cell_type": "markdown",
   "metadata": {},
   "source": [
    "We eliminate all `HDL` values that are above 110 and see how the distribution improves."
   ]
  },
  {
   "cell_type": "code",
   "execution_count": null,
   "metadata": {},
   "outputs": [],
   "source": [
    "chl_dataset[\"HDL\"]=remove_outliers(dataframe=chl_dataset,\n",
    "                                        column_name=\"HDL\",\n",
    "                                        threshold=110)"
   ]
  },
  {
   "cell_type": "code",
   "execution_count": null,
   "metadata": {},
   "outputs": [],
   "source": [
    "chl_dataset.HDL.isna().sum()"
   ]
  },
  {
   "cell_type": "code",
   "execution_count": null,
   "metadata": {},
   "outputs": [],
   "source": [
    "sea_histogram(dataframe_to_plot=chl_dataset,\n",
    "              column_of_interest=\"HDL\",\n",
    "              xlabel=\"HDL\",\n",
    "              ylabel=\"Count\",\n",
    "              title=\"Distribution of HDL\",\n",
    "              kde=True,\n",
    "              show_grid=True,\n",
    "              element=\"bars\",\n",
    "              figsize=(7,6),\n",
    "              color=\"coral\",\n",
    "              binwidth=2\n",
    "              )"
   ]
  },
  {
   "cell_type": "markdown",
   "metadata": {},
   "source": [
    "#### LDL"
   ]
  },
  {
   "cell_type": "code",
   "execution_count": null,
   "metadata": {},
   "outputs": [],
   "source": [
    "chl_dataset.LDL.isna().sum()"
   ]
  },
  {
   "cell_type": "code",
   "execution_count": null,
   "metadata": {},
   "outputs": [],
   "source": [
    "boxplot_func(columns_of_interest=\"LDL\", \n",
    "             data_frame=chl_dataset, \n",
    "             yscale='log', \n",
    "             whis=4,\n",
    "             title=\"Box Plot for LDL in log scale\",\n",
    "             figsize=(6,5)\n",
    "             )"
   ]
  },
  {
   "cell_type": "code",
   "execution_count": null,
   "metadata": {},
   "outputs": [],
   "source": [
    "sea_histogram(dataframe_to_plot=chl_dataset,\n",
    "              column_of_interest=\"LDL\",\n",
    "              xlabel=\"LDL\",\n",
    "              ylabel=\"Count\",\n",
    "              title=\"Distribution of LDL in log scale\",\n",
    "              vline=True,\n",
    "              n_vline=300,\n",
    "              show_grid=True,\n",
    "              element=\"step\",\n",
    "              ylog=True,\n",
    "              figsize=(7,6)\n",
    "              )"
   ]
  },
  {
   "cell_type": "markdown",
   "metadata": {},
   "source": [
    "We eliminate all `LDL` values that are above 300 and see how the distribution improves."
   ]
  },
  {
   "cell_type": "code",
   "execution_count": null,
   "metadata": {},
   "outputs": [],
   "source": [
    "chl_dataset[\"LDL\"]=remove_outliers(dataframe=chl_dataset,\n",
    "                                        column_name=\"LDL\",\n",
    "                                        threshold=300)"
   ]
  },
  {
   "cell_type": "code",
   "execution_count": null,
   "metadata": {},
   "outputs": [],
   "source": [
    "chl_dataset.LDL.isna().sum()"
   ]
  },
  {
   "cell_type": "code",
   "execution_count": null,
   "metadata": {},
   "outputs": [],
   "source": [
    "sea_histogram(dataframe_to_plot=chl_dataset,\n",
    "              column_of_interest=\"LDL\",\n",
    "              xlabel=\"LDL\",\n",
    "              ylabel=\"Count\",\n",
    "              title=\"Distribution of LDL\",\n",
    "              kde=True,\n",
    "              show_grid=True,\n",
    "              element=\"bars\",\n",
    "              figsize=(7,6),\n",
    "              color=\"coral\"\n",
    "              )"
   ]
  },
  {
   "cell_type": "markdown",
   "metadata": {},
   "source": [
    "#### Triglycerides "
   ]
  },
  {
   "cell_type": "code",
   "execution_count": null,
   "metadata": {},
   "outputs": [],
   "source": [
    "chl_dataset.Triglycerides.isna().sum()"
   ]
  },
  {
   "cell_type": "code",
   "execution_count": null,
   "metadata": {},
   "outputs": [],
   "source": [
    "boxplot_func(columns_of_interest=\"Triglycerides\", \n",
    "             data_frame=chl_dataset, \n",
    "             yscale='log', \n",
    "             whis=5,\n",
    "             title=\"Box Plot for Triglycerides in log scale\",\n",
    "             figsize=(6,5)\n",
    "             )"
   ]
  },
  {
   "cell_type": "code",
   "execution_count": null,
   "metadata": {},
   "outputs": [],
   "source": [
    "sea_histogram(dataframe_to_plot=chl_dataset,\n",
    "              column_of_interest=\"Triglycerides\",\n",
    "              xlabel=\"Triglycerides\",\n",
    "              ylabel=\"Count\",\n",
    "              title=\"Distribution of Triglycerides in log scale\",\n",
    "              vline=True,\n",
    "              n_vline=600,\n",
    "              show_grid=True,\n",
    "              element=\"step\",\n",
    "              ylog=True,\n",
    "              figsize=(7,6)\n",
    "              )"
   ]
  },
  {
   "cell_type": "markdown",
   "metadata": {},
   "source": [
    "We eliminate all `Triglycerides` values that are above 600 and see how the distribution improves."
   ]
  },
  {
   "cell_type": "code",
   "execution_count": null,
   "metadata": {},
   "outputs": [],
   "source": [
    "chl_dataset[\"Triglycerides\"]=remove_outliers(dataframe=chl_dataset,\n",
    "                                        column_name=\"Triglycerides\",\n",
    "                                        threshold=600)"
   ]
  },
  {
   "cell_type": "code",
   "execution_count": null,
   "metadata": {},
   "outputs": [],
   "source": [
    "chl_dataset.Triglycerides.isna().sum()"
   ]
  },
  {
   "cell_type": "code",
   "execution_count": null,
   "metadata": {},
   "outputs": [],
   "source": [
    "sea_histogram(dataframe_to_plot=chl_dataset,\n",
    "              column_of_interest=\"Triglycerides\",\n",
    "              xlabel=\"Triglycerides\",\n",
    "              ylabel=\"Count\",\n",
    "              title=\"Distribution of Triglycerides\",\n",
    "              kde=True,\n",
    "              show_grid=True,\n",
    "              element=\"bars\",\n",
    "              figsize=(7,6),\n",
    "              color=\"coral\"\n",
    "              )"
   ]
  },
  {
   "cell_type": "markdown",
   "metadata": {},
   "source": [
    "#### Creatinina "
   ]
  },
  {
   "cell_type": "code",
   "execution_count": null,
   "metadata": {},
   "outputs": [],
   "source": [
    "chl_dataset.Creatinina.isna().sum()"
   ]
  },
  {
   "cell_type": "code",
   "execution_count": null,
   "metadata": {},
   "outputs": [],
   "source": [
    "boxplot_func(columns_of_interest=\"Creatinina\", \n",
    "             data_frame=chl_dataset, \n",
    "             whis=11,\n",
    "             title=\"Box Plot for Creatinina\",\n",
    "             figsize=(6,5)\n",
    "             )"
   ]
  },
  {
   "cell_type": "code",
   "execution_count": null,
   "metadata": {},
   "outputs": [],
   "source": [
    "sea_histogram(dataframe_to_plot=chl_dataset,\n",
    "              column_of_interest=\"Creatinina\",\n",
    "              xlabel=\"Creatinina\",\n",
    "              ylabel=\"Count\",\n",
    "              title=\"Distribution of Creatinina in log scale\",\n",
    "              vline=True,\n",
    "              n_vline=5,\n",
    "              show_grid=True,\n",
    "              element=\"step\",\n",
    "              ylog=True,\n",
    "              figsize=(7,6)\n",
    "              )"
   ]
  },
  {
   "cell_type": "markdown",
   "metadata": {},
   "source": [
    "We eliminate all `Creatinina` values that are above 5 and see how the distribution improves."
   ]
  },
  {
   "cell_type": "code",
   "execution_count": null,
   "metadata": {},
   "outputs": [],
   "source": [
    "chl_dataset[\"Creatinina\"]=remove_outliers(dataframe=chl_dataset,\n",
    "                                        column_name=\"Creatinina\",\n",
    "                                        threshold=5)"
   ]
  },
  {
   "cell_type": "code",
   "execution_count": null,
   "metadata": {},
   "outputs": [],
   "source": [
    "chl_dataset.Creatinina.isna().sum()"
   ]
  },
  {
   "cell_type": "code",
   "execution_count": null,
   "metadata": {},
   "outputs": [],
   "source": [
    "sea_histogram(dataframe_to_plot=chl_dataset,\n",
    "              column_of_interest=\"Creatinina\",\n",
    "              xlabel=\"Creatinina\",\n",
    "              ylabel=\"Count\",\n",
    "              title=\"Distribution of Creatinina\",\n",
    "              kde=True,\n",
    "              show_grid=True,\n",
    "              element=\"bars\",\n",
    "              figsize=(7,6),\n",
    "              color=\"coral\"\n",
    "              )"
   ]
  },
  {
   "cell_type": "markdown",
   "metadata": {},
   "source": [
    "### End of Cleaning Phase\n",
    "\n",
    "We check how many null values there are in the columns. As we see each column has less than 10% null values. We keep these null values that way, since they will be part of our task that we want to solve by machine learning algorithms."
   ]
  },
  {
   "cell_type": "code",
   "execution_count": null,
   "metadata": {},
   "outputs": [],
   "source": [
    "chl_dataset.isna().sum()"
   ]
  },
  {
   "cell_type": "markdown",
   "metadata": {},
   "source": [
    "## Creating Labels\n",
    "\n",
    "In this section, we generate the labels that will be utilized later in our AI task. We will store these labels in the 'Target' column of the `merge_dataset`. Specifically, the label will be assigned as 1 for patients who have deceased within 8 years from their initial visit, and 0 otherwise."
   ]
  },
  {
   "cell_type": "code",
   "execution_count": null,
   "metadata": {},
   "outputs": [],
   "source": [
    "def set_target(row):\n",
    "    \"\"\"\n",
    "    Sets the target value based on the presence of 'Data of death'.\n",
    "    \n",
    "    Args:\n",
    "    - row (pandas.Series): A row of the DataFrame.\n",
    "\n",
    "    Returns:\n",
    "    - int: 0 if 'Data of death' is null, otherwise 2.\n",
    "    \"\"\"\n",
    "    if pd.isnull(row['Data of death']):\n",
    "        return 0\n",
    "    else:\n",
    "        return 2\n",
    "    \n",
    "def set_target2(row):\n",
    "    \"\"\"\n",
    "    Sets the target value based on the conditions involving 'Target', 'Follow Up Data', and 'Data prelievo'.\n",
    "\n",
    "    Args:\n",
    "    - row (pandas.Series): A row of the DataFrame.\n",
    "\n",
    "    Returns:\n",
    "    - int: The updated target value.\n",
    "    \"\"\"\n",
    "    if row['Target'] == 2:\n",
    "        if (row['Follow Up Data'] - row['Data prelievo']).days / 365 < 8:\n",
    "            return 1\n",
    "        else:\n",
    "            return 0\n",
    "    else:\n",
    "        return row['Target']\n"
   ]
  },
  {
   "cell_type": "code",
   "execution_count": null,
   "metadata": {},
   "outputs": [],
   "source": [
    "merge_dataset['Target'] = merge_dataset.apply(set_target, axis=1)\n",
    "merge_dataset['Target'] = merge_dataset.apply(set_target2, axis=1)"
   ]
  },
  {
   "cell_type": "markdown",
   "metadata": {},
   "source": [
    "Let's now examine the distribution of values in the 'Target' column. We chose an 8-year threshold to create the labels because, as we can observe from this, the distribution indicates that 1/4 of the dataset comprises patients who deceased within this timeframe, while the remaining 3/4 did not."
   ]
  },
  {
   "cell_type": "code",
   "execution_count": null,
   "metadata": {},
   "outputs": [],
   "source": [
    "merge_dataset.Target.value_counts()"
   ]
  },
  {
   "cell_type": "code",
   "execution_count": null,
   "metadata": {},
   "outputs": [],
   "source": [
    "counts_to_plot=merge_dataset.Target.value_counts()\n",
    "\n",
    "pieplot_func(value_counts_to_plot=counts_to_plot.values, \n",
    "             labels=counts_to_plot.index, \n",
    "             figsize=(4,4),\n",
    "             title=\"Distribution of the labels in Target\")"
   ]
  },
  {
   "cell_type": "markdown",
   "metadata": {},
   "source": [
    "### Adding Target to `chl_dataset`\n",
    "\n",
    "We then add the 'Target' column with the labels to our main dataframe using the `.merge()` command."
   ]
  },
  {
   "cell_type": "code",
   "execution_count": null,
   "metadata": {},
   "outputs": [],
   "source": [
    "chl_dataset= pd.merge(chl_dataset, merge_dataset[['Number', 'Target']], on='Number', how='left')"
   ]
  },
  {
   "cell_type": "code",
   "execution_count": null,
   "metadata": {},
   "outputs": [],
   "source": [
    "chl_dataset.head()"
   ]
  },
  {
   "cell_type": "markdown",
   "metadata": {},
   "source": [
    "Finally, we also delete the \"Number\" column, which will no longer serve our purposes."
   ]
  },
  {
   "cell_type": "code",
   "execution_count": null,
   "metadata": {},
   "outputs": [],
   "source": [
    "chl_dataset=chl_dataset.drop(columns=\"Number\")"
   ]
  },
  {
   "cell_type": "markdown",
   "metadata": {},
   "source": [
    "## Normalize Dataset\n",
    "\n",
    "In this section, we normalize our dataset using the `MinMaxScaler` so that continuous data conforms to the distributions of binary data. The MinMaxScaler scales features between 0 and 1 by subtracting the minimum value and then dividing by the range. \n",
    "\n",
    "We chose MinMaxScaler over StandardScaler because it is more suitable for cases where the distribution of the features does not follow a Gaussian distribution, which is often the case in real-world datasets."
   ]
  },
  {
   "cell_type": "code",
   "execution_count": null,
   "metadata": {},
   "outputs": [],
   "source": [
    "scaler = MinMaxScaler()"
   ]
  },
  {
   "cell_type": "code",
   "execution_count": null,
   "metadata": {},
   "outputs": [],
   "source": [
    "# Normalize all columns of the dataset\n",
    "chl_dataset_normalized = scaler.fit_transform(chl_dataset)\n",
    "# Optionally, convert the normalized dataset to a pandas DataFrame\n",
    "chl_dataset_normalized = pd.DataFrame(chl_dataset_normalized, columns=chl_dataset.columns)"
   ]
  },
  {
   "cell_type": "code",
   "execution_count": null,
   "metadata": {},
   "outputs": [],
   "source": [
    "chl_dataset_normalized.head()"
   ]
  },
  {
   "cell_type": "markdown",
   "metadata": {},
   "source": [
    "## Storing Dataset in csv File\n",
    "\n",
    "Once our dataset is prepared for use in our machine learning task, we save it to a new CSV file stored in the \"Cleaned Dataset\" folder. We will retrieve it from there when needed."
   ]
  },
  {
   "cell_type": "code",
   "execution_count": null,
   "metadata": {},
   "outputs": [],
   "source": [
    "# Get the directory of the script\n",
    "script_directory = os.getcwd()\n",
    "\n",
    "# Specify the folder name\n",
    "folder_name = 'Datasets/Cleaned_Dataset'\n",
    "\n",
    "# Combine the script directory and folder name to get the full path\n",
    "folder_path = os.path.join(script_directory, folder_name)\n",
    "\n",
    "# Check if the folder exists, and create it if not\n",
    "if not os.path.exists(folder_path):\n",
    "    os.makedirs(folder_path)\n",
    "\n",
    "chl_dataset.to_csv(path_or_buf=f'{folder_name}/chl_dataset.csv', index=False)"
   ]
  },
  {
   "cell_type": "code",
   "execution_count": null,
   "metadata": {},
   "outputs": [],
   "source": [
    "# Get the directory of the script\n",
    "script_directory = os.getcwd()\n",
    "\n",
    "# Specify the folder name\n",
    "folder_name = 'Datasets/Cleaned_Dataset'\n",
    "\n",
    "# Combine the script directory and folder name to get the full path\n",
    "folder_path = os.path.join(script_directory, folder_name)\n",
    "\n",
    "# Check if the folder exists, and create it if not\n",
    "if not os.path.exists(folder_path):\n",
    "    os.makedirs(folder_path)\n",
    "\n",
    "chl_dataset_normalized.to_csv(path_or_buf=f'{folder_name}/chl_dataset_normalized.csv', index=False)"
   ]
  },
  {
   "cell_type": "markdown",
   "metadata": {},
   "source": [
    "## PCA\n",
    "\n",
    "`PCA` is a method used to simplify high-dimensional datasets by identifying the most important patterns in the data. It does this by transforming the original features into a new set of variables called `principal components`, which capture the most variance in the data. This reduction in dimensionality helps in visualization, analysis, and modeling tasks.\n",
    "\n",
    "In particular, this analysis helps us estimate the approximate size of the latent space for our encoder-decoder model.\n",
    "\n",
    "We begin by eliminating rows with null values, since we must not have null values in the dataset in order to calculate PCA."
   ]
  },
  {
   "cell_type": "code",
   "execution_count": null,
   "metadata": {},
   "outputs": [],
   "source": [
    "chl_dataset=chl_dataset.dropna()"
   ]
  },
  {
   "cell_type": "markdown",
   "metadata": {},
   "source": [
    "Now, let's try using normalized data with both StandardScaler and MinMaxScaler. We'll use the not yet normalized values from `chl_dataset` for this purpose.\n",
    "\n",
    "We aim to experiment with both StandardScaler and MinMaxScaler to observe how different scaling techniques affect the performance of PCA. "
   ]
  },
  {
   "cell_type": "code",
   "execution_count": null,
   "metadata": {},
   "outputs": [],
   "source": [
    "scaler = StandardScaler()\n",
    "X_std = scaler.fit_transform(chl_dataset.values)"
   ]
  },
  {
   "cell_type": "code",
   "execution_count": null,
   "metadata": {},
   "outputs": [],
   "source": [
    "scaler = MinMaxScaler()\n",
    "X_minmax = scaler.fit_transform(chl_dataset.values)"
   ]
  },
  {
   "cell_type": "markdown",
   "metadata": {},
   "source": [
    "Next, we apply PCA to the data using both normalization methods and observe that in the case of MinMax-scaled data, we can describe the dataset more effectively with fewer columns, indicating better performance."
   ]
  },
  {
   "cell_type": "code",
   "execution_count": null,
   "metadata": {},
   "outputs": [],
   "source": [
    "pca = PCA(n_components=35)\n",
    "pca.fit_transform(X_std)\n",
    "pca.explained_variance_ratio_.cumsum()"
   ]
  },
  {
   "cell_type": "code",
   "execution_count": null,
   "metadata": {},
   "outputs": [],
   "source": [
    "pca = PCA(n_components=20)\n",
    "pca.fit_transform(X_minmax)\n",
    "pca.explained_variance_ratio_.cumsum()"
   ]
  },
  {
   "cell_type": "markdown",
   "metadata": {},
   "source": [
    "Therefore, we perform an elbow method on the MinMax-scaled data to determine the optimal number of components. We observe that there is no distinct elbow point in the curve, but by choosing 17 components, we achieve a variance explained ratio of 0.80. We consider 17 to be a suitable number, considering the presence of 70 columns in the entire dataset."
   ]
  },
  {
   "cell_type": "code",
   "execution_count": null,
   "metadata": {},
   "outputs": [],
   "source": [
    "# Fit PCA with different numbers of components\n",
    "n_components_range = range(1, 30)  # Adjust the range as needed\n",
    "explained_variance = []\n",
    "\n",
    "for n_components in n_components_range:\n",
    "    pca = PCA(n_components=n_components)\n",
    "    pca.fit_transform(X_minmax)\n",
    "    explained_variance.append(pca.explained_variance_ratio_.sum())\n",
    "\n",
    "# Plot the explained variance against the number of components\n",
    "plt.plot(n_components_range, explained_variance, marker='o')\n",
    "plt.xlabel('Number of Components')\n",
    "plt.ylabel('Explained Variance')\n",
    "plt.title('Elbow Method for PCA')\n",
    "# Add a vertical red line at x=17\n",
    "plt.axvline(x=17, color='r', linestyle='--')  \n",
    "plt.grid(True)\n",
    "plt.show()\n"
   ]
  },
  {
   "cell_type": "markdown",
   "metadata": {},
   "source": [
    "Let's also create a pairplot with the number of components set to 7 to provide a different visualization of our dataset."
   ]
  },
  {
   "cell_type": "code",
   "execution_count": null,
   "metadata": {},
   "outputs": [],
   "source": [
    "# Perform PCA with 7 principal components\n",
    "pca = PCA(n_components=7)\n",
    "pcs = pca.fit_transform(X_minmax)\n",
    "\n",
    "# Get the number of components\n",
    "n_components = pca.n_components_\n",
    "\n",
    "# Create subplots for each pair of principal components\n",
    "fig, axes = plt.subplots(n_components, n_components, figsize=(15, 15))\n",
    "\n",
    "# Iterate over each pair of principal components\n",
    "for i in range(n_components):\n",
    "    for j in range(n_components):\n",
    "        # Plot histograms for diagonal elements\n",
    "        if i == j:\n",
    "            axes[i, j].hist(pcs[:, i], bins=30, color='skyblue', ec='darkblue')\n",
    "            axes[i, j].set_title(f'Histogram of PC{i+1}')\n",
    "        # Plot scatter plots for off-diagonal elements\n",
    "        else:\n",
    "            axes[i, j].scatter(pcs[:, i], pcs[:, j])\n",
    "            axes[i, j].set_xlabel(f'PC{i+1}')\n",
    "            axes[i, j].set_ylabel(f'PC{j+1}')\n",
    "\n",
    "plt.tight_layout()\n",
    "plt.show()"
   ]
  },
  {
   "cell_type": "markdown",
   "metadata": {},
   "source": [
    "## Old Dataset\n",
    "\n",
    "Some of the work done on the old dataset and **no longer important** ..."
   ]
  },
  {
   "cell_type": "code",
   "execution_count": null,
   "metadata": {},
   "outputs": [],
   "source": [
    "old_dataset=pd.read_csv(\"Datasets/data.csv\")"
   ]
  },
  {
   "cell_type": "code",
   "execution_count": null,
   "metadata": {},
   "outputs": [],
   "source": [
    "old_dataset.head()"
   ]
  },
  {
   "cell_type": "code",
   "execution_count": null,
   "metadata": {},
   "outputs": [],
   "source": [
    "old_dataset.info()"
   ]
  },
  {
   "cell_type": "code",
   "execution_count": null,
   "metadata": {},
   "outputs": [],
   "source": [
    "old_dataset.isna().sum()"
   ]
  },
  {
   "cell_type": "markdown",
   "metadata": {},
   "source": [
    "### Continuous Features"
   ]
  },
  {
   "cell_type": "code",
   "execution_count": null,
   "metadata": {},
   "outputs": [],
   "source": [
    "sea_histogram(old_dataset, \n",
    "              \"Creatinina\",\n",
    "              figsize=(10, 6), \n",
    "              show_grid=True,\n",
    "              xlabel=\"Creatinina\",\n",
    "              ylabel=\"Count\",\n",
    "              hue=\"Survive7Y\",\n",
    "              element=\"bars\", \n",
    "              ylog=True,\n",
    "              color=\"coral\")"
   ]
  },
  {
   "cell_type": "code",
   "execution_count": null,
   "metadata": {},
   "outputs": [],
   "source": [
    "sea_histogram(old_dataset, \n",
    "              \"Vessels\",\n",
    "              figsize=(10, 6), \n",
    "              show_grid=True,\n",
    "              xlabel=\"Vessels\",\n",
    "              ylabel=\"Count\",\n",
    "              hue=\"Survive7Y\",\n",
    "              element=\"step\",\n",
    "              multiple=\"dodge\", \n",
    "              #ylog=True,\n",
    "              color=\"coral\")"
   ]
  }
 ],
 "metadata": {
  "kernelspec": {
   "display_name": "Python 3",
   "language": "python",
   "name": "python3"
  },
  "language_info": {
   "codemirror_mode": {
    "name": "ipython",
    "version": 3
   },
   "file_extension": ".py",
   "mimetype": "text/x-python",
   "name": "python",
   "nbconvert_exporter": "python",
   "pygments_lexer": "ipython3",
   "version": "3.11.3"
  }
 },
 "nbformat": 4,
 "nbformat_minor": 2
}

{
 "cells": [
  {
   "cell_type": "markdown",
   "metadata": {},
   "source": [
    "# Cleaning Dataset"
   ]
  },
  {
   "cell_type": "markdown",
   "metadata": {},
   "source": [
    "## Import Libraries\n",
    "\n",
    "Import the required libraries:\n",
    "- `pandas` as `pd`: Utilized for data manipulation and analysis.\n",
    "- `numpy` as `np`: Employed for numerical operations and array manipulation.\n",
    "- `matplotlib.pyplot` as `plt`: Utilized for data visualization.\n",
    "- `seaborn` as `sns`: Utilized for statistical data visualization.\n",
    "- `os`: Used for operating system dependent functionality.\n",
    "- `StandardScaler` and `MinMaxScaler` from `sklearn.preprocessing`: Utilized for feature scaling.\n",
    "- `PCA` from `sklearn.decomposition`: Utilized for principal component analysis."
   ]
  },
  {
   "cell_type": "code",
   "execution_count": null,
   "metadata": {},
   "outputs": [],
   "source": [
    "import pandas as pd\n",
    "import numpy as np\n",
    "import matplotlib.pyplot as plt\n",
    "import seaborn as sns\n",
    "import os\n",
    "from sklearn.preprocessing import StandardScaler, MinMaxScaler\n",
    "from sklearn.decomposition import PCA\n",
    "from sklearn.ensemble import IsolationForest"
   ]
  },
  {
   "cell_type": "markdown",
   "metadata": {},
   "source": [
    "## Utility Function\n",
    "\n",
    "In this section, we will define some utility functions that we will use later in the code. These functions are designed to perform specific tasks efficiently and will help streamline our workflow as we proceed with the implementation."
   ]
  },
  {
   "cell_type": "markdown",
   "metadata": {},
   "source": [
    "### Histogram"
   ]
  },
  {
   "cell_type": "code",
   "execution_count": null,
   "metadata": {},
   "outputs": [],
   "source": [
    "# Create a histogram\n",
    "def sea_histogram(dataframe_to_plot, column_of_interest, figsize=(8,10), title=None, xlabel=None, \n",
    "                  ylabel=None, hue=None, palette=\"deep\", stat=\"count\", binwidth=None,\n",
    "                  multiple=\"layer\", element=\"step\", fill=True, shrink=1, kde=False, color=\"blue\", \n",
    "                  log_scale=None, ylog=False, xlog=False, show_grid=False, vline=False,\n",
    "                  n_vline=0, c_vline=\"red\", discrete=False, kde_kws=None):\n",
    "    \"\"\"\n",
    "    This function creates a histogram using seaborn library with customizable options.\n",
    "\n",
    "    Parameters:\n",
    "    - dataframe_to_plot (DataFrame): DataFrame containing the data to be plotted.\n",
    "    - column_of_interest (list or str): Name of the column to be plotted on the x-axis.\n",
    "    - figsize (tuple, optional): Size of the figure (width, height).\n",
    "    - title (str, optional): Title of the plot.\n",
    "    - xlabel (str, optional): Label for the x-axis.\n",
    "    - ylabel (str, optional): Label for the y-axis.\n",
    "    - hue (str, optional): Variable used for grouping the data.\n",
    "    - palette (str, list or dict, optional): Color palette for the plot.\n",
    "    - stat (str, , optional): Statistic to compute within each bin (count, density, probability).\n",
    "    - binwidth (number, optional): Width of each bin.\n",
    "    - multiple (str, optional): Method for plotting multiple histograms (layer, dodge, stack).\n",
    "    - element (str, optional): Element to draw (step, poly).\n",
    "    - fill (bool, optional): Whether to fill the histogram bars.\n",
    "    - shrink (number, optional): Scaling factor for the width of the step/poly elements.\n",
    "    - kde (bool, optional): Whether to plot a kernel density estimate.\n",
    "    - color (str, optional): Color of the histogram bars (if hue is not specified).\n",
    "    - log_scale (str, optional): Scaling of the x or y-axis (linear, log, symlog, logit).\n",
    "    - ylog (bool, optional): Whether to use a logarithmic scale for the y-axis.\n",
    "    - xlog (bool, optional): Whether to use a logarithmic scale for the x-axis.\n",
    "    - show_grid (bool, optional): Whether to show grid lines on the plot.\n",
    "    - vline (bool, optional): Add a vertical red line.\n",
    "    - n_vline (number, optional): Position in x-axis of the vline.\n",
    "    - c_vline (str, optional): Color of the vline.\n",
    "    - discrete (bool, optional): If True, default to binwidth=1.\n",
    "    - kde_kws (dict, optional): Parameters that control the KDE computation.\n",
    "\n",
    "\n",
    "    Returns:\n",
    "    - None: The function displays the plot.\n",
    "    \"\"\"\n",
    "\n",
    "    plt.figure(figsize=figsize)\n",
    "    \n",
    "    if hue:\n",
    "        sns.histplot(data=dataframe_to_plot, x=column_of_interest, hue=hue, stat=stat, \n",
    "                     binwidth=binwidth, multiple=multiple, element=element, fill=fill, \n",
    "                     shrink=shrink, kde=kde, palette=palette, log_scale=log_scale, discrete=discrete,\n",
    "                     kde_kws=kde_kws)\n",
    "    else:\n",
    "        sns.histplot(data=dataframe_to_plot, x=column_of_interest, stat=stat, \n",
    "                     binwidth=binwidth, element=element, fill=fill,\n",
    "                     shrink=shrink, kde=kde, color=color, log_scale=log_scale, discrete=discrete,\n",
    "                     kde_kws=kde_kws)\n",
    "        \n",
    "    if ylog:\n",
    "        plt.yscale(\"log\")\n",
    "\n",
    "    if xlog:\n",
    "        plt.xscale(\"log\")\n",
    "    \n",
    "    if vline:\n",
    "        # Add a vertical red\n",
    "        plt.axvline(x=n_vline, color=c_vline, linestyle='--')  \n",
    "\n",
    "    plt.xlabel(xlabel)\n",
    "    plt.ylabel(ylabel)\n",
    "    plt.title(title)\n",
    "\n",
    "    if show_grid:\n",
    "        plt.grid(True)\n",
    "\n",
    "    plt.show()"
   ]
  },
  {
   "cell_type": "markdown",
   "metadata": {},
   "source": [
    "### Box Plot"
   ]
  },
  {
   "cell_type": "code",
   "execution_count": null,
   "metadata": {},
   "outputs": [],
   "source": [
    "def boxplot_func(columns_of_interest, data_frame, whis=1.5, yscale=None, title=None, figsize=(8,8)):\n",
    "    \"\"\"\n",
    "    Generates a boxplot for specified columns in a DataFrame.\n",
    "\n",
    "    Parameters:\n",
    "    - columns_of_interest (list or str): List of column names or single column name to be plotted.\n",
    "    - data_frame (DataFrame): The DataFrame containing the data to be plotted.\n",
    "    - whis (float, optional): The proportion of the IQR past the low and high quartiles to extend the plot whiskers. \n",
    "                               Defaults to 1.5.\n",
    "    - yscale (str, optional): The scale of the y-axis. Supported values are 'linear', 'log', 'symlog', 'logit'.\n",
    "                               Defaults to None.\n",
    "    - title (str, optional): The title of the plot. Defaults to None.\n",
    "    - figsize (tuple, optional): Figure size (width, height) in inches. Defaults to (8, 8).\n",
    "\n",
    "    Returns:\n",
    "    - None: The function displays the plot.\n",
    "    \"\"\"\n",
    "\n",
    "    data_frame.boxplot(column=columns_of_interest, whis=whis, figsize=figsize)\n",
    "    \n",
    "    # Set y-axis scale if specified\n",
    "    if yscale is not None:\n",
    "        plt.yscale(yscale)\n",
    "\n",
    "    plt.title(title) \n",
    "    plt.show()\n"
   ]
  },
  {
   "cell_type": "markdown",
   "metadata": {},
   "source": [
    "### Pie Plot"
   ]
  },
  {
   "cell_type": "code",
   "execution_count": null,
   "metadata": {},
   "outputs": [],
   "source": [
    "def pieplot_func(value_counts_to_plot, labels, figsize=(8, 8), title=None, autopct_value='%1.1f%%', labeldistance=1.1):\n",
    "    \"\"\"\n",
    "    Create a pie chart to visualize the distribution of values.\n",
    "\n",
    "    Args:\n",
    "    - value_counts_to_plot (array-like): The values to plot.\n",
    "    - labels (array-like): Corresponding labels for the values.\n",
    "    - figsize (tuple, optional): Figure size (width, height) in inches. Defaults to (8, 8).\n",
    "    - title (str, optional): Title of the pie chart. Defaults to None.\n",
    "    - autopct_value (str, optional): Format string for autopct parameter in percentage display. \n",
    "                                     Defaults to '%1.1f%%'.\n",
    "    - labeldistance (float, optional): The radial distance at which the labels are drawn. Defaults to 1.1.\n",
    "\n",
    "    Returns:\n",
    "    - None: Displays the pie chart.\n",
    "    \"\"\"\n",
    "    plt.figure(figsize=figsize)\n",
    "    \n",
    "    # Plot pie chart with autopct if provided\n",
    "    if autopct_value is not None:\n",
    "        plt.pie(value_counts_to_plot, labels=labels, autopct=autopct_value, startangle=90, labeldistance=labeldistance)\n",
    "    else:\n",
    "        plt.pie(value_counts_to_plot, labels=labels, startangle=90, labeldistance=labeldistance)\n",
    "    \n",
    "    plt.title(title)\n",
    "    plt.show()\n"
   ]
  },
  {
   "cell_type": "markdown",
   "metadata": {},
   "source": [
    "### Sorting Columns"
   ]
  },
  {
   "cell_type": "code",
   "execution_count": null,
   "metadata": {},
   "outputs": [],
   "source": [
    "def reorder_columns(dataframe, columns):\n",
    "    \"\"\"\n",
    "    Reorders the columns of the DataFrame based on the number of unique values in each column.\n",
    "    Columns with only two unique values are placed first, followed by other columns.\n",
    "\n",
    "    Parameters:\n",
    "    - dataframe (DataFrame): The pandas DataFrame.\n",
    "    - columns (list): A list containing the names of the columns to be reordered.\n",
    "\n",
    "    Returns:\n",
    "    - list: A list containing the reordered column names.\n",
    "    \"\"\"\n",
    "\n",
    "    reordered_columns = []  # List to store column names with only two unique values\n",
    "    non_bin_columns = []     # List to store column names with more than two unique values\n",
    "\n",
    "    # Iterate through the specified columns\n",
    "    for col in columns:\n",
    "        # Check if the number of unique values in the column is equal to 2\n",
    "        if dataframe[col].nunique() == 2:\n",
    "            # If yes, append the column name to reordered_columns\n",
    "            reordered_columns.append(col)\n",
    "        else:\n",
    "            # If no, append the column name to non_bin_columns\n",
    "            non_bin_columns.append(col)\n",
    "\n",
    "    # Combine the two lists to get the final reordered column order\n",
    "    reordered_columns = reordered_columns + non_bin_columns\n",
    "    \n",
    "    return reordered_columns\n"
   ]
  },
  {
   "cell_type": "markdown",
   "metadata": {},
   "source": [
    "### Remove Outliers"
   ]
  },
  {
   "cell_type": "code",
   "execution_count": null,
   "metadata": {},
   "outputs": [],
   "source": [
    "def remove_outliers(dataframe, column_name, threshold, minor=False):\n",
    "    \"\"\"\n",
    "    Remove outliers from a specific column in the dataframe based on a threshold.\n",
    "\n",
    "    Args:\n",
    "    - dataframe (DataFrame): The pandas DataFrame.\n",
    "    - column_name (str): The name of the column containing the values to be checked for outliers.\n",
    "    - threshold (float): The threshold value above which outliers will be removed.\n",
    "    - minor (bool, optional): If True, remove values below the threshold. If False (default), remove values above the threshold.\n",
    "\n",
    "    Returns:\n",
    "    - DataFrame: The modified DataFrame with outliers removed.\n",
    "    \"\"\"\n",
    "    if not minor:\n",
    "        dataframe.loc[dataframe[column_name] > threshold, column_name] = np.nan\n",
    "    else:\n",
    "        dataframe.loc[dataframe[column_name] < threshold, column_name] = np.nan\n",
    "\n",
    "    return dataframe[column_name]"
   ]
  },
  {
   "cell_type": "markdown",
   "metadata": {},
   "source": [
    "## Loading Datasets\n",
    "\n",
    "We start by reading data from three Excel files and store them in pandas DataFrames:\n",
    "\n",
    "- `chl_dataset`: Data from the \"OrmoniTiroidei3Aprile2024.xlsx\" file. Our main dataset.\n",
    "- `date_dataset`: Data from the \"DataPrelievo.xlsx\" file.\n",
    "- `creatinina_dataset`: Data from the \"Creatinina_AltriEsamiCorretti.xlsx\" file.\n"
   ]
  },
  {
   "cell_type": "code",
   "execution_count": null,
   "metadata": {},
   "outputs": [],
   "source": [
    "chl_dataset=pd.read_excel(\"Datasets/OrmoniTiroidei3Aprile2024.xlsx\")\n",
    "date_dataset=pd.read_excel(\"Datasets/DataPrelievo.xlsx\")\n",
    "creatinina_dataset=pd.read_excel(\"Datasets/Creatinina_AltriEsamiCorretti.xlsx\")"
   ]
  },
  {
   "cell_type": "code",
   "execution_count": null,
   "metadata": {},
   "outputs": [],
   "source": [
    "#To display all columns\n",
    "pd.options.display.max_columns = None\n",
    "pd.options.display.max_rows = None"
   ]
  },
  {
   "cell_type": "markdown",
   "metadata": {},
   "source": [
    "We now print the first few rows of DataFrames, using the `.head()`command and allowing for quick inspection of the data."
   ]
  },
  {
   "cell_type": "code",
   "execution_count": null,
   "metadata": {},
   "outputs": [],
   "source": [
    "chl_dataset.head()"
   ]
  },
  {
   "cell_type": "code",
   "execution_count": null,
   "metadata": {},
   "outputs": [],
   "source": [
    "chl_dataset[\"Follow Up Data\"].isna().sum()"
   ]
  },
  {
   "cell_type": "code",
   "execution_count": null,
   "metadata": {},
   "outputs": [],
   "source": [
    "chl_dataset[\"Cause of death\"].value_counts()"
   ]
  },
  {
   "cell_type": "code",
   "execution_count": null,
   "metadata": {},
   "outputs": [],
   "source": [
    "chl_dataset.info()"
   ]
  },
  {
   "cell_type": "code",
   "execution_count": null,
   "metadata": {},
   "outputs": [],
   "source": [
    "chl_dataset[\"CVD Death\"].value_counts()"
   ]
  },
  {
   "cell_type": "code",
   "execution_count": null,
   "metadata": {},
   "outputs": [],
   "source": [
    "date_dataset[\"Data prelievo\"].isna().sum()"
   ]
  },
  {
   "cell_type": "code",
   "execution_count": null,
   "metadata": {},
   "outputs": [],
   "source": [
    "date_dataset.head()"
   ]
  },
  {
   "cell_type": "code",
   "execution_count": null,
   "metadata": {},
   "outputs": [],
   "source": [
    "date_dataset.info()"
   ]
  },
  {
   "cell_type": "code",
   "execution_count": null,
   "metadata": {},
   "outputs": [],
   "source": [
    "from datetime import datetime\n",
    "\n",
    "# Creiamo un nuovo DataFrame combinato\n",
    "combined_df = pd.DataFrame({\n",
    "    'Follow Up Data': pd.to_datetime(chl_dataset['Follow Up Data']),\n",
    "    'Data prelievo': pd.to_datetime(date_dataset['Data prelievo']),\n",
    "    'Data of death': pd.to_datetime(chl_dataset['Data of death']),\n",
    "    \"CVD Death\": pd.to_numeric(chl_dataset[\"CVD Death\"])\n",
    "})"
   ]
  },
  {
   "cell_type": "code",
   "execution_count": null,
   "metadata": {},
   "outputs": [],
   "source": [
    "combined_df.head()"
   ]
  },
  {
   "cell_type": "code",
   "execution_count": null,
   "metadata": {},
   "outputs": [],
   "source": [
    "combined_df.info()"
   ]
  },
  {
   "cell_type": "code",
   "execution_count": null,
   "metadata": {},
   "outputs": [],
   "source": [
    "combined_df.isna().sum()"
   ]
  },
  {
   "cell_type": "code",
   "execution_count": null,
   "metadata": {},
   "outputs": [],
   "source": [
    "combined_df=combined_df.dropna()"
   ]
  },
  {
   "cell_type": "code",
   "execution_count": null,
   "metadata": {},
   "outputs": [],
   "source": [
    "# Funzione per calcolare la differenza di anni\n",
    "def count_dates_within_8_years(df):\n",
    "    # Calcolare la differenza in anni tra le due date\n",
    "    df['Years Difference'] = (df['Follow Up Data'] - df['Data prelievo']).dt.days / 365.25\n",
    "    # Contare le righe dove la differenza è minore o uguale a 8 anni\n",
    "    count = (df['Years Difference'] < 6).sum()\n",
    "    return count\n",
    "\n",
    "# Applichiamo la funzione al DataFrame combinato\n",
    "result = count_dates_within_8_years(combined_df)\n",
    "\n",
    "# Visualizziamo il risultato\n",
    "result"
   ]
  },
  {
   "cell_type": "code",
   "execution_count": null,
   "metadata": {},
   "outputs": [],
   "source": [
    "# Calcolare gli anni dalla prima visita (Data prelievo)\n",
    "combined_df['Years from first visit to follow up'] = (combined_df['Follow Up Data'] - combined_df['Data prelievo']).dt.days / 365.25\n",
    "combined_df['Years from first visit to death'] = (combined_df['Data of death'] - combined_df['Data prelievo']).dt.days / 365.25"
   ]
  },
  {
   "cell_type": "code",
   "execution_count": null,
   "metadata": {},
   "outputs": [],
   "source": [
    "combined_df.head()"
   ]
  },
  {
   "cell_type": "code",
   "execution_count": null,
   "metadata": {},
   "outputs": [],
   "source": [
    "# Funzione per classificare lo stato dei pazienti in ogni intervallo di anni\n",
    "def classify_status(df, year):\n",
    "    status = []\n",
    "    for _, row in df.iterrows():\n",
    "        if pd.isna(row['Data of death']):\n",
    "            if pd.isna(row['Years from first visit to follow up']) or row['Years from first visit to follow up'] < year:\n",
    "                status.append('Unknown')\n",
    "            else:\n",
    "                status.append('Alive')\n",
    "        else:\n",
    "            if row['Years from first visit to death'] < year:\n",
    "                status.append('Deceased')\n",
    "            elif pd.isna(row['Years from first visit to follow up']) or row['Years from first visit to follow up'] < year:\n",
    "                status.append('Unknown')\n",
    "            else:\n",
    "                status.append('Alive')\n",
    "    return status"
   ]
  },
  {
   "cell_type": "code",
   "execution_count": null,
   "metadata": {},
   "outputs": [],
   "source": [
    "# Aggiungiamo le classificazioni per ogni intervallo di anni (fino a 10 anni per esempio)\n",
    "years = list(range(11))\n",
    "data = {'Year': [], 'Status': []}\n",
    "\n",
    "for year in years:\n",
    "    statuses = classify_status(combined_df, year)\n",
    "    data['Year'].extend([year] * len(statuses))\n",
    "    data['Status'].extend(statuses)"
   ]
  },
  {
   "cell_type": "code",
   "execution_count": null,
   "metadata": {},
   "outputs": [],
   "source": [
    "# Creiamo un DataFrame per l'istogramma\n",
    "hist_df = pd.DataFrame(data)\n",
    "\n",
    "# Creare l'istogramma con sns.histplot\n",
    "plt.figure(figsize=(14, 8))\n",
    "sns.histplot(data=hist_df, x='Year', hue='Status',  multiple='dodge', binwidth=0.4)\n",
    "plt.xlabel('Years from First Visit')\n",
    "plt.ylabel('Number of Patients')\n",
    "plt.title('Patient Status Over Time')\n",
    "plt.show()"
   ]
  },
  {
   "cell_type": "code",
   "execution_count": null,
   "metadata": {},
   "outputs": [],
   "source": [
    "# Modifica della funzione per includere lo stato \"CVD Deceased\"\n",
    "def classify_status(df, year):\n",
    "    status = []\n",
    "    for _, row in df.iterrows():\n",
    "        if pd.isna(row['Data of death']):\n",
    "            if pd.isna(row['Years from first visit to follow up']) or row['Years from first visit to follow up'] < year:\n",
    "                status.append('Unknown')\n",
    "            else:\n",
    "                status.append('Alive')\n",
    "        else:\n",
    "            if row['Years from first visit to death'] < year:\n",
    "                if row[\"CVD Death\"] == 1:\n",
    "                    status.append('CVD Deceased')\n",
    "                else:\n",
    "                    status.append('Deceased')\n",
    "            elif pd.isna(row['Years from first visit to follow up']) or row['Years from first visit to follow up'] < year:\n",
    "                status.append('Unknown')\n",
    "            else:\n",
    "                status.append('Alive')\n",
    "    return status\n",
    "\n",
    "# Aggiungiamo le classificazioni per ogni intervallo di anni (fino a 10 anni per esempio)\n",
    "years = list(range(11))\n",
    "data = {'Year': [], 'Status': []}\n",
    "\n",
    "for year in years:\n",
    "    statuses = classify_status(combined_df, year)\n",
    "    data['Year'].extend([year] * len(statuses))\n",
    "    data['Status'].extend(statuses)\n",
    "\n",
    "# Creiamo un DataFrame per l'istogramma\n",
    "hist_df = pd.DataFrame(data)\n",
    "\n",
    "# Creare l'istogramma con sns.histplot, includendo la barra per i deceduti per CVD\n",
    "plt.figure(figsize=(14, 8))\n",
    "sns.histplot(data=hist_df, x='Year', hue='Status', multiple='dodge', binwidth=0.4)\n",
    "plt.xlabel('Years from First Visit')\n",
    "plt.ylabel('Number of Patients')\n",
    "plt.title('Patient Status Over Time')\n",
    "plt.show()"
   ]
  },
  {
   "cell_type": "code",
   "execution_count": null,
   "metadata": {},
   "outputs": [],
   "source": [
    "creatinina_dataset.head()"
   ]
  },
  {
   "cell_type": "markdown",
   "metadata": {},
   "source": [
    "Now, let's provide some information about the datasets using the `.info()` method."
   ]
  },
  {
   "cell_type": "code",
   "execution_count": null,
   "metadata": {},
   "outputs": [],
   "source": [
    "chl_dataset.info()"
   ]
  },
  {
   "cell_type": "code",
   "execution_count": null,
   "metadata": {},
   "outputs": [],
   "source": [
    "creatinina_dataset.info()"
   ]
  },
  {
   "cell_type": "markdown",
   "metadata": {},
   "source": [
    "## Cleaning Datasets\n",
    "\n",
    "In this section, we focus on cleaning our datasets to ensure they are primed for analysis and modeling.\n",
    "\n",
    "First of all, we remove four columns from the main dataset `chl_dataset`, as these columns will be re-added in their updated version present in the `creatinina_dataset` dataset."
   ]
  },
  {
   "cell_type": "code",
   "execution_count": null,
   "metadata": {},
   "outputs": [],
   "source": [
    "chl_dataset=chl_dataset.drop(columns=[\"HDL\", \"LDL\", \"Triglycerides\", \"Total cholesterol\"])"
   ]
  },
  {
   "cell_type": "markdown",
   "metadata": {},
   "source": [
    "Therefore, we use the `.merge()` method to merge the columns from the `creatinina_dataset` to our main dataset. In addition to the four columns removed earlier, a new column regarding creatinine, which was not present before, will be added. To perform this operation, we use the \"Number\" column as the merging key, which contains the number associated with each patient.\n",
    "\n",
    "Furthermore, we create a new dataframe called `merge_dataframe` by merging the column from the `date_dataset` to the `chl_dataset`, once again utilizing the \"Number\" column as the merging key. We will use the `merge_dataset` with its new columns to extract the \"Target\" column, which will be employed in our machine learning algorithm."
   ]
  },
  {
   "cell_type": "code",
   "execution_count": null,
   "metadata": {},
   "outputs": [],
   "source": [
    "chl_dataset=pd.merge(chl_dataset, creatinina_dataset, on=\"Number\")\n",
    "merge_dataset=pd.merge(chl_dataset, date_dataset, on=[\"Number\"])"
   ]
  },
  {
   "cell_type": "markdown",
   "metadata": {},
   "source": [
    "We remove rows from the datasets where the value in the \"Number\" column is missing (NaN). To do this we use the `.dropna()` method."
   ]
  },
  {
   "cell_type": "code",
   "execution_count": null,
   "metadata": {},
   "outputs": [],
   "source": [
    "chl_dataset=chl_dataset.dropna(subset=[\"Number\"])\n",
    "merge_dataset=merge_dataset.dropna(subset=[\"Number\"])"
   ]
  },
  {
   "cell_type": "markdown",
   "metadata": {},
   "source": [
    "We delete from the `chl_dataset` dataset the columns we are not interested in, as they are not medical test results but information on whether each patient died."
   ]
  },
  {
   "cell_type": "code",
   "execution_count": null,
   "metadata": {},
   "outputs": [],
   "source": [
    "chl_dataset=chl_dataset.drop(columns=[\"PCI\", \"Ictus\", \"Non Fatal AMI (Follow-Up)\", \"CABG \", \n",
    "                            \"Suicide\",\"Accident\", \"UnKnown\", \"Fatal MI or Sudden death\",\n",
    "                            \"CVD Death\", \"Total mortality\", \"Collected by\", \"Cause of death\",\n",
    "                            \"Follow Up Data\", \"Data of death\"])"
   ]
  },
  {
   "cell_type": "markdown",
   "metadata": {},
   "source": [
    "We reorder the columns of `chl_dataset` so that binary columns come first, followed by continuous columns. To achieve this, we use the `reorder_columns` utility function defined in the previous section."
   ]
  },
  {
   "cell_type": "code",
   "execution_count": null,
   "metadata": {},
   "outputs": [],
   "source": [
    "data_columns=chl_dataset.columns\n",
    "data_columns\n",
    "\n",
    "reordered_columns=reorder_columns(chl_dataset, data_columns)"
   ]
  },
  {
   "cell_type": "code",
   "execution_count": null,
   "metadata": {},
   "outputs": [],
   "source": [
    "chl_dataset = chl_dataset.reindex(columns=reordered_columns)"
   ]
  },
  {
   "cell_type": "markdown",
   "metadata": {},
   "source": [
    "We check to see if there are any columns with less than two different values, thus with only one occurrence as a value, and find \"CardiopathyCongenitis\" as the result. Having only 0 as a possible value, we decide to delete it."
   ]
  },
  {
   "cell_type": "code",
   "execution_count": null,
   "metadata": {},
   "outputs": [],
   "source": [
    "for col in chl_dataset.columns:\n",
    "    if chl_dataset[col].nunique() < 2:\n",
    "        print(col)"
   ]
  },
  {
   "cell_type": "code",
   "execution_count": null,
   "metadata": {},
   "outputs": [],
   "source": [
    "chl_dataset.CardiopatiaCongenita.value_counts()\n",
    "chl_dataset=chl_dataset.drop(columns=[\"CardiopatiaCongenita\"])"
   ]
  },
  {
   "cell_type": "markdown",
   "metadata": {},
   "source": [
    "### Strange Things"
   ]
  },
  {
   "cell_type": "code",
   "execution_count": null,
   "metadata": {},
   "outputs": [],
   "source": [
    "chl_dataset2=chl_dataset.copy()"
   ]
  },
  {
   "cell_type": "code",
   "execution_count": null,
   "metadata": {},
   "outputs": [],
   "source": [
    "chl_dataset2=chl_dataset2.dropna()\n",
    "chl_dataset3=chl_dataset2.dropna()"
   ]
  },
  {
   "cell_type": "code",
   "execution_count": null,
   "metadata": {},
   "outputs": [],
   "source": [
    "from sklearn.neighbors import LocalOutlierFactor\n",
    "\n",
    "# Creare un modello LOF\n",
    "lof_model = LocalOutlierFactor()\n",
    "\n",
    "# Addestrare il modello sul dataset\n",
    "lof_model.fit(chl_dataset2)\n",
    "\n",
    "# Calcolare lo score di anomalia per ciascuna osservazione nel dataset\n",
    "anomaly_scores = lof_model.negative_outlier_factor_\n",
    "\n",
    "# Identificare gli outliers (osservazioni con score di anomalia negativo)\n",
    "outliers_indices = anomaly_scores.argsort()[:100]  # Esempio: identificare i primi 10 outliers\n",
    "\n",
    "# Stampare gli indici degli outliers\n",
    "print(\"Indici degli outliers:\", outliers_indices)\n"
   ]
  },
  {
   "cell_type": "code",
   "execution_count": null,
   "metadata": {},
   "outputs": [],
   "source": [
    "import matplotlib.pyplot as plt\n",
    "\n",
    "# Plot dei valori LOF\n",
    "plt.figure(figsize=(10, 6))\n",
    "plt.scatter(range(len(anomaly_scores)), anomaly_scores, c='blue', s=20, label='LOF scores')\n",
    "\n",
    "# Indica gli outliers con un colore diverso\n",
    "plt.scatter(outliers_indices, anomaly_scores[outliers_indices], c='red', s=50, edgecolors='k', label='Outliers')\n",
    "\n",
    "plt.title('Local Outlier Factor (LOF) Scores')\n",
    "plt.xlabel('Index')\n",
    "plt.ylabel('LOF Score')\n",
    "plt.legend()\n",
    "plt.grid(True)\n",
    "plt.show()\n"
   ]
  },
  {
   "cell_type": "markdown",
   "metadata": {},
   "source": [
    "### Detecting Outliers in Continue Columns\n",
    "\n",
    "In this section, we display various plots for the continuous columns to examine their distribution and remove values that we consider outliers."
   ]
  },
  {
   "cell_type": "markdown",
   "metadata": {},
   "source": [
    "#### Glycemia "
   ]
  },
  {
   "cell_type": "code",
   "execution_count": null,
   "metadata": {},
   "outputs": [],
   "source": [
    "chl_dataset.Glycemia.isna().sum()"
   ]
  },
  {
   "cell_type": "code",
   "execution_count": null,
   "metadata": {},
   "outputs": [],
   "source": [
    "boxplot_func(columns_of_interest=\"Glycemia\", \n",
    "             data_frame=chl_dataset, \n",
    "             yscale='log', \n",
    "             whis=4,\n",
    "             title=\"Box Plot for Glycemia in log scale\",\n",
    "             figsize=(6,5))"
   ]
  },
  {
   "cell_type": "code",
   "execution_count": null,
   "metadata": {},
   "outputs": [],
   "source": [
    "sea_histogram(dataframe_to_plot=chl_dataset,\n",
    "              column_of_interest=\"Glycemia\",\n",
    "              xlabel=\"Glycemia\",\n",
    "              ylabel=\"Count\",\n",
    "              title=\"Distribution of Glycemia in log scale\",\n",
    "              vline=True,\n",
    "              n_vline=350,\n",
    "              show_grid=True,\n",
    "              element=\"step\",\n",
    "              ylog=True,\n",
    "              figsize=(7,6)\n",
    "              )"
   ]
  },
  {
   "cell_type": "markdown",
   "metadata": {},
   "source": [
    "We eliminate all `Glycemia` values that are above 350 and see how the distribution improves."
   ]
  },
  {
   "cell_type": "code",
   "execution_count": null,
   "metadata": {},
   "outputs": [],
   "source": [
    "chl_dataset[\"Glycemia\"]=remove_outliers(dataframe=chl_dataset,\n",
    "                                        column_name=\"Glycemia\",\n",
    "                                        threshold=350)"
   ]
  },
  {
   "cell_type": "code",
   "execution_count": null,
   "metadata": {},
   "outputs": [],
   "source": [
    "chl_dataset[\"Glycemia\"]=remove_outliers(dataframe=chl_dataset,\n",
    "                                        column_name=\"Glycemia\",\n",
    "                                        threshold=2,\n",
    "                                        minor=True)"
   ]
  },
  {
   "cell_type": "code",
   "execution_count": null,
   "metadata": {},
   "outputs": [],
   "source": [
    "chl_dataset.Glycemia.isna().sum()"
   ]
  },
  {
   "cell_type": "code",
   "execution_count": null,
   "metadata": {},
   "outputs": [],
   "source": [
    "sea_histogram(dataframe_to_plot=chl_dataset,\n",
    "              column_of_interest=\"Glycemia\",\n",
    "              xlabel=\"Glycemia\",\n",
    "              ylabel=\"Count\",\n",
    "              title=\"Distribution of Glycemia\",\n",
    "              show_grid=True,\n",
    "              element=\"bars\",\n",
    "              figsize=(7,6),\n",
    "              kde=True,\n",
    "              color=\"coral\",\n",
    "              binwidth=5\n",
    "              )"
   ]
  },
  {
   "cell_type": "markdown",
   "metadata": {},
   "source": [
    "#### TSH"
   ]
  },
  {
   "cell_type": "code",
   "execution_count": null,
   "metadata": {},
   "outputs": [],
   "source": [
    "chl_dataset.TSH.isna().sum()"
   ]
  },
  {
   "cell_type": "code",
   "execution_count": null,
   "metadata": {},
   "outputs": [],
   "source": [
    "boxplot_func(columns_of_interest=\"TSH\", \n",
    "             data_frame=chl_dataset, \n",
    "             whis=12,\n",
    "             title=\"Box Plot for TSH\",\n",
    "             figsize=(6,5))"
   ]
  },
  {
   "cell_type": "code",
   "execution_count": null,
   "metadata": {},
   "outputs": [],
   "source": [
    "sea_histogram(dataframe_to_plot=chl_dataset,\n",
    "              column_of_interest=\"TSH\",\n",
    "              xlabel=\"TSH\",\n",
    "              ylabel=\"Count\",\n",
    "              title=\"Distribution of TSH in log scale\",\n",
    "              vline=True,\n",
    "              n_vline=21,\n",
    "              show_grid=True,\n",
    "              element=\"step\",\n",
    "              ylog=True,\n",
    "              figsize=(7,6)\n",
    "              )"
   ]
  },
  {
   "cell_type": "markdown",
   "metadata": {},
   "source": [
    "We eliminate all `TSH` values that are above 21 and see how the distribution improves."
   ]
  },
  {
   "cell_type": "code",
   "execution_count": null,
   "metadata": {},
   "outputs": [],
   "source": [
    "chl_dataset[\"TSH\"]=remove_outliers(dataframe=chl_dataset,\n",
    "                                        column_name=\"TSH\",\n",
    "                                        threshold=21)"
   ]
  },
  {
   "cell_type": "code",
   "execution_count": null,
   "metadata": {},
   "outputs": [],
   "source": [
    "chl_dataset.TSH.isna().sum()"
   ]
  },
  {
   "cell_type": "code",
   "execution_count": null,
   "metadata": {},
   "outputs": [],
   "source": [
    "sea_histogram(dataframe_to_plot=chl_dataset,\n",
    "              column_of_interest=\"TSH\",\n",
    "              xlabel=\"TSH\",\n",
    "              ylabel=\"Count\",\n",
    "              title=\"Distribution of TSH\",\n",
    "              kde=True,\n",
    "              show_grid=True,\n",
    "              element=\"bars\",\n",
    "              figsize=(7,6),\n",
    "              color=\"coral\",\n",
    "              binwidth=1,\n",
    "              kde_kws= { \"bw_method\": 0.5}\n",
    "              )"
   ]
  },
  {
   "cell_type": "markdown",
   "metadata": {},
   "source": [
    "#### fT3  "
   ]
  },
  {
   "cell_type": "code",
   "execution_count": null,
   "metadata": {},
   "outputs": [],
   "source": [
    "chl_dataset.fT3.isna().sum()"
   ]
  },
  {
   "cell_type": "code",
   "execution_count": null,
   "metadata": {},
   "outputs": [],
   "source": [
    "boxplot_func(columns_of_interest=\"fT3\", \n",
    "             data_frame=chl_dataset,  \n",
    "             whis=10,\n",
    "             title=\"Box Plot for fT3\",\n",
    "             figsize=(6,5))"
   ]
  },
  {
   "cell_type": "code",
   "execution_count": null,
   "metadata": {},
   "outputs": [],
   "source": [
    "sea_histogram(dataframe_to_plot=chl_dataset,\n",
    "              column_of_interest=\"fT3\",\n",
    "              xlabel=\"fT3\",\n",
    "              ylabel=\"Count\",\n",
    "              title=\"Distribution of fT3 in log scale\",\n",
    "              vline=True,\n",
    "              n_vline=13,\n",
    "              show_grid=True,\n",
    "              element=\"step\",\n",
    "              ylog=True,\n",
    "              figsize=(7,6)\n",
    "              )"
   ]
  },
  {
   "cell_type": "markdown",
   "metadata": {},
   "source": [
    "We eliminate all `fT3` values that are above 13 and see how the distribution improves."
   ]
  },
  {
   "cell_type": "code",
   "execution_count": null,
   "metadata": {},
   "outputs": [],
   "source": [
    "chl_dataset[\"fT3\"]=remove_outliers(dataframe=chl_dataset,\n",
    "                                        column_name=\"fT3\",\n",
    "                                        threshold=13)"
   ]
  },
  {
   "cell_type": "code",
   "execution_count": null,
   "metadata": {},
   "outputs": [],
   "source": [
    "chl_dataset.fT3.isna().sum()"
   ]
  },
  {
   "cell_type": "code",
   "execution_count": null,
   "metadata": {},
   "outputs": [],
   "source": [
    "sea_histogram(dataframe_to_plot=chl_dataset,\n",
    "              column_of_interest=\"fT3\",\n",
    "              xlabel=\"fT3\",\n",
    "              ylabel=\"Count\",\n",
    "              title=\"Distribution of fT3\",\n",
    "              kde=True,\n",
    "              show_grid=True,\n",
    "              element=\"bars\",\n",
    "              figsize=(7,6),\n",
    "              color=\"coral\",\n",
    "              binwidth=0.15\n",
    "              )"
   ]
  },
  {
   "cell_type": "markdown",
   "metadata": {},
   "source": [
    "#### fT4  "
   ]
  },
  {
   "cell_type": "code",
   "execution_count": null,
   "metadata": {},
   "outputs": [],
   "source": [
    "chl_dataset.fT4.isna().sum()"
   ]
  },
  {
   "cell_type": "code",
   "execution_count": null,
   "metadata": {},
   "outputs": [],
   "source": [
    "boxplot_func(columns_of_interest=\"fT4\", \n",
    "             data_frame=chl_dataset, \n",
    "             whis=8,\n",
    "             title=\"Box Plot for fT4\",\n",
    "             figsize=(6,5))"
   ]
  },
  {
   "cell_type": "code",
   "execution_count": null,
   "metadata": {},
   "outputs": [],
   "source": [
    "sea_histogram(dataframe_to_plot=chl_dataset,\n",
    "              column_of_interest=\"fT4\",\n",
    "              xlabel=\"fT4\",\n",
    "              ylabel=\"Count\",\n",
    "              title=\"Distribution of fT4 in log scale\",\n",
    "              vline=True,\n",
    "              n_vline=40,\n",
    "              show_grid=True,\n",
    "              element=\"step\",\n",
    "              ylog=True,\n",
    "              figsize=(7,6)\n",
    "              )"
   ]
  },
  {
   "cell_type": "markdown",
   "metadata": {},
   "source": [
    "We eliminate all `fT4` values that are above 40 and see how the distribution improves."
   ]
  },
  {
   "cell_type": "code",
   "execution_count": null,
   "metadata": {},
   "outputs": [],
   "source": [
    "chl_dataset[\"fT4\"]=remove_outliers(dataframe=chl_dataset,\n",
    "                                        column_name=\"fT4\",\n",
    "                                        threshold=40)"
   ]
  },
  {
   "cell_type": "code",
   "execution_count": null,
   "metadata": {},
   "outputs": [],
   "source": [
    "chl_dataset[\"fT4\"]=remove_outliers(dataframe=chl_dataset,\n",
    "                                        column_name=\"fT4\",\n",
    "                                        threshold=0.5,\n",
    "                                        minor=True)"
   ]
  },
  {
   "cell_type": "code",
   "execution_count": null,
   "metadata": {},
   "outputs": [],
   "source": [
    "chl_dataset.fT4.isna().sum()"
   ]
  },
  {
   "cell_type": "code",
   "execution_count": null,
   "metadata": {},
   "outputs": [],
   "source": [
    "sea_histogram(dataframe_to_plot=chl_dataset,\n",
    "              column_of_interest=\"fT4\",\n",
    "              xlabel=\"fT4\",\n",
    "              ylabel=\"Count\",\n",
    "              title=\"Distribution of fT4\",\n",
    "              kde=True,\n",
    "              show_grid=True,\n",
    "              element=\"bars\",\n",
    "              figsize=(7,6),\n",
    "              color=\"coral\"\n",
    "              )"
   ]
  },
  {
   "cell_type": "markdown",
   "metadata": {},
   "source": [
    "#### Vessels "
   ]
  },
  {
   "cell_type": "code",
   "execution_count": null,
   "metadata": {},
   "outputs": [],
   "source": [
    "chl_dataset.Vessels.isna().sum()"
   ]
  },
  {
   "cell_type": "code",
   "execution_count": null,
   "metadata": {},
   "outputs": [],
   "source": [
    "boxplot_func(columns_of_interest=\"Vessels\", \n",
    "             data_frame=chl_dataset,  \n",
    "             whis=3,\n",
    "             title=\"Box Plot for Vessels\",\n",
    "             figsize=(6,5))"
   ]
  },
  {
   "cell_type": "code",
   "execution_count": null,
   "metadata": {},
   "outputs": [],
   "source": [
    "sea_histogram(dataframe_to_plot=chl_dataset,\n",
    "              column_of_interest=\"Vessels\",\n",
    "              xlabel=\"Vessels\",\n",
    "              ylabel=\"Count\",\n",
    "              title=\"Distribution of Vessels\",\n",
    "              show_grid=True,\n",
    "              element=\"bars\",\n",
    "              figsize=(7,6)\n",
    "              )"
   ]
  },
  {
   "cell_type": "markdown",
   "metadata": {},
   "source": [
    "We eliminate the 0 values for the `Vessels` column they are clearly outliers."
   ]
  },
  {
   "cell_type": "code",
   "execution_count": null,
   "metadata": {},
   "outputs": [],
   "source": [
    "chl_dataset[\"Vessels\"]=remove_outliers(dataframe=chl_dataset,\n",
    "                                        column_name=\"Vessels\",\n",
    "                                        threshold=0.5,\n",
    "                                        minor=True)"
   ]
  },
  {
   "cell_type": "code",
   "execution_count": null,
   "metadata": {},
   "outputs": [],
   "source": [
    "sea_histogram(dataframe_to_plot=chl_dataset,\n",
    "              column_of_interest=\"Vessels\",\n",
    "              xlabel=\"fT4\",\n",
    "              ylabel=\"Count\",\n",
    "              title=\"Distribution of Vessels\",\n",
    "              kde=True,\n",
    "              show_grid=True,\n",
    "              element=\"bars\",\n",
    "              figsize=(7,6),\n",
    "              color=\"coral\",\n",
    "              discrete=True,\n",
    "              kde_kws= { \"bw_method\": 0.7}\n",
    "              )"
   ]
  },
  {
   "cell_type": "markdown",
   "metadata": {},
   "source": [
    "#### HR"
   ]
  },
  {
   "cell_type": "code",
   "execution_count": null,
   "metadata": {},
   "outputs": [],
   "source": [
    "chl_dataset.HR.isna().sum()"
   ]
  },
  {
   "cell_type": "code",
   "execution_count": null,
   "metadata": {},
   "outputs": [],
   "source": [
    "boxplot_func(columns_of_interest=\"HR\", \n",
    "             data_frame=chl_dataset, \n",
    "             #yscale='log', \n",
    "             whis=6,\n",
    "             title=\"Box Plot for HR\",\n",
    "             figsize=(6,5))"
   ]
  },
  {
   "cell_type": "code",
   "execution_count": null,
   "metadata": {},
   "outputs": [],
   "source": [
    "sea_histogram(dataframe_to_plot=chl_dataset,\n",
    "              column_of_interest=\"HR\",\n",
    "              xlabel=\"HR\",\n",
    "              ylabel=\"Count\",\n",
    "              title=\"Distribution of HR in log scale\",\n",
    "              vline=True,\n",
    "              n_vline=190,\n",
    "              show_grid=True,\n",
    "              element=\"step\",\n",
    "              ylog=True,\n",
    "              figsize=(7,6)\n",
    "              )"
   ]
  },
  {
   "cell_type": "markdown",
   "metadata": {},
   "source": [
    "We eliminate all `HR` values that are above 190 and see how the distribution improves."
   ]
  },
  {
   "cell_type": "code",
   "execution_count": null,
   "metadata": {},
   "outputs": [],
   "source": [
    "chl_dataset[\"HR\"]=remove_outliers(dataframe=chl_dataset,\n",
    "                                        column_name=\"HR\",\n",
    "                                        threshold=190)"
   ]
  },
  {
   "cell_type": "code",
   "execution_count": null,
   "metadata": {},
   "outputs": [],
   "source": [
    "chl_dataset.HR.isna().sum()"
   ]
  },
  {
   "cell_type": "code",
   "execution_count": null,
   "metadata": {},
   "outputs": [],
   "source": [
    "sea_histogram(dataframe_to_plot=chl_dataset,\n",
    "              column_of_interest=\"HR\",\n",
    "              xlabel=\"HR\",\n",
    "              ylabel=\"Count\",\n",
    "              title=\"Distribution of HR\",\n",
    "              kde=True,\n",
    "              show_grid=True,\n",
    "              element=\"bars\",\n",
    "              figsize=(7,6),\n",
    "              color=\"coral\",\n",
    "              kde_kws={\"bw_method\": 0.4}\n",
    "              )"
   ]
  },
  {
   "cell_type": "markdown",
   "metadata": {},
   "source": [
    "#### Weight "
   ]
  },
  {
   "cell_type": "code",
   "execution_count": null,
   "metadata": {},
   "outputs": [],
   "source": [
    "chl_dataset.Weight.isna().sum()"
   ]
  },
  {
   "cell_type": "code",
   "execution_count": null,
   "metadata": {},
   "outputs": [],
   "source": [
    "boxplot_func(columns_of_interest=\"Weight\", \n",
    "             data_frame=chl_dataset, \n",
    "             whis=4,\n",
    "             title=\"Box Plot for Weight\",\n",
    "             figsize=(6,5))"
   ]
  },
  {
   "cell_type": "code",
   "execution_count": null,
   "metadata": {},
   "outputs": [],
   "source": [
    "sea_histogram(dataframe_to_plot=chl_dataset,\n",
    "              column_of_interest=\"Weight\",\n",
    "              xlabel=\"Weight\",\n",
    "              ylabel=\"Count\",\n",
    "              title=\"Distribution of Weight in log scale\",\n",
    "              show_grid=True,\n",
    "              element=\"step\",\n",
    "              ylog=True,\n",
    "              figsize=(7,6)\n",
    "              )"
   ]
  },
  {
   "cell_type": "markdown",
   "metadata": {},
   "source": [
    "We do not eliminate any values for the `Weight` column since we find no outliers."
   ]
  },
  {
   "cell_type": "code",
   "execution_count": null,
   "metadata": {},
   "outputs": [],
   "source": [
    "sea_histogram(dataframe_to_plot=chl_dataset,\n",
    "              column_of_interest=\"Weight\",\n",
    "              xlabel=\"Weight\",\n",
    "              ylabel=\"Count\",\n",
    "              title=\"Distribution of Weight\",\n",
    "              kde=True,\n",
    "              show_grid=True,\n",
    "              element=\"bars\",\n",
    "              figsize=(7,6),\n",
    "              color=\"coral\"\n",
    "              )"
   ]
  },
  {
   "cell_type": "markdown",
   "metadata": {},
   "source": [
    "#### Height"
   ]
  },
  {
   "cell_type": "code",
   "execution_count": null,
   "metadata": {},
   "outputs": [],
   "source": [
    "chl_dataset.Height.isna().sum()"
   ]
  },
  {
   "cell_type": "code",
   "execution_count": null,
   "metadata": {},
   "outputs": [],
   "source": [
    "boxplot_func(columns_of_interest=\"Height\", \n",
    "             data_frame=chl_dataset,  \n",
    "             whis=4,\n",
    "             title=\"Box Plot for Height\",\n",
    "             figsize=(6,5))"
   ]
  },
  {
   "cell_type": "code",
   "execution_count": null,
   "metadata": {},
   "outputs": [],
   "source": [
    "sea_histogram(dataframe_to_plot=chl_dataset,\n",
    "              column_of_interest=\"Height\",\n",
    "              xlabel=\"Height\",\n",
    "              ylabel=\"Count\",\n",
    "              title=\"Distribution of Height in log scale\",\n",
    "              show_grid=True,\n",
    "              element=\"step\",\n",
    "              ylog=True,\n",
    "              figsize=(7,6)\n",
    "              )"
   ]
  },
  {
   "cell_type": "markdown",
   "metadata": {},
   "source": [
    "We do not eliminate any values for the `Height` column since we find no outliers."
   ]
  },
  {
   "cell_type": "code",
   "execution_count": null,
   "metadata": {},
   "outputs": [],
   "source": [
    "sea_histogram(dataframe_to_plot=chl_dataset,\n",
    "              column_of_interest=\"Height\",\n",
    "              xlabel=\"Height\",\n",
    "              ylabel=\"Count\",\n",
    "              title=\"Distribution of Height\",\n",
    "              kde=True,\n",
    "              show_grid=True,\n",
    "              element=\"bars\",\n",
    "              figsize=(7,6),\n",
    "              color=\"coral\",\n",
    "              binwidth=2,\n",
    "              kde_kws= { \"bw_method\": 0.4}\n",
    "              )"
   ]
  },
  {
   "cell_type": "markdown",
   "metadata": {},
   "source": [
    "#### BMI"
   ]
  },
  {
   "cell_type": "code",
   "execution_count": null,
   "metadata": {},
   "outputs": [],
   "source": [
    "chl_dataset.BMI.isna().sum()"
   ]
  },
  {
   "cell_type": "code",
   "execution_count": null,
   "metadata": {},
   "outputs": [],
   "source": [
    "boxplot_func(columns_of_interest=\"BMI\", \n",
    "             data_frame=chl_dataset, \n",
    "             whis=5,\n",
    "             title=\"Box Plot for BMI\",\n",
    "             figsize=(6,5))"
   ]
  },
  {
   "cell_type": "code",
   "execution_count": null,
   "metadata": {},
   "outputs": [],
   "source": [
    "sea_histogram(dataframe_to_plot=chl_dataset,\n",
    "              column_of_interest=\"BMI\",\n",
    "              xlabel=\"BMI\",\n",
    "              ylabel=\"Count\",\n",
    "              title=\"Distribution of BMI in log scale\",\n",
    "              vline=True,\n",
    "              n_vline=55,\n",
    "              show_grid=True,\n",
    "              element=\"step\",\n",
    "              ylog=True,\n",
    "              figsize=(7,6)\n",
    "              )"
   ]
  },
  {
   "cell_type": "markdown",
   "metadata": {},
   "source": [
    "We eliminate all `BMI` values that are above 55 and see how the distribution improves."
   ]
  },
  {
   "cell_type": "code",
   "execution_count": null,
   "metadata": {},
   "outputs": [],
   "source": [
    "chl_dataset[\"BMI\"]=remove_outliers(dataframe=chl_dataset,\n",
    "                                        column_name=\"BMI\",\n",
    "                                        threshold=55)"
   ]
  },
  {
   "cell_type": "code",
   "execution_count": null,
   "metadata": {},
   "outputs": [],
   "source": [
    "chl_dataset.BMI.isna().sum()"
   ]
  },
  {
   "cell_type": "code",
   "execution_count": null,
   "metadata": {},
   "outputs": [],
   "source": [
    "sea_histogram(dataframe_to_plot=chl_dataset,\n",
    "              column_of_interest=\"BMI\",\n",
    "              xlabel=\"BMI\",\n",
    "              ylabel=\"Count\",\n",
    "              title=\"Distribution of BMI\",\n",
    "              kde=True,\n",
    "              show_grid=True,\n",
    "              element=\"bars\",\n",
    "              figsize=(7,6),\n",
    "              color=\"coral\"\n",
    "              )"
   ]
  },
  {
   "cell_type": "markdown",
   "metadata": {},
   "source": [
    "#### Diastolic blood pressure"
   ]
  },
  {
   "cell_type": "code",
   "execution_count": null,
   "metadata": {},
   "outputs": [],
   "source": [
    "chl_dataset[\"Diastolic blood pressure\"].isna().sum()"
   ]
  },
  {
   "cell_type": "code",
   "execution_count": null,
   "metadata": {},
   "outputs": [],
   "source": [
    "boxplot_func(columns_of_interest=\"Diastolic blood pressure\", \n",
    "             data_frame=chl_dataset, \n",
    "             #yscale='log', \n",
    "             whis=4,\n",
    "             title=\"Box Plot for Diastolic blood pressure\",\n",
    "             figsize=(6,5))"
   ]
  },
  {
   "cell_type": "code",
   "execution_count": null,
   "metadata": {},
   "outputs": [],
   "source": [
    "sea_histogram(dataframe_to_plot=chl_dataset,\n",
    "              column_of_interest=\"Diastolic blood pressure\",\n",
    "              xlabel=\"Diastolic blood pressure\",\n",
    "              ylabel=\"Count\",\n",
    "              title=\"Distribution of Diastolic blood pressure in log scale\",\n",
    "              vline=True,\n",
    "              n_vline=141,\n",
    "              show_grid=True,\n",
    "              element=\"step\",\n",
    "              ylog=True,\n",
    "              figsize=(7,6)\n",
    "              )"
   ]
  },
  {
   "cell_type": "markdown",
   "metadata": {},
   "source": [
    "We eliminate all `Diastolic blood pressure` values that are above 141 and see how the distribution improves."
   ]
  },
  {
   "cell_type": "code",
   "execution_count": null,
   "metadata": {},
   "outputs": [],
   "source": [
    "chl_dataset[\"Diastolic blood pressure\"]=remove_outliers(dataframe=chl_dataset,\n",
    "                                        column_name=\"Diastolic blood pressure\",\n",
    "                                        threshold=141)"
   ]
  },
  {
   "cell_type": "code",
   "execution_count": null,
   "metadata": {},
   "outputs": [],
   "source": [
    "chl_dataset[\"Diastolic blood pressure\"].isna().sum()"
   ]
  },
  {
   "cell_type": "code",
   "execution_count": null,
   "metadata": {},
   "outputs": [],
   "source": [
    "sea_histogram(dataframe_to_plot=chl_dataset,\n",
    "              column_of_interest=\"Diastolic blood pressure\",\n",
    "              xlabel=\"Diastolic blood pressure\",\n",
    "              ylabel=\"Count\",\n",
    "              title=\"Distribution of Diastolic blood pressure\",\n",
    "              kde=True,\n",
    "              show_grid=True,\n",
    "              element=\"bars\",\n",
    "              figsize=(7,6),\n",
    "              color=\"coral\",\n",
    "              kde_kws= { \"bw_method\": 0.5},\n",
    "              binwidth=5\n",
    "              )"
   ]
  },
  {
   "cell_type": "markdown",
   "metadata": {},
   "source": [
    "#### Systolic blood pressure"
   ]
  },
  {
   "cell_type": "code",
   "execution_count": null,
   "metadata": {},
   "outputs": [],
   "source": [
    "chl_dataset[\"Systolic blood pressure\"].isna().sum()"
   ]
  },
  {
   "cell_type": "code",
   "execution_count": null,
   "metadata": {},
   "outputs": [],
   "source": [
    "boxplot_func(columns_of_interest=\"Systolic blood pressure\", \n",
    "             data_frame=chl_dataset, \n",
    "             whis=4,\n",
    "             title=\"Box Plot for Systolic blood pressure\",\n",
    "             figsize=(6,5))"
   ]
  },
  {
   "cell_type": "code",
   "execution_count": null,
   "metadata": {},
   "outputs": [],
   "source": [
    "sea_histogram(dataframe_to_plot=chl_dataset,\n",
    "              column_of_interest=\"Systolic blood pressure\",\n",
    "              xlabel=\"Systolic blood pressure\",\n",
    "              ylabel=\"Count\",\n",
    "              title=\"Distribution of Systolic blood pressure in log scale\",\n",
    "              show_grid=True,\n",
    "              element=\"step\",\n",
    "              ylog=True,\n",
    "              figsize=(7,6)\n",
    "              )"
   ]
  },
  {
   "cell_type": "markdown",
   "metadata": {},
   "source": [
    "We do not eliminate any values for the `Systolic blood pressure` column since we find no outliers."
   ]
  },
  {
   "cell_type": "code",
   "execution_count": null,
   "metadata": {},
   "outputs": [],
   "source": [
    "sea_histogram(dataframe_to_plot=chl_dataset,\n",
    "              column_of_interest=\"Systolic blood pressure\",\n",
    "              xlabel=\"Systolic blood pressure\",\n",
    "              ylabel=\"Count\",\n",
    "              title=\"Distribution of Systolic blood pressure\",\n",
    "              kde=True,\n",
    "              show_grid=True,\n",
    "              element=\"bars\",\n",
    "              figsize=(7,6),\n",
    "              color=\"coral\",\n",
    "              kde_kws= { \"bw_method\": 0.5},\n",
    "              binwidth=5\n",
    "              )"
   ]
  },
  {
   "cell_type": "markdown",
   "metadata": {},
   "source": [
    "#### WmsiBas"
   ]
  },
  {
   "cell_type": "code",
   "execution_count": null,
   "metadata": {},
   "outputs": [],
   "source": [
    "chl_dataset.WmsiBas.isna().sum()"
   ]
  },
  {
   "cell_type": "code",
   "execution_count": null,
   "metadata": {},
   "outputs": [],
   "source": [
    "boxplot_func(columns_of_interest=\"WmsiBas\", \n",
    "             data_frame=chl_dataset, \n",
    "             whis=4,\n",
    "             title=\"Box Plot for WmsiBas\",\n",
    "             figsize=(6,5))"
   ]
  },
  {
   "cell_type": "code",
   "execution_count": null,
   "metadata": {},
   "outputs": [],
   "source": [
    "sea_histogram(dataframe_to_plot=chl_dataset,\n",
    "              column_of_interest=\"WmsiBas\",\n",
    "              xlabel=\"WmsiBas\",\n",
    "              ylabel=\"Count\",\n",
    "              title=\"Distribution of WmsiBas in log scale\",\n",
    "              show_grid=True,\n",
    "              element=\"step\",\n",
    "              ylog=True,\n",
    "              figsize=(7,6)\n",
    "              )"
   ]
  },
  {
   "cell_type": "markdown",
   "metadata": {},
   "source": [
    "We do not eliminate any values for the `WmsiBas` column since we find no outliers."
   ]
  },
  {
   "cell_type": "code",
   "execution_count": null,
   "metadata": {},
   "outputs": [],
   "source": [
    "sea_histogram(dataframe_to_plot=chl_dataset,\n",
    "              column_of_interest=\"WmsiBas\",\n",
    "              xlabel=\"WmsiBas\",\n",
    "              ylabel=\"Count\",\n",
    "              title=\"Distribution of WmsiBas\",\n",
    "              kde=True,\n",
    "              show_grid=True,\n",
    "              element=\"bars\",\n",
    "              figsize=(7,6),\n",
    "              color=\"coral\",\n",
    "              kde_kws= { \"bw_method\": 0.3},\n",
    "              binwidth=0.25\n",
    "              )"
   ]
  },
  {
   "cell_type": "markdown",
   "metadata": {},
   "source": [
    "#### DimSettoIV"
   ]
  },
  {
   "cell_type": "code",
   "execution_count": null,
   "metadata": {},
   "outputs": [],
   "source": [
    "chl_dataset.DimSettoIV.isna().sum()"
   ]
  },
  {
   "cell_type": "code",
   "execution_count": null,
   "metadata": {},
   "outputs": [],
   "source": [
    "boxplot_func(columns_of_interest=\"DimSettoIV\", \n",
    "             data_frame=chl_dataset,  \n",
    "             whis=6,\n",
    "             title=\"Box Plot for DimSettoIV\",\n",
    "             figsize=(6,5))"
   ]
  },
  {
   "cell_type": "code",
   "execution_count": null,
   "metadata": {},
   "outputs": [],
   "source": [
    "sea_histogram(dataframe_to_plot=chl_dataset,\n",
    "              column_of_interest=\"DimSettoIV\",\n",
    "              xlabel=\"DimSettoIV\",\n",
    "              ylabel=\"Count\",\n",
    "              title=\"Distribution of DimSettoIV in log scale\",\n",
    "              vline=True,\n",
    "              n_vline=25,\n",
    "              show_grid=True,\n",
    "              element=\"step\",\n",
    "              ylog=True,\n",
    "              figsize=(7,6),\n",
    "              binwidth=0.5\n",
    "              )"
   ]
  },
  {
   "cell_type": "markdown",
   "metadata": {},
   "source": [
    "We eliminate all `DimSettoIV` values that are above 25 and see how the distribution improves."
   ]
  },
  {
   "cell_type": "code",
   "execution_count": null,
   "metadata": {},
   "outputs": [],
   "source": [
    "chl_dataset[\"DimSettoIV\"]=remove_outliers(dataframe=chl_dataset,\n",
    "                                        column_name=\"DimSettoIV\",\n",
    "                                        threshold=24)"
   ]
  },
  {
   "cell_type": "code",
   "execution_count": null,
   "metadata": {},
   "outputs": [],
   "source": [
    "chl_dataset.DimSettoIV.isna().sum()"
   ]
  },
  {
   "cell_type": "code",
   "execution_count": null,
   "metadata": {},
   "outputs": [],
   "source": [
    "sea_histogram(dataframe_to_plot=chl_dataset,\n",
    "              column_of_interest=\"DimSettoIV\",\n",
    "              xlabel=\"DimSettoIV\",\n",
    "              ylabel=\"Count\",\n",
    "              title=\"Distribution of DimSettoIV\",\n",
    "              kde=True,\n",
    "              show_grid=True,\n",
    "              element=\"bars\",\n",
    "              figsize=(7,6),\n",
    "              color=\"coral\",\n",
    "              binwidth=1,\n",
    "              kde_kws= { \"bw_method\": 0.4}\n",
    "              )"
   ]
  },
  {
   "cell_type": "markdown",
   "metadata": {},
   "source": [
    "#### DimPP "
   ]
  },
  {
   "cell_type": "code",
   "execution_count": null,
   "metadata": {},
   "outputs": [],
   "source": [
    "chl_dataset.DimPP.isna().sum()"
   ]
  },
  {
   "cell_type": "code",
   "execution_count": null,
   "metadata": {},
   "outputs": [],
   "source": [
    "boxplot_func(columns_of_interest=\"DimPP\", \n",
    "             data_frame=chl_dataset, \n",
    "             yscale='log', \n",
    "             whis=4,\n",
    "             title=\"Box Plot for DimPP in log scale\",\n",
    "             figsize=(6,5)\n",
    "             )"
   ]
  },
  {
   "cell_type": "code",
   "execution_count": null,
   "metadata": {},
   "outputs": [],
   "source": [
    "sea_histogram(dataframe_to_plot=chl_dataset,\n",
    "              column_of_interest=\"DimPP\",\n",
    "              xlabel=\"DimPP\",\n",
    "              ylabel=\"Count\",\n",
    "              title=\"Distribution of DimPP in log scale\",\n",
    "              vline=True,\n",
    "              n_vline=20,\n",
    "              show_grid=True,\n",
    "              element=\"step\",\n",
    "              ylog=True,\n",
    "              figsize=(7,6)\n",
    "              )"
   ]
  },
  {
   "cell_type": "markdown",
   "metadata": {},
   "source": [
    "We eliminate all `DimPP` values that are above 20 and see how the distribution improves."
   ]
  },
  {
   "cell_type": "code",
   "execution_count": null,
   "metadata": {},
   "outputs": [],
   "source": [
    "chl_dataset[\"DimPP\"]=remove_outliers(dataframe=chl_dataset,\n",
    "                                        column_name=\"DimPP\",\n",
    "                                        threshold=20)"
   ]
  },
  {
   "cell_type": "code",
   "execution_count": null,
   "metadata": {},
   "outputs": [],
   "source": [
    "chl_dataset.DimPP.isna().sum()"
   ]
  },
  {
   "cell_type": "code",
   "execution_count": null,
   "metadata": {},
   "outputs": [],
   "source": [
    "sea_histogram(dataframe_to_plot=chl_dataset,\n",
    "              column_of_interest=\"DimPP\",\n",
    "              xlabel=\"DimPP\",\n",
    "              ylabel=\"Count\",\n",
    "              title=\"Distribution of DimPP\",\n",
    "              kde=True,\n",
    "              show_grid=True,\n",
    "              element=\"bars\",\n",
    "              figsize=(7,6),\n",
    "              color=\"coral\",\n",
    "              binwidth=0.5,\n",
    "              discrete=True,\n",
    "              kde_kws={'bw_method': 0.4}\n",
    "              )"
   ]
  },
  {
   "cell_type": "markdown",
   "metadata": {},
   "source": [
    "#### fe"
   ]
  },
  {
   "cell_type": "code",
   "execution_count": null,
   "metadata": {},
   "outputs": [],
   "source": [
    "chl_dataset.fe.isna().sum()"
   ]
  },
  {
   "cell_type": "code",
   "execution_count": null,
   "metadata": {},
   "outputs": [],
   "source": [
    "boxplot_func(columns_of_interest=\"fe\", \n",
    "             data_frame=chl_dataset,\n",
    "             whis=4,\n",
    "             title=\"Box Plot for fe\",\n",
    "             figsize=(6,5)\n",
    "             )"
   ]
  },
  {
   "cell_type": "code",
   "execution_count": null,
   "metadata": {},
   "outputs": [],
   "source": [
    "sea_histogram(dataframe_to_plot=chl_dataset,\n",
    "              column_of_interest=\"fe\",\n",
    "              xlabel=\"fe\",\n",
    "              ylabel=\"Count\",\n",
    "              title=\"Distribution of fe in log scale\",\n",
    "              show_grid=True,\n",
    "              element=\"step\",\n",
    "              ylog=True,\n",
    "              figsize=(7,6)\n",
    "              )"
   ]
  },
  {
   "cell_type": "markdown",
   "metadata": {},
   "source": [
    "We do not eliminate any values for the `fe` column since we find no outliers."
   ]
  },
  {
   "cell_type": "code",
   "execution_count": null,
   "metadata": {},
   "outputs": [],
   "source": [
    "sea_histogram(dataframe_to_plot=chl_dataset,\n",
    "              column_of_interest=\"fe\",\n",
    "              xlabel=\"fe\",\n",
    "              ylabel=\"Count\",\n",
    "              title=\"Distribution of fe\",\n",
    "              kde=True,\n",
    "              show_grid=True,\n",
    "              element=\"bars\",\n",
    "              figsize=(7,6),\n",
    "              color=\"coral\",\n",
    "              kde_kws= { \"bw_method\": 0.4},\n",
    "              binwidth=3\n",
    "              )"
   ]
  },
  {
   "cell_type": "markdown",
   "metadata": {},
   "source": [
    "#### vsx"
   ]
  },
  {
   "cell_type": "code",
   "execution_count": null,
   "metadata": {},
   "outputs": [],
   "source": [
    "chl_dataset.vsx.isna().sum()"
   ]
  },
  {
   "cell_type": "code",
   "execution_count": null,
   "metadata": {},
   "outputs": [],
   "source": [
    "boxplot_func(columns_of_interest=\"vsx\", \n",
    "             data_frame=chl_dataset,  \n",
    "             whis=4,\n",
    "             title=\"Box Plot for vsx\",\n",
    "             figsize=(6,5)\n",
    "             )"
   ]
  },
  {
   "cell_type": "code",
   "execution_count": null,
   "metadata": {},
   "outputs": [],
   "source": [
    "sea_histogram(dataframe_to_plot=chl_dataset,\n",
    "              column_of_interest=\"vsx\",\n",
    "              xlabel=\"vsx\",\n",
    "              ylabel=\"Count\",\n",
    "              title=\"Distribution of vsx in log scale\",\n",
    "              vline=True,\n",
    "              n_vline=89,\n",
    "              show_grid=True,\n",
    "              element=\"step\",\n",
    "              ylog=True,\n",
    "              figsize=(7,6)\n",
    "              )"
   ]
  },
  {
   "cell_type": "markdown",
   "metadata": {},
   "source": [
    "We eliminate all `vsx` values that are above 89 and see how the distribution improves."
   ]
  },
  {
   "cell_type": "code",
   "execution_count": null,
   "metadata": {},
   "outputs": [],
   "source": [
    "chl_dataset[\"vsx\"]=remove_outliers(dataframe=chl_dataset,\n",
    "                                        column_name=\"vsx\",\n",
    "                                        threshold=89)"
   ]
  },
  {
   "cell_type": "code",
   "execution_count": null,
   "metadata": {},
   "outputs": [],
   "source": [
    "chl_dataset.vsx.isna().sum()"
   ]
  },
  {
   "cell_type": "code",
   "execution_count": null,
   "metadata": {},
   "outputs": [],
   "source": [
    "sea_histogram(dataframe_to_plot=chl_dataset,\n",
    "              column_of_interest=\"vsx\",\n",
    "              xlabel=\"vsx\",\n",
    "              ylabel=\"Count\",\n",
    "              title=\"Distribution of vsx\",\n",
    "              kde=True,\n",
    "              show_grid=True,\n",
    "              element=\"bars\",\n",
    "              figsize=(7,6),\n",
    "              color=\"coral\",\n",
    "              binwidth=2\n",
    "              )"
   ]
  },
  {
   "cell_type": "markdown",
   "metadata": {},
   "source": [
    "#### Total cholesterol"
   ]
  },
  {
   "cell_type": "code",
   "execution_count": null,
   "metadata": {},
   "outputs": [],
   "source": [
    "chl_dataset[\"Total cholesterol\"].isna().sum()"
   ]
  },
  {
   "cell_type": "code",
   "execution_count": null,
   "metadata": {},
   "outputs": [],
   "source": [
    "boxplot_func(columns_of_interest=\"Total cholesterol\", \n",
    "             data_frame=chl_dataset, \n",
    "             whis=4,\n",
    "             title=\"Box Plot for Total cholesterol\",\n",
    "             figsize=(6,5)\n",
    "             )"
   ]
  },
  {
   "cell_type": "code",
   "execution_count": null,
   "metadata": {},
   "outputs": [],
   "source": [
    "sea_histogram(dataframe_to_plot=chl_dataset,\n",
    "              column_of_interest=\"Total cholesterol\",\n",
    "              xlabel=\"Total cholesterol\",\n",
    "              ylabel=\"Count\",\n",
    "              title=\"Distribution of Total cholesterol in log scale\",\n",
    "              vline=True,\n",
    "              n_vline=420,\n",
    "              show_grid=True,\n",
    "              element=\"step\",\n",
    "              ylog=True,\n",
    "              figsize=(7,6)\n",
    "              )"
   ]
  },
  {
   "cell_type": "markdown",
   "metadata": {},
   "source": [
    "We eliminate all `Total cholesterol` values that are above 420 and see how the distribution improves."
   ]
  },
  {
   "cell_type": "code",
   "execution_count": null,
   "metadata": {},
   "outputs": [],
   "source": [
    "chl_dataset[\"Total cholesterol\"]=remove_outliers(dataframe=chl_dataset,\n",
    "                                        column_name=\"Total cholesterol\",\n",
    "                                        threshold=420)"
   ]
  },
  {
   "cell_type": "code",
   "execution_count": null,
   "metadata": {},
   "outputs": [],
   "source": [
    "chl_dataset[\"Total cholesterol\"].isna().sum()"
   ]
  },
  {
   "cell_type": "code",
   "execution_count": null,
   "metadata": {},
   "outputs": [],
   "source": [
    "sea_histogram(dataframe_to_plot=chl_dataset,\n",
    "              column_of_interest=\"Total cholesterol\",\n",
    "              xlabel=\"Total cholesterol\",\n",
    "              ylabel=\"Count\",\n",
    "              title=\"Distribution of Total cholesterol\",\n",
    "              kde=True,\n",
    "              show_grid=True,\n",
    "              element=\"bars\",\n",
    "              figsize=(7,6),\n",
    "              color=\"coral\"\n",
    "              )"
   ]
  },
  {
   "cell_type": "markdown",
   "metadata": {},
   "source": [
    "#### HDL"
   ]
  },
  {
   "cell_type": "code",
   "execution_count": null,
   "metadata": {},
   "outputs": [],
   "source": [
    "chl_dataset.HDL.isna().sum()"
   ]
  },
  {
   "cell_type": "code",
   "execution_count": null,
   "metadata": {},
   "outputs": [],
   "source": [
    "boxplot_func(columns_of_interest=\"HDL\", \n",
    "             data_frame=chl_dataset, \n",
    "             yscale='log', \n",
    "             whis=5,\n",
    "             title=\"Box Plot for HDL in log scale\",\n",
    "             figsize=(6,5)\n",
    "             )"
   ]
  },
  {
   "cell_type": "code",
   "execution_count": null,
   "metadata": {},
   "outputs": [],
   "source": [
    "sea_histogram(dataframe_to_plot=chl_dataset,\n",
    "              column_of_interest=\"HDL\",\n",
    "              xlabel=\"HDL\",\n",
    "              ylabel=\"Count\",\n",
    "              title=\"Distribution of HDL in log scale\",\n",
    "              vline=True,\n",
    "              n_vline=110,\n",
    "              show_grid=True,\n",
    "              element=\"step\",\n",
    "              ylog=True,\n",
    "              figsize=(7,6)\n",
    "              )"
   ]
  },
  {
   "cell_type": "markdown",
   "metadata": {},
   "source": [
    "We eliminate all `HDL` values that are above 110 and see how the distribution improves."
   ]
  },
  {
   "cell_type": "code",
   "execution_count": null,
   "metadata": {},
   "outputs": [],
   "source": [
    "chl_dataset[\"HDL\"]=remove_outliers(dataframe=chl_dataset,\n",
    "                                        column_name=\"HDL\",\n",
    "                                        threshold=110)"
   ]
  },
  {
   "cell_type": "code",
   "execution_count": null,
   "metadata": {},
   "outputs": [],
   "source": [
    "chl_dataset.HDL.isna().sum()"
   ]
  },
  {
   "cell_type": "code",
   "execution_count": null,
   "metadata": {},
   "outputs": [],
   "source": [
    "sea_histogram(dataframe_to_plot=chl_dataset,\n",
    "              column_of_interest=\"HDL\",\n",
    "              xlabel=\"HDL\",\n",
    "              ylabel=\"Count\",\n",
    "              title=\"Distribution of HDL\",\n",
    "              kde=True,\n",
    "              show_grid=True,\n",
    "              element=\"bars\",\n",
    "              figsize=(7,6),\n",
    "              color=\"coral\",\n",
    "              binwidth=2\n",
    "              )"
   ]
  },
  {
   "cell_type": "markdown",
   "metadata": {},
   "source": [
    "#### LDL"
   ]
  },
  {
   "cell_type": "code",
   "execution_count": null,
   "metadata": {},
   "outputs": [],
   "source": [
    "chl_dataset.LDL.isna().sum()"
   ]
  },
  {
   "cell_type": "code",
   "execution_count": null,
   "metadata": {},
   "outputs": [],
   "source": [
    "boxplot_func(columns_of_interest=\"LDL\", \n",
    "             data_frame=chl_dataset, \n",
    "             yscale='log', \n",
    "             whis=4,\n",
    "             title=\"Box Plot for LDL in log scale\",\n",
    "             figsize=(6,5)\n",
    "             )"
   ]
  },
  {
   "cell_type": "code",
   "execution_count": null,
   "metadata": {},
   "outputs": [],
   "source": [
    "sea_histogram(dataframe_to_plot=chl_dataset,\n",
    "              column_of_interest=\"LDL\",\n",
    "              xlabel=\"LDL\",\n",
    "              ylabel=\"Count\",\n",
    "              title=\"Distribution of LDL in log scale\",\n",
    "              vline=True,\n",
    "              n_vline=300,\n",
    "              show_grid=True,\n",
    "              element=\"step\",\n",
    "              ylog=True,\n",
    "              figsize=(7,6)\n",
    "              )"
   ]
  },
  {
   "cell_type": "markdown",
   "metadata": {},
   "source": [
    "We eliminate all `LDL` values that are above 300 and see how the distribution improves."
   ]
  },
  {
   "cell_type": "code",
   "execution_count": null,
   "metadata": {},
   "outputs": [],
   "source": [
    "chl_dataset[\"LDL\"]=remove_outliers(dataframe=chl_dataset,\n",
    "                                        column_name=\"LDL\",\n",
    "                                        threshold=300)"
   ]
  },
  {
   "cell_type": "code",
   "execution_count": null,
   "metadata": {},
   "outputs": [],
   "source": [
    "chl_dataset.LDL.isna().sum()"
   ]
  },
  {
   "cell_type": "code",
   "execution_count": null,
   "metadata": {},
   "outputs": [],
   "source": [
    "sea_histogram(dataframe_to_plot=chl_dataset,\n",
    "              column_of_interest=\"LDL\",\n",
    "              xlabel=\"LDL\",\n",
    "              ylabel=\"Count\",\n",
    "              title=\"Distribution of LDL\",\n",
    "              kde=True,\n",
    "              show_grid=True,\n",
    "              element=\"bars\",\n",
    "              figsize=(7,6),\n",
    "              color=\"coral\"\n",
    "              )"
   ]
  },
  {
   "cell_type": "markdown",
   "metadata": {},
   "source": [
    "#### Triglycerides "
   ]
  },
  {
   "cell_type": "code",
   "execution_count": null,
   "metadata": {},
   "outputs": [],
   "source": [
    "chl_dataset.Triglycerides.isna().sum()"
   ]
  },
  {
   "cell_type": "code",
   "execution_count": null,
   "metadata": {},
   "outputs": [],
   "source": [
    "boxplot_func(columns_of_interest=\"Triglycerides\", \n",
    "             data_frame=chl_dataset, \n",
    "             yscale='log', \n",
    "             whis=5,\n",
    "             title=\"Box Plot for Triglycerides in log scale\",\n",
    "             figsize=(6,5)\n",
    "             )"
   ]
  },
  {
   "cell_type": "code",
   "execution_count": null,
   "metadata": {},
   "outputs": [],
   "source": [
    "sea_histogram(dataframe_to_plot=chl_dataset,\n",
    "              column_of_interest=\"Triglycerides\",\n",
    "              xlabel=\"Triglycerides\",\n",
    "              ylabel=\"Count\",\n",
    "              title=\"Distribution of Triglycerides in log scale\",\n",
    "              vline=True,\n",
    "              n_vline=600,\n",
    "              show_grid=True,\n",
    "              element=\"step\",\n",
    "              ylog=True,\n",
    "              figsize=(7,6)\n",
    "              )"
   ]
  },
  {
   "cell_type": "markdown",
   "metadata": {},
   "source": [
    "We eliminate all `Triglycerides` values that are above 600 and see how the distribution improves."
   ]
  },
  {
   "cell_type": "code",
   "execution_count": null,
   "metadata": {},
   "outputs": [],
   "source": [
    "chl_dataset[\"Triglycerides\"]=remove_outliers(dataframe=chl_dataset,\n",
    "                                        column_name=\"Triglycerides\",\n",
    "                                        threshold=600)"
   ]
  },
  {
   "cell_type": "code",
   "execution_count": null,
   "metadata": {},
   "outputs": [],
   "source": [
    "chl_dataset.Triglycerides.isna().sum()"
   ]
  },
  {
   "cell_type": "code",
   "execution_count": null,
   "metadata": {},
   "outputs": [],
   "source": [
    "sea_histogram(dataframe_to_plot=chl_dataset,\n",
    "              column_of_interest=\"Triglycerides\",\n",
    "              xlabel=\"Triglycerides\",\n",
    "              ylabel=\"Count\",\n",
    "              title=\"Distribution of Triglycerides\",\n",
    "              kde=True,\n",
    "              show_grid=True,\n",
    "              element=\"bars\",\n",
    "              figsize=(7,6),\n",
    "              color=\"coral\"\n",
    "              )"
   ]
  },
  {
   "cell_type": "markdown",
   "metadata": {},
   "source": [
    "#### Creatinina "
   ]
  },
  {
   "cell_type": "code",
   "execution_count": null,
   "metadata": {},
   "outputs": [],
   "source": [
    "chl_dataset.Creatinina.isna().sum()"
   ]
  },
  {
   "cell_type": "code",
   "execution_count": null,
   "metadata": {},
   "outputs": [],
   "source": [
    "boxplot_func(columns_of_interest=\"Creatinina\", \n",
    "             data_frame=chl_dataset, \n",
    "             whis=11,\n",
    "             title=\"Box Plot for Creatinina\",\n",
    "             figsize=(6,5)\n",
    "             )"
   ]
  },
  {
   "cell_type": "code",
   "execution_count": null,
   "metadata": {},
   "outputs": [],
   "source": [
    "sea_histogram(dataframe_to_plot=chl_dataset,\n",
    "              column_of_interest=\"Creatinina\",\n",
    "              xlabel=\"Creatinina\",\n",
    "              ylabel=\"Count\",\n",
    "              title=\"Distribution of Creatinina in log scale\",\n",
    "              vline=True,\n",
    "              n_vline=5,\n",
    "              show_grid=True,\n",
    "              element=\"step\",\n",
    "              ylog=True,\n",
    "              figsize=(7,6)\n",
    "              )"
   ]
  },
  {
   "cell_type": "markdown",
   "metadata": {},
   "source": [
    "We eliminate all `Creatinina` values that are above 5 and see how the distribution improves."
   ]
  },
  {
   "cell_type": "code",
   "execution_count": null,
   "metadata": {},
   "outputs": [],
   "source": [
    "chl_dataset[\"Creatinina\"]=remove_outliers(dataframe=chl_dataset,\n",
    "                                        column_name=\"Creatinina\",\n",
    "                                        threshold=5)"
   ]
  },
  {
   "cell_type": "code",
   "execution_count": null,
   "metadata": {},
   "outputs": [],
   "source": [
    "chl_dataset.Creatinina.isna().sum()"
   ]
  },
  {
   "cell_type": "code",
   "execution_count": null,
   "metadata": {},
   "outputs": [],
   "source": [
    "sea_histogram(dataframe_to_plot=chl_dataset,\n",
    "              column_of_interest=\"Creatinina\",\n",
    "              xlabel=\"Creatinina\",\n",
    "              ylabel=\"Count\",\n",
    "              title=\"Distribution of Creatinina\",\n",
    "              kde=True,\n",
    "              show_grid=True,\n",
    "              element=\"bars\",\n",
    "              figsize=(7,6),\n",
    "              color=\"coral\"\n",
    "              )"
   ]
  },
  {
   "cell_type": "markdown",
   "metadata": {},
   "source": [
    "### End of Cleaning Phase\n",
    "\n",
    "We check how many null values there are in the columns. As we see each column has less than 10% null values. We keep these null values that way, since they will be part of our task that we want to solve by machine learning algorithms."
   ]
  },
  {
   "cell_type": "code",
   "execution_count": null,
   "metadata": {},
   "outputs": [],
   "source": [
    "chl_dataset.isna().sum()"
   ]
  },
  {
   "cell_type": "code",
   "execution_count": null,
   "metadata": {},
   "outputs": [],
   "source": [
    "# Calculate the total number of null values\n",
    "total_nulls = chl_dataset.isnull().sum().sum()\n",
    "# Calculate the total number of values in the DataFrame\n",
    "total_values = chl_dataset.size\n",
    "# Calculate the percentage of null values\n",
    "null_percentage = (total_nulls / total_values) * 100\n",
    "\n",
    "print(f\"Percentage of null values: {null_percentage:.2f}%\")\n"
   ]
  },
  {
   "cell_type": "markdown",
   "metadata": {},
   "source": [
    "## Creating Labels\n",
    "\n",
    "In this section, we generate the labels that will be utilized later in our AI task. We will store these labels in the 'Target' column of the `merge_dataset`. Specifically, the label will be assigned as 1 for patients who have deceased within 8 years from their initial visit, and 0 otherwise."
   ]
  },
  {
   "cell_type": "code",
   "execution_count": null,
   "metadata": {},
   "outputs": [],
   "source": [
    "def set_target(row):\n",
    "    \"\"\"\n",
    "    Sets the target value based on the presence of 'Data of death'.\n",
    "    \n",
    "    Args:\n",
    "    - row (pandas.Series): A row of the DataFrame.\n",
    "\n",
    "    Returns:\n",
    "    - int: 0 if 'Data of death' is null, otherwise 2.\n",
    "    \"\"\"\n",
    "    if pd.isnull(row['Data of death']):\n",
    "        return 0\n",
    "    else:\n",
    "        return 2\n",
    "    \n",
    "def set_target2(row):\n",
    "    \"\"\"\n",
    "    Sets the target value based on the conditions involving 'Target', 'Follow Up Data', and 'Data prelievo'.\n",
    "\n",
    "    Args:\n",
    "    - row (pandas.Series): A row of the DataFrame.\n",
    "\n",
    "    Returns:\n",
    "    - int: The updated target value.\n",
    "    \"\"\"\n",
    "    if row['Target'] == 2:\n",
    "        if (row['Follow Up Data'] - row['Data prelievo']).days / 365 < 8:\n",
    "            return 1\n",
    "        else:\n",
    "            return 0\n",
    "    else:\n",
    "        return row['Target']\n"
   ]
  },
  {
   "cell_type": "code",
   "execution_count": null,
   "metadata": {},
   "outputs": [],
   "source": [
    "merge_dataset['Target'] = merge_dataset.apply(set_target, axis=1)\n",
    "merge_dataset['Target'] = merge_dataset.apply(set_target2, axis=1)"
   ]
  },
  {
   "cell_type": "markdown",
   "metadata": {},
   "source": [
    "Let's now examine the distribution of values in the 'Target' column. We chose an 8-year threshold to create the labels because, as we can observe from this, the distribution indicates that 1/4 of the dataset comprises patients who deceased within this timeframe, while the remaining 3/4 did not."
   ]
  },
  {
   "cell_type": "code",
   "execution_count": null,
   "metadata": {},
   "outputs": [],
   "source": [
    "merge_dataset.Target.value_counts()"
   ]
  },
  {
   "cell_type": "code",
   "execution_count": null,
   "metadata": {},
   "outputs": [],
   "source": [
    "counts_to_plot=merge_dataset.Target.value_counts()\n",
    "\n",
    "pieplot_func(value_counts_to_plot=counts_to_plot.values, \n",
    "             labels=counts_to_plot.index, \n",
    "             figsize=(4,4),\n",
    "             title=\"Distribution of the labels in Target\")"
   ]
  },
  {
   "cell_type": "markdown",
   "metadata": {},
   "source": [
    "### Adding Target to `chl_dataset`\n",
    "\n",
    "We then add the 'Target' column with the labels to our main dataframe using the `.merge()` command."
   ]
  },
  {
   "cell_type": "code",
   "execution_count": null,
   "metadata": {},
   "outputs": [],
   "source": [
    "chl_dataset= pd.merge(chl_dataset, merge_dataset[['Number', 'Target']], on='Number', how='left')"
   ]
  },
  {
   "cell_type": "code",
   "execution_count": null,
   "metadata": {},
   "outputs": [],
   "source": [
    "chl_dataset.head()"
   ]
  },
  {
   "cell_type": "markdown",
   "metadata": {},
   "source": [
    "Finally, we also delete the \"Number\" column, which will no longer serve our purposes."
   ]
  },
  {
   "cell_type": "code",
   "execution_count": null,
   "metadata": {},
   "outputs": [],
   "source": [
    "chl_dataset=chl_dataset.drop(columns=\"Number\")"
   ]
  },
  {
   "cell_type": "markdown",
   "metadata": {},
   "source": [
    "## Normalize Dataset\n",
    "\n",
    "In this section, we normalize our dataset using the `MinMaxScaler` so that continuous data conforms to the distributions of binary data. The MinMaxScaler scales features between 0 and 1 by subtracting the minimum value and then dividing by the range. \n",
    "\n",
    "We chose MinMaxScaler over StandardScaler because it is more suitable for cases where the distribution of the features does not follow a Gaussian distribution, which is often the case in real-world datasets."
   ]
  },
  {
   "cell_type": "code",
   "execution_count": null,
   "metadata": {},
   "outputs": [],
   "source": [
    "scaler = MinMaxScaler()"
   ]
  },
  {
   "cell_type": "code",
   "execution_count": null,
   "metadata": {},
   "outputs": [],
   "source": [
    "# Normalize all columns of the dataset\n",
    "chl_dataset_normalized = scaler.fit_transform(chl_dataset)\n",
    "# Optionally, convert the normalized dataset to a pandas DataFrame\n",
    "chl_dataset_normalized = pd.DataFrame(chl_dataset_normalized, columns=chl_dataset.columns)"
   ]
  },
  {
   "cell_type": "code",
   "execution_count": null,
   "metadata": {},
   "outputs": [],
   "source": [
    "chl_dataset_normalized.head()"
   ]
  },
  {
   "cell_type": "markdown",
   "metadata": {},
   "source": [
    "## Storing Dataset in csv File\n",
    "\n",
    "Once our dataset is prepared for use in our machine learning task, we save it to a new CSV file stored in the \"Cleaned Dataset\" folder. We will retrieve it from there when needed."
   ]
  },
  {
   "cell_type": "code",
   "execution_count": null,
   "metadata": {},
   "outputs": [],
   "source": [
    "# Get the directory of the script\n",
    "script_directory = os.getcwd()\n",
    "\n",
    "# Specify the folder name\n",
    "folder_name = 'Datasets/Cleaned_Dataset'\n",
    "\n",
    "# Combine the script directory and folder name to get the full path\n",
    "folder_path = os.path.join(script_directory, folder_name)\n",
    "\n",
    "# Check if the folder exists, and create it if not\n",
    "if not os.path.exists(folder_path):\n",
    "    os.makedirs(folder_path)\n",
    "\n",
    "chl_dataset.to_csv(path_or_buf=f'{folder_name}/chl_dataset.csv', index=False)"
   ]
  },
  {
   "cell_type": "code",
   "execution_count": null,
   "metadata": {},
   "outputs": [],
   "source": [
    "# Get the directory of the script\n",
    "script_directory = os.getcwd()\n",
    "\n",
    "# Specify the folder name\n",
    "folder_name = 'Datasets/Cleaned_Dataset'\n",
    "\n",
    "# Combine the script directory and folder name to get the full path\n",
    "folder_path = os.path.join(script_directory, folder_name)\n",
    "\n",
    "# Check if the folder exists, and create it if not\n",
    "if not os.path.exists(folder_path):\n",
    "    os.makedirs(folder_path)\n",
    "\n",
    "chl_dataset_normalized.to_csv(path_or_buf=f'{folder_name}/chl_dataset_normalized.csv', index=False)"
   ]
  },
  {
   "cell_type": "markdown",
   "metadata": {},
   "source": [
    "## PCA\n",
    "\n",
    "`PCA` is a method used to simplify high-dimensional datasets by identifying the most important patterns in the data. It does this by transforming the original features into a new set of variables called `principal components`, which capture the most variance in the data. This reduction in dimensionality helps in visualization, analysis, and modeling tasks.\n",
    "\n",
    "In particular, this analysis helps us estimate the approximate size of the latent space for our encoder-decoder model.\n",
    "\n",
    "We begin by eliminating rows with null values, since we must not have null values in the dataset in order to calculate PCA."
   ]
  },
  {
   "cell_type": "code",
   "execution_count": null,
   "metadata": {},
   "outputs": [],
   "source": [
    "chl_dataset=chl_dataset.dropna()"
   ]
  },
  {
   "cell_type": "markdown",
   "metadata": {},
   "source": [
    "Now, let's try using normalized data with both StandardScaler and MinMaxScaler. We'll use the not yet normalized values from `chl_dataset` for this purpose.\n",
    "\n",
    "We aim to experiment with both StandardScaler and MinMaxScaler to observe how different scaling techniques affect the performance of PCA. "
   ]
  },
  {
   "cell_type": "code",
   "execution_count": null,
   "metadata": {},
   "outputs": [],
   "source": [
    "scaler = StandardScaler()\n",
    "X_std = scaler.fit_transform(chl_dataset.values)"
   ]
  },
  {
   "cell_type": "code",
   "execution_count": null,
   "metadata": {},
   "outputs": [],
   "source": [
    "scaler = MinMaxScaler()\n",
    "X_minmax = scaler.fit_transform(chl_dataset.values)"
   ]
  },
  {
   "cell_type": "markdown",
   "metadata": {},
   "source": [
    "Next, we apply PCA to the data using both normalization methods and observe that in the case of MinMax-scaled data, we can describe the dataset more effectively with fewer columns, indicating better performance."
   ]
  },
  {
   "cell_type": "code",
   "execution_count": null,
   "metadata": {},
   "outputs": [],
   "source": [
    "pca = PCA(n_components=35)\n",
    "pca.fit_transform(X_std)\n",
    "pca.explained_variance_ratio_.cumsum()"
   ]
  },
  {
   "cell_type": "code",
   "execution_count": null,
   "metadata": {},
   "outputs": [],
   "source": [
    "pca = PCA(n_components=20)\n",
    "pca.fit_transform(X_minmax)\n",
    "pca.explained_variance_ratio_.cumsum()"
   ]
  },
  {
   "cell_type": "markdown",
   "metadata": {},
   "source": [
    "Therefore, we perform an elbow method on the MinMax-scaled data to determine the optimal number of components. We observe that there is no distinct elbow point in the curve, but by choosing 17 components, we achieve a variance explained ratio of 0.80. We consider 17 to be a suitable number, considering the presence of 70 columns in the entire dataset."
   ]
  },
  {
   "cell_type": "code",
   "execution_count": null,
   "metadata": {},
   "outputs": [],
   "source": [
    "# Fit PCA with different numbers of components\n",
    "n_components_range = range(1, 30)  # Adjust the range as needed\n",
    "explained_variance = []\n",
    "\n",
    "for n_components in n_components_range:\n",
    "    pca = PCA(n_components=n_components)\n",
    "    pca.fit_transform(X_minmax)\n",
    "    explained_variance.append(pca.explained_variance_ratio_.sum())\n",
    "\n",
    "# Plot the explained variance against the number of components\n",
    "plt.plot(n_components_range, explained_variance, marker='o')\n",
    "plt.xlabel('Number of Components')\n",
    "plt.ylabel('Explained Variance')\n",
    "plt.title('Elbow Method for PCA')\n",
    "# Add a vertical red line at x=17\n",
    "plt.axvline(x=17, color='r', linestyle='--')  \n",
    "plt.grid(True)\n",
    "plt.show()\n"
   ]
  },
  {
   "cell_type": "markdown",
   "metadata": {},
   "source": [
    "Let's also create a pairplot with the number of components set to 7 to provide a different visualization of our dataset."
   ]
  },
  {
   "cell_type": "code",
   "execution_count": null,
   "metadata": {},
   "outputs": [],
   "source": [
    "# Perform PCA with 7 principal components\n",
    "pca = PCA(n_components=7)\n",
    "pcs = pca.fit_transform(X_minmax)\n",
    "\n",
    "# Get the number of components\n",
    "n_components = pca.n_components_\n",
    "\n",
    "# Create subplots for each pair of principal components\n",
    "fig, axes = plt.subplots(n_components, n_components, figsize=(15, 15))\n",
    "\n",
    "# Iterate over each pair of principal components\n",
    "for i in range(n_components):\n",
    "    for j in range(n_components):\n",
    "        # Plot histograms for diagonal elements\n",
    "        if i == j:\n",
    "            axes[i, j].hist(pcs[:, i], bins=30, color='skyblue', ec='darkblue')\n",
    "            axes[i, j].set_title(f'Histogram of PC{i+1}')\n",
    "        # Plot scatter plots for off-diagonal elements\n",
    "        else:\n",
    "            axes[i, j].scatter(pcs[:, i], pcs[:, j])\n",
    "            axes[i, j].set_xlabel(f'PC{i+1}')\n",
    "            axes[i, j].set_ylabel(f'PC{j+1}')\n",
    "\n",
    "plt.tight_layout()\n",
    "plt.show()"
   ]
  },
  {
   "cell_type": "markdown",
   "metadata": {},
   "source": [
    "## Old Dataset\n",
    "\n",
    "Some of the work done on the old dataset and **no longer important** ..."
   ]
  },
  {
   "cell_type": "code",
   "execution_count": null,
   "metadata": {},
   "outputs": [],
   "source": [
    "old_dataset=pd.read_csv(\"Datasets/data.csv\")"
   ]
  },
  {
   "cell_type": "code",
   "execution_count": null,
   "metadata": {},
   "outputs": [],
   "source": [
    "old_dataset.head()"
   ]
  },
  {
   "cell_type": "code",
   "execution_count": null,
   "metadata": {},
   "outputs": [],
   "source": [
    "old_dataset.info()"
   ]
  },
  {
   "cell_type": "code",
   "execution_count": null,
   "metadata": {},
   "outputs": [],
   "source": [
    "old_dataset.isna().sum()"
   ]
  },
  {
   "cell_type": "markdown",
   "metadata": {},
   "source": [
    "### Continuous Features"
   ]
  },
  {
   "cell_type": "code",
   "execution_count": null,
   "metadata": {},
   "outputs": [],
   "source": [
    "sea_histogram(old_dataset, \n",
    "              \"Creatinina\",\n",
    "              figsize=(10, 6), \n",
    "              show_grid=True,\n",
    "              xlabel=\"Creatinina\",\n",
    "              ylabel=\"Count\",\n",
    "              hue=\"Survive7Y\",\n",
    "              element=\"bars\", \n",
    "              ylog=True,\n",
    "              color=\"coral\")"
   ]
  },
  {
   "cell_type": "code",
   "execution_count": null,
   "metadata": {},
   "outputs": [],
   "source": [
    "sea_histogram(old_dataset, \n",
    "              \"Vessels\",\n",
    "              figsize=(10, 6), \n",
    "              show_grid=True,\n",
    "              xlabel=\"Vessels\",\n",
    "              ylabel=\"Count\",\n",
    "              hue=\"Survive7Y\",\n",
    "              element=\"step\",\n",
    "              multiple=\"dodge\", \n",
    "              #ylog=True,\n",
    "              color=\"coral\")"
   ]
  }
 ],
 "metadata": {
  "kernelspec": {
   "display_name": "Python 3",
   "language": "python",
   "name": "python3"
  },
  "language_info": {
   "codemirror_mode": {
    "name": "ipython",
    "version": 3
   },
   "file_extension": ".py",
   "mimetype": "text/x-python",
   "name": "python",
   "nbconvert_exporter": "python",
   "pygments_lexer": "ipython3",
   "version": "3.11.3"
  }
 },
 "nbformat": 4,
 "nbformat_minor": 2
}

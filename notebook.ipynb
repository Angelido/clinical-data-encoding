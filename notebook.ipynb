{
 "cells": [
  {
   "cell_type": "markdown",
   "metadata": {},
   "source": [
    "## Import Libraries"
   ]
  },
  {
   "cell_type": "code",
   "execution_count": 8,
   "metadata": {},
   "outputs": [],
   "source": [
    "import pandas as pd\n",
    "import numpy as np\n",
    "import matplotlib.pyplot as plt"
   ]
  },
  {
   "cell_type": "markdown",
   "metadata": {},
   "source": [
    "## Utility Function"
   ]
  },
  {
   "cell_type": "markdown",
   "metadata": {},
   "source": [
    "### Histogram"
   ]
  },
  {
   "cell_type": "code",
   "execution_count": 9,
   "metadata": {},
   "outputs": [],
   "source": [
    "# Create an histogram plot for one column\n",
    "def histogram_func(dataframe_to_plot, columns_to_plot, figsize=(8, 10), title=None, xlabel=None, ylabel=None, \n",
    "                   show_grid=False, color='blue', log=False, ylog=False, alpha=1):\n",
    "    \n",
    "    plt.figure(figsize=figsize)\n",
    "    plt.hist(dataframe_to_plot[columns_to_plot], log=log, color=color, alpha=alpha)\n",
    "    \n",
    "    if ylog:\n",
    "        plt.yscale('log')\n",
    "\n",
    "    plt.xlabel(xlabel)\n",
    "    plt.ylabel(ylabel)\n",
    "    plt.title(title)\n",
    "\n",
    "    if show_grid:\n",
    "        plt.grid(True)\n",
    "\n",
    "    plt.show()"
   ]
  },
  {
   "cell_type": "markdown",
   "metadata": {},
   "source": [
    "## Load Dataset"
   ]
  },
  {
   "cell_type": "code",
   "execution_count": 3,
   "metadata": {},
   "outputs": [],
   "source": [
    "chl_dataset=pd.read_csv(\"Datasets/data.csv\")"
   ]
  },
  {
   "cell_type": "code",
   "execution_count": 4,
   "metadata": {},
   "outputs": [
    {
     "data": {
      "text/html": [
       "<div>\n",
       "<style scoped>\n",
       "    .dataframe tbody tr th:only-of-type {\n",
       "        vertical-align: middle;\n",
       "    }\n",
       "\n",
       "    .dataframe tbody tr th {\n",
       "        vertical-align: top;\n",
       "    }\n",
       "\n",
       "    .dataframe thead th {\n",
       "        text-align: right;\n",
       "    }\n",
       "</style>\n",
       "<table border=\"1\" class=\"dataframe\">\n",
       "  <thead>\n",
       "    <tr style=\"text-align: right;\">\n",
       "      <th></th>\n",
       "      <th>N. patients</th>\n",
       "      <th>Gender (Male = 1)</th>\n",
       "      <th>Age</th>\n",
       "      <th>Angina</th>\n",
       "      <th>Previous CABG</th>\n",
       "      <th>Previous PCI</th>\n",
       "      <th>Previous Myocardial Infarction</th>\n",
       "      <th>Acute Myocardial Infarction</th>\n",
       "      <th>Angiography</th>\n",
       "      <th>Vessels</th>\n",
       "      <th>FE</th>\n",
       "      <th>Documented resting \\nor exertional ischemia</th>\n",
       "      <th>Post-ischemic Dilated\\nCardiomyopathy</th>\n",
       "      <th>Smoke\\nHistory of smoke</th>\n",
       "      <th>Diabetes\\nHistory of diabetes</th>\n",
       "      <th>Hypertension\\nHistory of hypertension</th>\n",
       "      <th>Hyperlipemia\\nHistoty of hyperlipemia</th>\n",
       "      <th>Paroxysmal or chronic \\natrial fibrillation</th>\n",
       "      <th>Creatinina</th>\n",
       "      <th>Survive7Y</th>\n",
       "    </tr>\n",
       "  </thead>\n",
       "  <tbody>\n",
       "    <tr>\n",
       "      <th>0</th>\n",
       "      <td>1</td>\n",
       "      <td>1</td>\n",
       "      <td>54</td>\n",
       "      <td>1</td>\n",
       "      <td>0</td>\n",
       "      <td>0</td>\n",
       "      <td>0</td>\n",
       "      <td>0</td>\n",
       "      <td>1</td>\n",
       "      <td>5.0</td>\n",
       "      <td>46</td>\n",
       "      <td>1</td>\n",
       "      <td>0</td>\n",
       "      <td>1</td>\n",
       "      <td>0</td>\n",
       "      <td>0</td>\n",
       "      <td>0</td>\n",
       "      <td>0</td>\n",
       "      <td>0.00</td>\n",
       "      <td>0</td>\n",
       "    </tr>\n",
       "    <tr>\n",
       "      <th>1</th>\n",
       "      <td>3</td>\n",
       "      <td>1</td>\n",
       "      <td>56</td>\n",
       "      <td>1</td>\n",
       "      <td>1</td>\n",
       "      <td>1</td>\n",
       "      <td>1</td>\n",
       "      <td>0</td>\n",
       "      <td>0</td>\n",
       "      <td>4.0</td>\n",
       "      <td>35</td>\n",
       "      <td>1</td>\n",
       "      <td>1</td>\n",
       "      <td>0</td>\n",
       "      <td>0</td>\n",
       "      <td>0</td>\n",
       "      <td>1</td>\n",
       "      <td>0</td>\n",
       "      <td>0.83</td>\n",
       "      <td>1</td>\n",
       "    </tr>\n",
       "    <tr>\n",
       "      <th>2</th>\n",
       "      <td>5</td>\n",
       "      <td>1</td>\n",
       "      <td>61</td>\n",
       "      <td>1</td>\n",
       "      <td>0</td>\n",
       "      <td>0</td>\n",
       "      <td>1</td>\n",
       "      <td>0</td>\n",
       "      <td>1</td>\n",
       "      <td>4.0</td>\n",
       "      <td>48</td>\n",
       "      <td>1</td>\n",
       "      <td>0</td>\n",
       "      <td>0</td>\n",
       "      <td>0</td>\n",
       "      <td>0</td>\n",
       "      <td>1</td>\n",
       "      <td>0</td>\n",
       "      <td>1.10</td>\n",
       "      <td>1</td>\n",
       "    </tr>\n",
       "    <tr>\n",
       "      <th>3</th>\n",
       "      <td>7</td>\n",
       "      <td>1</td>\n",
       "      <td>75</td>\n",
       "      <td>1</td>\n",
       "      <td>1</td>\n",
       "      <td>0</td>\n",
       "      <td>1</td>\n",
       "      <td>0</td>\n",
       "      <td>0</td>\n",
       "      <td>0.0</td>\n",
       "      <td>39</td>\n",
       "      <td>1</td>\n",
       "      <td>0</td>\n",
       "      <td>1</td>\n",
       "      <td>0</td>\n",
       "      <td>0</td>\n",
       "      <td>0</td>\n",
       "      <td>0</td>\n",
       "      <td>0.00</td>\n",
       "      <td>0</td>\n",
       "    </tr>\n",
       "    <tr>\n",
       "      <th>4</th>\n",
       "      <td>8</td>\n",
       "      <td>1</td>\n",
       "      <td>81</td>\n",
       "      <td>1</td>\n",
       "      <td>1</td>\n",
       "      <td>1</td>\n",
       "      <td>1</td>\n",
       "      <td>0</td>\n",
       "      <td>1</td>\n",
       "      <td>4.0</td>\n",
       "      <td>40</td>\n",
       "      <td>1</td>\n",
       "      <td>1</td>\n",
       "      <td>0</td>\n",
       "      <td>1</td>\n",
       "      <td>1</td>\n",
       "      <td>1</td>\n",
       "      <td>1</td>\n",
       "      <td>1.59</td>\n",
       "      <td>0</td>\n",
       "    </tr>\n",
       "  </tbody>\n",
       "</table>\n",
       "</div>"
      ],
      "text/plain": [
       "   N. patients  Gender (Male = 1)  Age  Angina  Previous CABG  Previous PCI  \\\n",
       "0            1                  1   54       1              0             0   \n",
       "1            3                  1   56       1              1             1   \n",
       "2            5                  1   61       1              0             0   \n",
       "3            7                  1   75       1              1             0   \n",
       "4            8                  1   81       1              1             1   \n",
       "\n",
       "   Previous Myocardial Infarction  Acute Myocardial Infarction  Angiography  \\\n",
       "0                               0                            0            1   \n",
       "1                               1                            0            0   \n",
       "2                               1                            0            1   \n",
       "3                               1                            0            0   \n",
       "4                               1                            0            1   \n",
       "\n",
       "   Vessels  FE  Documented resting \\nor exertional ischemia  \\\n",
       "0      5.0  46                                            1   \n",
       "1      4.0  35                                            1   \n",
       "2      4.0  48                                            1   \n",
       "3      0.0  39                                            1   \n",
       "4      4.0  40                                            1   \n",
       "\n",
       "   Post-ischemic Dilated\\nCardiomyopathy  Smoke\\nHistory of smoke  \\\n",
       "0                                      0                        1   \n",
       "1                                      1                        0   \n",
       "2                                      0                        0   \n",
       "3                                      0                        1   \n",
       "4                                      1                        0   \n",
       "\n",
       "   Diabetes\\nHistory of diabetes  Hypertension\\nHistory of hypertension  \\\n",
       "0                              0                                      0   \n",
       "1                              0                                      0   \n",
       "2                              0                                      0   \n",
       "3                              0                                      0   \n",
       "4                              1                                      1   \n",
       "\n",
       "   Hyperlipemia\\nHistoty of hyperlipemia  \\\n",
       "0                                      0   \n",
       "1                                      1   \n",
       "2                                      1   \n",
       "3                                      0   \n",
       "4                                      1   \n",
       "\n",
       "   Paroxysmal or chronic \\natrial fibrillation  Creatinina  Survive7Y  \n",
       "0                                            0        0.00          0  \n",
       "1                                            0        0.83          1  \n",
       "2                                            0        1.10          1  \n",
       "3                                            0        0.00          0  \n",
       "4                                            1        1.59          0  "
      ]
     },
     "execution_count": 4,
     "metadata": {},
     "output_type": "execute_result"
    }
   ],
   "source": [
    "chl_dataset.head()"
   ]
  },
  {
   "cell_type": "code",
   "execution_count": 5,
   "metadata": {},
   "outputs": [
    {
     "name": "stdout",
     "output_type": "stream",
     "text": [
      "<class 'pandas.core.frame.DataFrame'>\n",
      "RangeIndex: 3987 entries, 0 to 3986\n",
      "Data columns (total 20 columns):\n",
      " #   Column                                      Non-Null Count  Dtype  \n",
      "---  ------                                      --------------  -----  \n",
      " 0   N. patients                                 3987 non-null   int64  \n",
      " 1   Gender (Male = 1)                           3987 non-null   int64  \n",
      " 2   Age                                         3987 non-null   int64  \n",
      " 3   Angina                                      3987 non-null   int64  \n",
      " 4   Previous CABG                               3987 non-null   int64  \n",
      " 5   Previous PCI                                3987 non-null   int64  \n",
      " 6   Previous Myocardial Infarction              3987 non-null   int64  \n",
      " 7   Acute Myocardial Infarction                 3987 non-null   int64  \n",
      " 8   Angiography                                 3987 non-null   int64  \n",
      " 9   Vessels                                     3987 non-null   float64\n",
      " 10  FE                                          3987 non-null   int64  \n",
      " 11  Documented resting \n",
      "or exertional ischemia  3987 non-null   int64  \n",
      " 12  Post-ischemic Dilated\n",
      "Cardiomyopathy        3987 non-null   int64  \n",
      " 13  Smoke\n",
      "History of smoke                      3987 non-null   int64  \n",
      " 14  Diabetes\n",
      "History of diabetes                3987 non-null   int64  \n",
      " 15  Hypertension\n",
      "History of hypertension        3987 non-null   int64  \n",
      " 16  Hyperlipemia\n",
      "Histoty of hyperlipemia        3987 non-null   int64  \n",
      " 17  Paroxysmal or chronic \n",
      "atrial fibrillation  3987 non-null   int64  \n",
      " 18  Creatinina                                  3987 non-null   float64\n",
      " 19  Survive7Y                                   3987 non-null   int64  \n",
      "dtypes: float64(2), int64(18)\n",
      "memory usage: 623.1 KB\n"
     ]
    }
   ],
   "source": [
    "chl_dataset.info()"
   ]
  },
  {
   "cell_type": "code",
   "execution_count": 6,
   "metadata": {},
   "outputs": [
    {
     "data": {
      "text/plain": [
       "N. patients                                    0\n",
       "Gender (Male = 1)                              0\n",
       "Age                                            0\n",
       "Angina                                         0\n",
       "Previous CABG                                  0\n",
       "Previous PCI                                   0\n",
       "Previous Myocardial Infarction                 0\n",
       "Acute Myocardial Infarction                    0\n",
       "Angiography                                    0\n",
       "Vessels                                        0\n",
       "FE                                             0\n",
       "Documented resting \\nor exertional ischemia    0\n",
       "Post-ischemic Dilated\\nCardiomyopathy          0\n",
       "Smoke\\nHistory of smoke                        0\n",
       "Diabetes\\nHistory of diabetes                  0\n",
       "Hypertension\\nHistory of hypertension          0\n",
       "Hyperlipemia\\nHistoty of hyperlipemia          0\n",
       "Paroxysmal or chronic \\natrial fibrillation    0\n",
       "Creatinina                                     0\n",
       "Survive7Y                                      0\n",
       "dtype: int64"
      ]
     },
     "execution_count": 6,
     "metadata": {},
     "output_type": "execute_result"
    }
   ],
   "source": [
    "chl_dataset.isna().sum()"
   ]
  },
  {
   "cell_type": "markdown",
   "metadata": {},
   "source": [
    "### Continuous Features"
   ]
  },
  {
   "cell_type": "code",
   "execution_count": 11,
   "metadata": {},
   "outputs": [
    {
     "data": {
      "image/png": "[encoded data removed]",
      "text/plain": [
       "<Figure size 800x1000 with 1 Axes>"
      ]
     },
     "metadata": {},
     "output_type": "display_data"
    }
   ],
   "source": [
    "histogram_func(chl_dataset, \"Creatinina\", show_grid=True, ylog=True)"
   ]
  },
  {
   "cell_type": "code",
   "execution_count": 12,
   "metadata": {},
   "outputs": [
    {
     "data": {
      "image/png": "[encoded data removed]",
      "text/plain": [
       "<Figure size 800x1000 with 1 Axes>"
      ]
     },
     "metadata": {},
     "output_type": "display_data"
    }
   ],
   "source": [
    "histogram_func(chl_dataset, \"Vessels\", show_grid=True, ylog=True)"
   ]
  }
 ],
 "metadata": {
  "kernelspec": {
   "display_name": "Python 3",
   "language": "python",
   "name": "python3"
  },
  "language_info": {
   "codemirror_mode": {
    "name": "ipython",
    "version": 3
   },
   "file_extension": ".py",
   "mimetype": "text/x-python",
   "name": "python",
   "nbconvert_exporter": "python",
   "pygments_lexer": "ipython3",
   "version": "3.11.3"
  }
 },
 "nbformat": 4,
 "nbformat_minor": 2
}
